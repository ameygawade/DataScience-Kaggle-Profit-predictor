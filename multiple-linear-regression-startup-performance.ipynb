{
 "cells": [
  {
   "cell_type": "code",
   "execution_count": 1,
   "id": "6c626624",
   "metadata": {
    "_cell_guid": "b1076dfc-b9ad-4769-8c92-a6c4dae69d19",
    "_uuid": "8f2839f25d086af736a60e9eeb907d3b93b6e0e5",
    "execution": {
     "iopub.execute_input": "2024-11-20T16:44:48.420203Z",
     "iopub.status.busy": "2024-11-20T16:44:48.419722Z",
     "iopub.status.idle": "2024-11-20T16:44:49.346035Z",
     "shell.execute_reply": "2024-11-20T16:44:49.344929Z"
    },
    "papermill": {
     "duration": 0.939198,
     "end_time": "2024-11-20T16:44:49.349216",
     "exception": false,
     "start_time": "2024-11-20T16:44:48.410018",
     "status": "completed"
    },
    "tags": []
   },
   "outputs": [
    {
     "name": "stdout",
     "output_type": "stream",
     "text": [
      "/kaggle/input/50startups/50_Startups_dataset.csv\n"
     ]
    }
   ],
   "source": [
    "# This Python 3 environment comes with many helpful analytics libraries installed\n",
    "# It is defined by the kaggle/python Docker image: https://github.com/kaggle/docker-python\n",
    "# For example, here's several helpful packages to load\n",
    "\n",
    "import numpy as np # linear algebra\n",
    "import pandas as pd # data processing, CSV file I/O (e.g. pd.read_csv)\n",
    "\n",
    "# Input data files are available in the read-only \"../input/\" directory\n",
    "# For example, running this (by clicking run or pressing Shift+Enter) will list all files under the input directory\n",
    "\n",
    "import os\n",
    "for dirname, _, filenames in os.walk('/kaggle/input'):\n",
    "    for filename in filenames:\n",
    "        print(os.path.join(dirname, filename))\n",
    "\n",
    "# You can write up to 20GB to the current directory (/kaggle/working/) that gets preserved as output when you create a version using \"Save & Run All\" \n",
    "# You can also write temporary files to /kaggle/temp/, but they won't be saved outside of the current session"
   ]
  },
  {
   "cell_type": "code",
   "execution_count": 2,
   "id": "6468ee25",
   "metadata": {
    "execution": {
     "iopub.execute_input": "2024-11-20T16:44:49.368065Z",
     "iopub.status.busy": "2024-11-20T16:44:49.367514Z",
     "iopub.status.idle": "2024-11-20T16:44:49.383353Z",
     "shell.execute_reply": "2024-11-20T16:44:49.382179Z"
    },
    "papermill": {
     "duration": 0.026903,
     "end_time": "2024-11-20T16:44:49.385704",
     "exception": false,
     "start_time": "2024-11-20T16:44:49.358801",
     "status": "completed"
    },
    "tags": []
   },
   "outputs": [],
   "source": [
    "df = pd.read_csv('/kaggle/input/50startups/50_Startups_dataset.csv')"
   ]
  },
  {
   "cell_type": "code",
   "execution_count": 3,
   "id": "a78cd9c7",
   "metadata": {
    "execution": {
     "iopub.execute_input": "2024-11-20T16:44:49.402212Z",
     "iopub.status.busy": "2024-11-20T16:44:49.401802Z",
     "iopub.status.idle": "2024-11-20T16:44:49.425340Z",
     "shell.execute_reply": "2024-11-20T16:44:49.424121Z"
    },
    "papermill": {
     "duration": 0.034479,
     "end_time": "2024-11-20T16:44:49.427664",
     "exception": false,
     "start_time": "2024-11-20T16:44:49.393185",
     "status": "completed"
    },
    "tags": []
   },
   "outputs": [
    {
     "data": {
      "text/html": [
       "<div>\n",
       "<style scoped>\n",
       "    .dataframe tbody tr th:only-of-type {\n",
       "        vertical-align: middle;\n",
       "    }\n",
       "\n",
       "    .dataframe tbody tr th {\n",
       "        vertical-align: top;\n",
       "    }\n",
       "\n",
       "    .dataframe thead th {\n",
       "        text-align: right;\n",
       "    }\n",
       "</style>\n",
       "<table border=\"1\" class=\"dataframe\">\n",
       "  <thead>\n",
       "    <tr style=\"text-align: right;\">\n",
       "      <th></th>\n",
       "      <th>Unnamed: 0</th>\n",
       "      <th>R&amp;D Spend</th>\n",
       "      <th>Administration</th>\n",
       "      <th>Marketing Spend</th>\n",
       "      <th>State</th>\n",
       "      <th>Profit</th>\n",
       "    </tr>\n",
       "  </thead>\n",
       "  <tbody>\n",
       "    <tr>\n",
       "      <th>0</th>\n",
       "      <td>0</td>\n",
       "      <td>165349.30</td>\n",
       "      <td>136897.90</td>\n",
       "      <td>471784.20</td>\n",
       "      <td>New York</td>\n",
       "      <td>192261.93</td>\n",
       "    </tr>\n",
       "    <tr>\n",
       "      <th>1</th>\n",
       "      <td>1</td>\n",
       "      <td>162597.80</td>\n",
       "      <td>151377.69</td>\n",
       "      <td>443898.63</td>\n",
       "      <td>California</td>\n",
       "      <td>191792.16</td>\n",
       "    </tr>\n",
       "    <tr>\n",
       "      <th>2</th>\n",
       "      <td>2</td>\n",
       "      <td>153441.61</td>\n",
       "      <td>101145.65</td>\n",
       "      <td>407934.64</td>\n",
       "      <td>Florida</td>\n",
       "      <td>191050.49</td>\n",
       "    </tr>\n",
       "    <tr>\n",
       "      <th>3</th>\n",
       "      <td>3</td>\n",
       "      <td>144372.51</td>\n",
       "      <td>118671.95</td>\n",
       "      <td>383199.72</td>\n",
       "      <td>New York</td>\n",
       "      <td>182902.09</td>\n",
       "    </tr>\n",
       "    <tr>\n",
       "      <th>4</th>\n",
       "      <td>4</td>\n",
       "      <td>142107.44</td>\n",
       "      <td>91391.87</td>\n",
       "      <td>366168.52</td>\n",
       "      <td>Florida</td>\n",
       "      <td>166188.04</td>\n",
       "    </tr>\n",
       "  </tbody>\n",
       "</table>\n",
       "</div>"
      ],
      "text/plain": [
       "   Unnamed: 0  R&D Spend  Administration  Marketing Spend       State  \\\n",
       "0           0  165349.30       136897.90        471784.20    New York   \n",
       "1           1  162597.80       151377.69        443898.63  California   \n",
       "2           2  153441.61       101145.65        407934.64     Florida   \n",
       "3           3  144372.51       118671.95        383199.72    New York   \n",
       "4           4  142107.44        91391.87        366168.52     Florida   \n",
       "\n",
       "      Profit  \n",
       "0  192261.93  \n",
       "1  191792.16  \n",
       "2  191050.49  \n",
       "3  182902.09  \n",
       "4  166188.04  "
      ]
     },
     "execution_count": 3,
     "metadata": {},
     "output_type": "execute_result"
    }
   ],
   "source": [
    "df.head()"
   ]
  },
  {
   "cell_type": "code",
   "execution_count": 4,
   "id": "f03d51d3",
   "metadata": {
    "execution": {
     "iopub.execute_input": "2024-11-20T16:44:49.445041Z",
     "iopub.status.busy": "2024-11-20T16:44:49.444603Z",
     "iopub.status.idle": "2024-11-20T16:44:49.454398Z",
     "shell.execute_reply": "2024-11-20T16:44:49.453141Z"
    },
    "papermill": {
     "duration": 0.020606,
     "end_time": "2024-11-20T16:44:49.456683",
     "exception": false,
     "start_time": "2024-11-20T16:44:49.436077",
     "status": "completed"
    },
    "tags": []
   },
   "outputs": [],
   "source": [
    "df.drop(columns=['Unnamed: 0','State'],inplace=True)"
   ]
  },
  {
   "cell_type": "code",
   "execution_count": 5,
   "id": "e28b405d",
   "metadata": {
    "execution": {
     "iopub.execute_input": "2024-11-20T16:44:49.473297Z",
     "iopub.status.busy": "2024-11-20T16:44:49.472932Z",
     "iopub.status.idle": "2024-11-20T16:44:49.485893Z",
     "shell.execute_reply": "2024-11-20T16:44:49.484651Z"
    },
    "papermill": {
     "duration": 0.024111,
     "end_time": "2024-11-20T16:44:49.488402",
     "exception": false,
     "start_time": "2024-11-20T16:44:49.464291",
     "status": "completed"
    },
    "tags": []
   },
   "outputs": [
    {
     "data": {
      "text/html": [
       "<div>\n",
       "<style scoped>\n",
       "    .dataframe tbody tr th:only-of-type {\n",
       "        vertical-align: middle;\n",
       "    }\n",
       "\n",
       "    .dataframe tbody tr th {\n",
       "        vertical-align: top;\n",
       "    }\n",
       "\n",
       "    .dataframe thead th {\n",
       "        text-align: right;\n",
       "    }\n",
       "</style>\n",
       "<table border=\"1\" class=\"dataframe\">\n",
       "  <thead>\n",
       "    <tr style=\"text-align: right;\">\n",
       "      <th></th>\n",
       "      <th>R&amp;D Spend</th>\n",
       "      <th>Administration</th>\n",
       "      <th>Marketing Spend</th>\n",
       "      <th>Profit</th>\n",
       "    </tr>\n",
       "  </thead>\n",
       "  <tbody>\n",
       "    <tr>\n",
       "      <th>0</th>\n",
       "      <td>165349.30</td>\n",
       "      <td>136897.90</td>\n",
       "      <td>471784.20</td>\n",
       "      <td>192261.93</td>\n",
       "    </tr>\n",
       "    <tr>\n",
       "      <th>1</th>\n",
       "      <td>162597.80</td>\n",
       "      <td>151377.69</td>\n",
       "      <td>443898.63</td>\n",
       "      <td>191792.16</td>\n",
       "    </tr>\n",
       "    <tr>\n",
       "      <th>2</th>\n",
       "      <td>153441.61</td>\n",
       "      <td>101145.65</td>\n",
       "      <td>407934.64</td>\n",
       "      <td>191050.49</td>\n",
       "    </tr>\n",
       "    <tr>\n",
       "      <th>3</th>\n",
       "      <td>144372.51</td>\n",
       "      <td>118671.95</td>\n",
       "      <td>383199.72</td>\n",
       "      <td>182902.09</td>\n",
       "    </tr>\n",
       "    <tr>\n",
       "      <th>4</th>\n",
       "      <td>142107.44</td>\n",
       "      <td>91391.87</td>\n",
       "      <td>366168.52</td>\n",
       "      <td>166188.04</td>\n",
       "    </tr>\n",
       "  </tbody>\n",
       "</table>\n",
       "</div>"
      ],
      "text/plain": [
       "   R&D Spend  Administration  Marketing Spend     Profit\n",
       "0  165349.30       136897.90        471784.20  192261.93\n",
       "1  162597.80       151377.69        443898.63  191792.16\n",
       "2  153441.61       101145.65        407934.64  191050.49\n",
       "3  144372.51       118671.95        383199.72  182902.09\n",
       "4  142107.44        91391.87        366168.52  166188.04"
      ]
     },
     "execution_count": 5,
     "metadata": {},
     "output_type": "execute_result"
    }
   ],
   "source": [
    "df.head()"
   ]
  },
  {
   "cell_type": "code",
   "execution_count": 6,
   "id": "6e6663d1",
   "metadata": {
    "execution": {
     "iopub.execute_input": "2024-11-20T16:44:49.506117Z",
     "iopub.status.busy": "2024-11-20T16:44:49.505698Z",
     "iopub.status.idle": "2024-11-20T16:44:49.512803Z",
     "shell.execute_reply": "2024-11-20T16:44:49.511492Z"
    },
    "papermill": {
     "duration": 0.018349,
     "end_time": "2024-11-20T16:44:49.514927",
     "exception": false,
     "start_time": "2024-11-20T16:44:49.496578",
     "status": "completed"
    },
    "tags": []
   },
   "outputs": [
    {
     "data": {
      "text/plain": [
       "(50, 4)"
      ]
     },
     "execution_count": 6,
     "metadata": {},
     "output_type": "execute_result"
    }
   ],
   "source": [
    "df.shape"
   ]
  },
  {
   "cell_type": "code",
   "execution_count": 7,
   "id": "b82d517f",
   "metadata": {
    "execution": {
     "iopub.execute_input": "2024-11-20T16:44:49.531659Z",
     "iopub.status.busy": "2024-11-20T16:44:49.531308Z",
     "iopub.status.idle": "2024-11-20T16:44:49.556010Z",
     "shell.execute_reply": "2024-11-20T16:44:49.554806Z"
    },
    "papermill": {
     "duration": 0.035794,
     "end_time": "2024-11-20T16:44:49.558413",
     "exception": false,
     "start_time": "2024-11-20T16:44:49.522619",
     "status": "completed"
    },
    "tags": []
   },
   "outputs": [
    {
     "name": "stdout",
     "output_type": "stream",
     "text": [
      "<class 'pandas.core.frame.DataFrame'>\n",
      "RangeIndex: 50 entries, 0 to 49\n",
      "Data columns (total 4 columns):\n",
      " #   Column           Non-Null Count  Dtype  \n",
      "---  ------           --------------  -----  \n",
      " 0   R&D Spend        50 non-null     float64\n",
      " 1   Administration   50 non-null     float64\n",
      " 2   Marketing Spend  50 non-null     float64\n",
      " 3   Profit           50 non-null     float64\n",
      "dtypes: float64(4)\n",
      "memory usage: 1.7 KB\n"
     ]
    }
   ],
   "source": [
    "df.info()"
   ]
  },
  {
   "cell_type": "code",
   "execution_count": 8,
   "id": "2afb12a0",
   "metadata": {
    "execution": {
     "iopub.execute_input": "2024-11-20T16:44:49.575617Z",
     "iopub.status.busy": "2024-11-20T16:44:49.575253Z",
     "iopub.status.idle": "2024-11-20T16:44:49.583792Z",
     "shell.execute_reply": "2024-11-20T16:44:49.582624Z"
    },
    "papermill": {
     "duration": 0.01945,
     "end_time": "2024-11-20T16:44:49.585820",
     "exception": false,
     "start_time": "2024-11-20T16:44:49.566370",
     "status": "completed"
    },
    "tags": []
   },
   "outputs": [
    {
     "data": {
      "text/plain": [
       "R&D Spend          0\n",
       "Administration     0\n",
       "Marketing Spend    0\n",
       "Profit             0\n",
       "dtype: int64"
      ]
     },
     "execution_count": 8,
     "metadata": {},
     "output_type": "execute_result"
    }
   ],
   "source": [
    "df.isna().sum()"
   ]
  },
  {
   "cell_type": "code",
   "execution_count": 9,
   "id": "76cad536",
   "metadata": {
    "execution": {
     "iopub.execute_input": "2024-11-20T16:44:49.603262Z",
     "iopub.status.busy": "2024-11-20T16:44:49.602476Z",
     "iopub.status.idle": "2024-11-20T16:44:49.610728Z",
     "shell.execute_reply": "2024-11-20T16:44:49.609663Z"
    },
    "papermill": {
     "duration": 0.019293,
     "end_time": "2024-11-20T16:44:49.612878",
     "exception": false,
     "start_time": "2024-11-20T16:44:49.593585",
     "status": "completed"
    },
    "tags": []
   },
   "outputs": [
    {
     "data": {
      "text/plain": [
       "R&D Spend          0\n",
       "Administration     0\n",
       "Marketing Spend    0\n",
       "Profit             0\n",
       "dtype: int64"
      ]
     },
     "execution_count": 9,
     "metadata": {},
     "output_type": "execute_result"
    }
   ],
   "source": [
    "df.isnull().sum()"
   ]
  },
  {
   "cell_type": "code",
   "execution_count": 10,
   "id": "91635009",
   "metadata": {
    "execution": {
     "iopub.execute_input": "2024-11-20T16:44:49.631366Z",
     "iopub.status.busy": "2024-11-20T16:44:49.630373Z",
     "iopub.status.idle": "2024-11-20T16:44:49.643983Z",
     "shell.execute_reply": "2024-11-20T16:44:49.642808Z"
    },
    "papermill": {
     "duration": 0.02478,
     "end_time": "2024-11-20T16:44:49.646050",
     "exception": false,
     "start_time": "2024-11-20T16:44:49.621270",
     "status": "completed"
    },
    "tags": []
   },
   "outputs": [
    {
     "data": {
      "text/html": [
       "<div>\n",
       "<style scoped>\n",
       "    .dataframe tbody tr th:only-of-type {\n",
       "        vertical-align: middle;\n",
       "    }\n",
       "\n",
       "    .dataframe tbody tr th {\n",
       "        vertical-align: top;\n",
       "    }\n",
       "\n",
       "    .dataframe thead th {\n",
       "        text-align: right;\n",
       "    }\n",
       "</style>\n",
       "<table border=\"1\" class=\"dataframe\">\n",
       "  <thead>\n",
       "    <tr style=\"text-align: right;\">\n",
       "      <th></th>\n",
       "      <th>R&amp;D Spend</th>\n",
       "      <th>Administration</th>\n",
       "      <th>Marketing Spend</th>\n",
       "      <th>Profit</th>\n",
       "    </tr>\n",
       "  </thead>\n",
       "  <tbody>\n",
       "    <tr>\n",
       "      <th>R&amp;D Spend</th>\n",
       "      <td>1.000000</td>\n",
       "      <td>0.241955</td>\n",
       "      <td>0.724248</td>\n",
       "      <td>0.972900</td>\n",
       "    </tr>\n",
       "    <tr>\n",
       "      <th>Administration</th>\n",
       "      <td>0.241955</td>\n",
       "      <td>1.000000</td>\n",
       "      <td>-0.032154</td>\n",
       "      <td>0.200717</td>\n",
       "    </tr>\n",
       "    <tr>\n",
       "      <th>Marketing Spend</th>\n",
       "      <td>0.724248</td>\n",
       "      <td>-0.032154</td>\n",
       "      <td>1.000000</td>\n",
       "      <td>0.747766</td>\n",
       "    </tr>\n",
       "    <tr>\n",
       "      <th>Profit</th>\n",
       "      <td>0.972900</td>\n",
       "      <td>0.200717</td>\n",
       "      <td>0.747766</td>\n",
       "      <td>1.000000</td>\n",
       "    </tr>\n",
       "  </tbody>\n",
       "</table>\n",
       "</div>"
      ],
      "text/plain": [
       "                 R&D Spend  Administration  Marketing Spend    Profit\n",
       "R&D Spend         1.000000        0.241955         0.724248  0.972900\n",
       "Administration    0.241955        1.000000        -0.032154  0.200717\n",
       "Marketing Spend   0.724248       -0.032154         1.000000  0.747766\n",
       "Profit            0.972900        0.200717         0.747766  1.000000"
      ]
     },
     "execution_count": 10,
     "metadata": {},
     "output_type": "execute_result"
    }
   ],
   "source": [
    "df.corr()"
   ]
  },
  {
   "cell_type": "code",
   "execution_count": 11,
   "id": "3eaf4d83",
   "metadata": {
    "execution": {
     "iopub.execute_input": "2024-11-20T16:44:49.663425Z",
     "iopub.status.busy": "2024-11-20T16:44:49.663075Z",
     "iopub.status.idle": "2024-11-20T16:44:55.798822Z",
     "shell.execute_reply": "2024-11-20T16:44:55.797652Z"
    },
    "papermill": {
     "duration": 6.147873,
     "end_time": "2024-11-20T16:44:55.801870",
     "exception": false,
     "start_time": "2024-11-20T16:44:49.653997",
     "status": "completed"
    },
    "tags": []
   },
   "outputs": [
    {
     "name": "stderr",
     "output_type": "stream",
     "text": [
      "/opt/conda/lib/python3.10/site-packages/seaborn/_oldcore.py:1119: FutureWarning: use_inf_as_na option is deprecated and will be removed in a future version. Convert inf values to NaN before operating instead.\n",
      "  with pd.option_context('mode.use_inf_as_na', True):\n",
      "/opt/conda/lib/python3.10/site-packages/seaborn/_oldcore.py:1119: FutureWarning: use_inf_as_na option is deprecated and will be removed in a future version. Convert inf values to NaN before operating instead.\n",
      "  with pd.option_context('mode.use_inf_as_na', True):\n",
      "/opt/conda/lib/python3.10/site-packages/seaborn/_oldcore.py:1119: FutureWarning: use_inf_as_na option is deprecated and will be removed in a future version. Convert inf values to NaN before operating instead.\n",
      "  with pd.option_context('mode.use_inf_as_na', True):\n",
      "/opt/conda/lib/python3.10/site-packages/seaborn/_oldcore.py:1119: FutureWarning: use_inf_as_na option is deprecated and will be removed in a future version. Convert inf values to NaN before operating instead.\n",
      "  with pd.option_context('mode.use_inf_as_na', True):\n"
     ]
    },
    {
     "data": {
      "text/plain": [
       "<seaborn.axisgrid.PairGrid at 0x7a5565f8f7c0>"
      ]
     },
     "execution_count": 11,
     "metadata": {},
     "output_type": "execute_result"
    },
    {
     "data": {
      "image/png": "[encoded data removed]",
      "text/plain": [
       "<Figure size 1000x1000 with 20 Axes>"
      ]
     },
     "metadata": {},
     "output_type": "display_data"
    }
   ],
   "source": [
    "import seaborn as sns\n",
    "sns.pairplot(df)"
   ]
  },
  {
   "cell_type": "code",
   "execution_count": 12,
   "id": "605e96bc",
   "metadata": {
    "execution": {
     "iopub.execute_input": "2024-11-20T16:44:55.823373Z",
     "iopub.status.busy": "2024-11-20T16:44:55.822430Z",
     "iopub.status.idle": "2024-11-20T16:44:55.829065Z",
     "shell.execute_reply": "2024-11-20T16:44:55.827941Z"
    },
    "papermill": {
     "duration": 0.019906,
     "end_time": "2024-11-20T16:44:55.831492",
     "exception": false,
     "start_time": "2024-11-20T16:44:55.811586",
     "status": "completed"
    },
    "tags": []
   },
   "outputs": [],
   "source": [
    "X= df[['R&D Spend','Administration','Marketing Spend']]"
   ]
  },
  {
   "cell_type": "code",
   "execution_count": 13,
   "id": "e7335aa1",
   "metadata": {
    "execution": {
     "iopub.execute_input": "2024-11-20T16:44:55.852164Z",
     "iopub.status.busy": "2024-11-20T16:44:55.851708Z",
     "iopub.status.idle": "2024-11-20T16:44:55.870397Z",
     "shell.execute_reply": "2024-11-20T16:44:55.869318Z"
    },
    "papermill": {
     "duration": 0.031505,
     "end_time": "2024-11-20T16:44:55.872579",
     "exception": false,
     "start_time": "2024-11-20T16:44:55.841074",
     "status": "completed"
    },
    "tags": []
   },
   "outputs": [
    {
     "data": {
      "text/html": [
       "<div>\n",
       "<style scoped>\n",
       "    .dataframe tbody tr th:only-of-type {\n",
       "        vertical-align: middle;\n",
       "    }\n",
       "\n",
       "    .dataframe tbody tr th {\n",
       "        vertical-align: top;\n",
       "    }\n",
       "\n",
       "    .dataframe thead th {\n",
       "        text-align: right;\n",
       "    }\n",
       "</style>\n",
       "<table border=\"1\" class=\"dataframe\">\n",
       "  <thead>\n",
       "    <tr style=\"text-align: right;\">\n",
       "      <th></th>\n",
       "      <th>R&amp;D Spend</th>\n",
       "      <th>Administration</th>\n",
       "      <th>Marketing Spend</th>\n",
       "    </tr>\n",
       "  </thead>\n",
       "  <tbody>\n",
       "    <tr>\n",
       "      <th>0</th>\n",
       "      <td>165349.30</td>\n",
       "      <td>136897.90</td>\n",
       "      <td>471784.20</td>\n",
       "    </tr>\n",
       "    <tr>\n",
       "      <th>1</th>\n",
       "      <td>162597.80</td>\n",
       "      <td>151377.69</td>\n",
       "      <td>443898.63</td>\n",
       "    </tr>\n",
       "    <tr>\n",
       "      <th>2</th>\n",
       "      <td>153441.61</td>\n",
       "      <td>101145.65</td>\n",
       "      <td>407934.64</td>\n",
       "    </tr>\n",
       "    <tr>\n",
       "      <th>3</th>\n",
       "      <td>144372.51</td>\n",
       "      <td>118671.95</td>\n",
       "      <td>383199.72</td>\n",
       "    </tr>\n",
       "    <tr>\n",
       "      <th>4</th>\n",
       "      <td>142107.44</td>\n",
       "      <td>91391.87</td>\n",
       "      <td>366168.52</td>\n",
       "    </tr>\n",
       "    <tr>\n",
       "      <th>5</th>\n",
       "      <td>131877.00</td>\n",
       "      <td>99814.81</td>\n",
       "      <td>362861.46</td>\n",
       "    </tr>\n",
       "    <tr>\n",
       "      <th>6</th>\n",
       "      <td>134615.56</td>\n",
       "      <td>147198.97</td>\n",
       "      <td>127716.92</td>\n",
       "    </tr>\n",
       "    <tr>\n",
       "      <th>7</th>\n",
       "      <td>130298.23</td>\n",
       "      <td>145530.16</td>\n",
       "      <td>323876.78</td>\n",
       "    </tr>\n",
       "    <tr>\n",
       "      <th>8</th>\n",
       "      <td>120542.62</td>\n",
       "      <td>148719.05</td>\n",
       "      <td>311613.39</td>\n",
       "    </tr>\n",
       "    <tr>\n",
       "      <th>9</th>\n",
       "      <td>123334.98</td>\n",
       "      <td>108679.27</td>\n",
       "      <td>304981.72</td>\n",
       "    </tr>\n",
       "    <tr>\n",
       "      <th>10</th>\n",
       "      <td>101913.18</td>\n",
       "      <td>110594.21</td>\n",
       "      <td>229161.05</td>\n",
       "    </tr>\n",
       "    <tr>\n",
       "      <th>11</th>\n",
       "      <td>100672.06</td>\n",
       "      <td>91790.71</td>\n",
       "      <td>249744.65</td>\n",
       "    </tr>\n",
       "    <tr>\n",
       "      <th>12</th>\n",
       "      <td>93863.85</td>\n",
       "      <td>127320.48</td>\n",
       "      <td>249839.54</td>\n",
       "    </tr>\n",
       "    <tr>\n",
       "      <th>13</th>\n",
       "      <td>91992.49</td>\n",
       "      <td>135495.17</td>\n",
       "      <td>252665.03</td>\n",
       "    </tr>\n",
       "    <tr>\n",
       "      <th>14</th>\n",
       "      <td>119943.34</td>\n",
       "      <td>156547.52</td>\n",
       "      <td>256513.02</td>\n",
       "    </tr>\n",
       "    <tr>\n",
       "      <th>15</th>\n",
       "      <td>114523.71</td>\n",
       "      <td>122616.94</td>\n",
       "      <td>261776.33</td>\n",
       "    </tr>\n",
       "    <tr>\n",
       "      <th>16</th>\n",
       "      <td>78013.21</td>\n",
       "      <td>121597.65</td>\n",
       "      <td>264346.16</td>\n",
       "    </tr>\n",
       "    <tr>\n",
       "      <th>17</th>\n",
       "      <td>94657.26</td>\n",
       "      <td>145077.68</td>\n",
       "      <td>282574.41</td>\n",
       "    </tr>\n",
       "    <tr>\n",
       "      <th>18</th>\n",
       "      <td>91749.26</td>\n",
       "      <td>114175.89</td>\n",
       "      <td>294919.67</td>\n",
       "    </tr>\n",
       "    <tr>\n",
       "      <th>19</th>\n",
       "      <td>86419.80</td>\n",
       "      <td>153514.21</td>\n",
       "      <td>0.10</td>\n",
       "    </tr>\n",
       "    <tr>\n",
       "      <th>20</th>\n",
       "      <td>76253.96</td>\n",
       "      <td>113867.40</td>\n",
       "      <td>298664.57</td>\n",
       "    </tr>\n",
       "    <tr>\n",
       "      <th>21</th>\n",
       "      <td>78389.57</td>\n",
       "      <td>153773.53</td>\n",
       "      <td>299737.39</td>\n",
       "    </tr>\n",
       "    <tr>\n",
       "      <th>22</th>\n",
       "      <td>73994.66</td>\n",
       "      <td>122782.85</td>\n",
       "      <td>303319.36</td>\n",
       "    </tr>\n",
       "    <tr>\n",
       "      <th>23</th>\n",
       "      <td>67532.63</td>\n",
       "      <td>105751.13</td>\n",
       "      <td>304768.83</td>\n",
       "    </tr>\n",
       "    <tr>\n",
       "      <th>24</th>\n",
       "      <td>77044.11</td>\n",
       "      <td>99281.44</td>\n",
       "      <td>140574.91</td>\n",
       "    </tr>\n",
       "    <tr>\n",
       "      <th>25</th>\n",
       "      <td>64664.81</td>\n",
       "      <td>139553.26</td>\n",
       "      <td>137962.72</td>\n",
       "    </tr>\n",
       "    <tr>\n",
       "      <th>26</th>\n",
       "      <td>75328.97</td>\n",
       "      <td>144136.08</td>\n",
       "      <td>134050.17</td>\n",
       "    </tr>\n",
       "    <tr>\n",
       "      <th>27</th>\n",
       "      <td>72107.70</td>\n",
       "      <td>127864.65</td>\n",
       "      <td>353183.91</td>\n",
       "    </tr>\n",
       "    <tr>\n",
       "      <th>28</th>\n",
       "      <td>66051.62</td>\n",
       "      <td>182645.66</td>\n",
       "      <td>118148.30</td>\n",
       "    </tr>\n",
       "    <tr>\n",
       "      <th>29</th>\n",
       "      <td>65605.58</td>\n",
       "      <td>153032.16</td>\n",
       "      <td>107138.48</td>\n",
       "    </tr>\n",
       "    <tr>\n",
       "      <th>30</th>\n",
       "      <td>61994.58</td>\n",
       "      <td>115641.38</td>\n",
       "      <td>91131.34</td>\n",
       "    </tr>\n",
       "    <tr>\n",
       "      <th>31</th>\n",
       "      <td>61136.48</td>\n",
       "      <td>152702.02</td>\n",
       "      <td>88218.33</td>\n",
       "    </tr>\n",
       "    <tr>\n",
       "      <th>32</th>\n",
       "      <td>63408.96</td>\n",
       "      <td>129219.71</td>\n",
       "      <td>46085.35</td>\n",
       "    </tr>\n",
       "    <tr>\n",
       "      <th>33</th>\n",
       "      <td>55494.05</td>\n",
       "      <td>103057.59</td>\n",
       "      <td>214634.91</td>\n",
       "    </tr>\n",
       "    <tr>\n",
       "      <th>34</th>\n",
       "      <td>46426.17</td>\n",
       "      <td>157694.02</td>\n",
       "      <td>210797.77</td>\n",
       "    </tr>\n",
       "    <tr>\n",
       "      <th>35</th>\n",
       "      <td>46014.12</td>\n",
       "      <td>85047.54</td>\n",
       "      <td>205517.74</td>\n",
       "    </tr>\n",
       "    <tr>\n",
       "      <th>36</th>\n",
       "      <td>28663.86</td>\n",
       "      <td>127056.31</td>\n",
       "      <td>201126.92</td>\n",
       "    </tr>\n",
       "    <tr>\n",
       "      <th>37</th>\n",
       "      <td>44070.05</td>\n",
       "      <td>51283.24</td>\n",
       "      <td>197029.52</td>\n",
       "    </tr>\n",
       "    <tr>\n",
       "      <th>38</th>\n",
       "      <td>20229.69</td>\n",
       "      <td>65948.03</td>\n",
       "      <td>185265.20</td>\n",
       "    </tr>\n",
       "    <tr>\n",
       "      <th>39</th>\n",
       "      <td>38558.61</td>\n",
       "      <td>82982.19</td>\n",
       "      <td>174999.40</td>\n",
       "    </tr>\n",
       "    <tr>\n",
       "      <th>40</th>\n",
       "      <td>28754.43</td>\n",
       "      <td>118546.15</td>\n",
       "      <td>172795.77</td>\n",
       "    </tr>\n",
       "    <tr>\n",
       "      <th>41</th>\n",
       "      <td>27893.02</td>\n",
       "      <td>84710.87</td>\n",
       "      <td>164470.81</td>\n",
       "    </tr>\n",
       "    <tr>\n",
       "      <th>42</th>\n",
       "      <td>23641.03</td>\n",
       "      <td>96189.73</td>\n",
       "      <td>148001.21</td>\n",
       "    </tr>\n",
       "    <tr>\n",
       "      <th>43</th>\n",
       "      <td>15505.83</td>\n",
       "      <td>127382.40</td>\n",
       "      <td>35534.27</td>\n",
       "    </tr>\n",
       "    <tr>\n",
       "      <th>44</th>\n",
       "      <td>22177.84</td>\n",
       "      <td>154806.24</td>\n",
       "      <td>28334.82</td>\n",
       "    </tr>\n",
       "    <tr>\n",
       "      <th>45</th>\n",
       "      <td>1000.33</td>\n",
       "      <td>124153.14</td>\n",
       "      <td>1904.03</td>\n",
       "    </tr>\n",
       "    <tr>\n",
       "      <th>46</th>\n",
       "      <td>1315.56</td>\n",
       "      <td>115816.31</td>\n",
       "      <td>297114.56</td>\n",
       "    </tr>\n",
       "    <tr>\n",
       "      <th>47</th>\n",
       "      <td>0.10</td>\n",
       "      <td>135427.02</td>\n",
       "      <td>0.10</td>\n",
       "    </tr>\n",
       "    <tr>\n",
       "      <th>48</th>\n",
       "      <td>542.15</td>\n",
       "      <td>51743.25</td>\n",
       "      <td>0.10</td>\n",
       "    </tr>\n",
       "    <tr>\n",
       "      <th>49</th>\n",
       "      <td>0.10</td>\n",
       "      <td>116983.90</td>\n",
       "      <td>45173.16</td>\n",
       "    </tr>\n",
       "  </tbody>\n",
       "</table>\n",
       "</div>"
      ],
      "text/plain": [
       "    R&D Spend  Administration  Marketing Spend\n",
       "0   165349.30       136897.90        471784.20\n",
       "1   162597.80       151377.69        443898.63\n",
       "2   153441.61       101145.65        407934.64\n",
       "3   144372.51       118671.95        383199.72\n",
       "4   142107.44        91391.87        366168.52\n",
       "5   131877.00        99814.81        362861.46\n",
       "6   134615.56       147198.97        127716.92\n",
       "7   130298.23       145530.16        323876.78\n",
       "8   120542.62       148719.05        311613.39\n",
       "9   123334.98       108679.27        304981.72\n",
       "10  101913.18       110594.21        229161.05\n",
       "11  100672.06        91790.71        249744.65\n",
       "12   93863.85       127320.48        249839.54\n",
       "13   91992.49       135495.17        252665.03\n",
       "14  119943.34       156547.52        256513.02\n",
       "15  114523.71       122616.94        261776.33\n",
       "16   78013.21       121597.65        264346.16\n",
       "17   94657.26       145077.68        282574.41\n",
       "18   91749.26       114175.89        294919.67\n",
       "19   86419.80       153514.21             0.10\n",
       "20   76253.96       113867.40        298664.57\n",
       "21   78389.57       153773.53        299737.39\n",
       "22   73994.66       122782.85        303319.36\n",
       "23   67532.63       105751.13        304768.83\n",
       "24   77044.11        99281.44        140574.91\n",
       "25   64664.81       139553.26        137962.72\n",
       "26   75328.97       144136.08        134050.17\n",
       "27   72107.70       127864.65        353183.91\n",
       "28   66051.62       182645.66        118148.30\n",
       "29   65605.58       153032.16        107138.48\n",
       "30   61994.58       115641.38         91131.34\n",
       "31   61136.48       152702.02         88218.33\n",
       "32   63408.96       129219.71         46085.35\n",
       "33   55494.05       103057.59        214634.91\n",
       "34   46426.17       157694.02        210797.77\n",
       "35   46014.12        85047.54        205517.74\n",
       "36   28663.86       127056.31        201126.92\n",
       "37   44070.05        51283.24        197029.52\n",
       "38   20229.69        65948.03        185265.20\n",
       "39   38558.61        82982.19        174999.40\n",
       "40   28754.43       118546.15        172795.77\n",
       "41   27893.02        84710.87        164470.81\n",
       "42   23641.03        96189.73        148001.21\n",
       "43   15505.83       127382.40         35534.27\n",
       "44   22177.84       154806.24         28334.82\n",
       "45    1000.33       124153.14          1904.03\n",
       "46    1315.56       115816.31        297114.56\n",
       "47       0.10       135427.02             0.10\n",
       "48     542.15        51743.25             0.10\n",
       "49       0.10       116983.90         45173.16"
      ]
     },
     "execution_count": 13,
     "metadata": {},
     "output_type": "execute_result"
    }
   ],
   "source": [
    "X"
   ]
  },
  {
   "cell_type": "code",
   "execution_count": 14,
   "id": "5fb022ae",
   "metadata": {
    "execution": {
     "iopub.execute_input": "2024-11-20T16:44:55.894115Z",
     "iopub.status.busy": "2024-11-20T16:44:55.893710Z",
     "iopub.status.idle": "2024-11-20T16:44:55.900606Z",
     "shell.execute_reply": "2024-11-20T16:44:55.899553Z"
    },
    "papermill": {
     "duration": 0.019926,
     "end_time": "2024-11-20T16:44:55.902643",
     "exception": false,
     "start_time": "2024-11-20T16:44:55.882717",
     "status": "completed"
    },
    "tags": []
   },
   "outputs": [
    {
     "data": {
      "text/plain": [
       "(50, 3)"
      ]
     },
     "execution_count": 14,
     "metadata": {},
     "output_type": "execute_result"
    }
   ],
   "source": [
    "X.shape"
   ]
  },
  {
   "cell_type": "code",
   "execution_count": 15,
   "id": "9ea3b107",
   "metadata": {
    "execution": {
     "iopub.execute_input": "2024-11-20T16:44:55.925402Z",
     "iopub.status.busy": "2024-11-20T16:44:55.925053Z",
     "iopub.status.idle": "2024-11-20T16:44:55.930251Z",
     "shell.execute_reply": "2024-11-20T16:44:55.928989Z"
    },
    "papermill": {
     "duration": 0.019397,
     "end_time": "2024-11-20T16:44:55.932597",
     "exception": false,
     "start_time": "2024-11-20T16:44:55.913200",
     "status": "completed"
    },
    "tags": []
   },
   "outputs": [],
   "source": [
    "y = df['Profit']"
   ]
  },
  {
   "cell_type": "code",
   "execution_count": 16,
   "id": "748bb59d",
   "metadata": {
    "execution": {
     "iopub.execute_input": "2024-11-20T16:44:55.954636Z",
     "iopub.status.busy": "2024-11-20T16:44:55.954263Z",
     "iopub.status.idle": "2024-11-20T16:44:55.963848Z",
     "shell.execute_reply": "2024-11-20T16:44:55.962548Z"
    },
    "papermill": {
     "duration": 0.02353,
     "end_time": "2024-11-20T16:44:55.966442",
     "exception": false,
     "start_time": "2024-11-20T16:44:55.942912",
     "status": "completed"
    },
    "tags": []
   },
   "outputs": [
    {
     "data": {
      "text/plain": [
       "0     192261.93\n",
       "1     191792.16\n",
       "2     191050.49\n",
       "3     182902.09\n",
       "4     166188.04\n",
       "5     156991.22\n",
       "6     156122.61\n",
       "7     155752.70\n",
       "8     152211.87\n",
       "9     149760.06\n",
       "10    146122.05\n",
       "11    144259.50\n",
       "12    141585.62\n",
       "13    134307.45\n",
       "14    132602.75\n",
       "15    129917.14\n",
       "16    126993.03\n",
       "17    125370.47\n",
       "18    124267.00\n",
       "19    122776.96\n",
       "20    118474.13\n",
       "21    111313.12\n",
       "22    110352.35\n",
       "23    108734.09\n",
       "24    108552.14\n",
       "25    107404.44\n",
       "26    105733.64\n",
       "27    105008.41\n",
       "28    103282.48\n",
       "29    101004.74\n",
       "30     99937.69\n",
       "31     97483.66\n",
       "32     97427.94\n",
       "33     96779.02\n",
       "34     96712.90\n",
       "35     96479.61\n",
       "36     90708.29\n",
       "37     89949.24\n",
       "38     81229.16\n",
       "39     81005.86\n",
       "40     78240.01\n",
       "41     77798.93\n",
       "42     71498.59\n",
       "43     69759.08\n",
       "44     65200.43\n",
       "45     64926.18\n",
       "46     49490.85\n",
       "47     42559.83\n",
       "48     35673.51\n",
       "49     14681.50\n",
       "Name: Profit, dtype: float64"
      ]
     },
     "execution_count": 16,
     "metadata": {},
     "output_type": "execute_result"
    }
   ],
   "source": [
    "y"
   ]
  },
  {
   "cell_type": "code",
   "execution_count": 17,
   "id": "da45c029",
   "metadata": {
    "execution": {
     "iopub.execute_input": "2024-11-20T16:44:55.989395Z",
     "iopub.status.busy": "2024-11-20T16:44:55.989046Z",
     "iopub.status.idle": "2024-11-20T16:44:55.995838Z",
     "shell.execute_reply": "2024-11-20T16:44:55.994541Z"
    },
    "papermill": {
     "duration": 0.020544,
     "end_time": "2024-11-20T16:44:55.998072",
     "exception": false,
     "start_time": "2024-11-20T16:44:55.977528",
     "status": "completed"
    },
    "tags": []
   },
   "outputs": [
    {
     "data": {
      "text/plain": [
       "(50,)"
      ]
     },
     "execution_count": 17,
     "metadata": {},
     "output_type": "execute_result"
    }
   ],
   "source": [
    "y.shape"
   ]
  },
  {
   "cell_type": "code",
   "execution_count": 18,
   "id": "8277df7d",
   "metadata": {
    "execution": {
     "iopub.execute_input": "2024-11-20T16:44:56.023117Z",
     "iopub.status.busy": "2024-11-20T16:44:56.022690Z",
     "iopub.status.idle": "2024-11-20T16:44:56.314244Z",
     "shell.execute_reply": "2024-11-20T16:44:56.312966Z"
    },
    "papermill": {
     "duration": 0.306224,
     "end_time": "2024-11-20T16:44:56.316808",
     "exception": false,
     "start_time": "2024-11-20T16:44:56.010584",
     "status": "completed"
    },
    "tags": []
   },
   "outputs": [],
   "source": [
    "from sklearn.model_selection import train_test_split\n",
    "X_train,X_test,y_train,y_test = train_test_split(X,y,test_size=0.25,random_state=42)"
   ]
  },
  {
   "cell_type": "code",
   "execution_count": 19,
   "id": "af1cf7e1",
   "metadata": {
    "execution": {
     "iopub.execute_input": "2024-11-20T16:44:56.341162Z",
     "iopub.status.busy": "2024-11-20T16:44:56.340718Z",
     "iopub.status.idle": "2024-11-20T16:44:56.358760Z",
     "shell.execute_reply": "2024-11-20T16:44:56.357622Z"
    },
    "papermill": {
     "duration": 0.033641,
     "end_time": "2024-11-20T16:44:56.360842",
     "exception": false,
     "start_time": "2024-11-20T16:44:56.327201",
     "status": "completed"
    },
    "tags": []
   },
   "outputs": [
    {
     "data": {
      "text/html": [
       "<div>\n",
       "<style scoped>\n",
       "    .dataframe tbody tr th:only-of-type {\n",
       "        vertical-align: middle;\n",
       "    }\n",
       "\n",
       "    .dataframe tbody tr th {\n",
       "        vertical-align: top;\n",
       "    }\n",
       "\n",
       "    .dataframe thead th {\n",
       "        text-align: right;\n",
       "    }\n",
       "</style>\n",
       "<table border=\"1\" class=\"dataframe\">\n",
       "  <thead>\n",
       "    <tr style=\"text-align: right;\">\n",
       "      <th></th>\n",
       "      <th>R&amp;D Spend</th>\n",
       "      <th>Administration</th>\n",
       "      <th>Marketing Spend</th>\n",
       "    </tr>\n",
       "  </thead>\n",
       "  <tbody>\n",
       "    <tr>\n",
       "      <th>8</th>\n",
       "      <td>120542.62</td>\n",
       "      <td>148719.05</td>\n",
       "      <td>311613.39</td>\n",
       "    </tr>\n",
       "    <tr>\n",
       "      <th>3</th>\n",
       "      <td>144372.51</td>\n",
       "      <td>118671.95</td>\n",
       "      <td>383199.72</td>\n",
       "    </tr>\n",
       "    <tr>\n",
       "      <th>6</th>\n",
       "      <td>134615.56</td>\n",
       "      <td>147198.97</td>\n",
       "      <td>127716.92</td>\n",
       "    </tr>\n",
       "    <tr>\n",
       "      <th>41</th>\n",
       "      <td>27893.02</td>\n",
       "      <td>84710.87</td>\n",
       "      <td>164470.81</td>\n",
       "    </tr>\n",
       "    <tr>\n",
       "      <th>46</th>\n",
       "      <td>1315.56</td>\n",
       "      <td>115816.31</td>\n",
       "      <td>297114.56</td>\n",
       "    </tr>\n",
       "    <tr>\n",
       "      <th>47</th>\n",
       "      <td>0.10</td>\n",
       "      <td>135427.02</td>\n",
       "      <td>0.10</td>\n",
       "    </tr>\n",
       "    <tr>\n",
       "      <th>15</th>\n",
       "      <td>114523.71</td>\n",
       "      <td>122616.94</td>\n",
       "      <td>261776.33</td>\n",
       "    </tr>\n",
       "    <tr>\n",
       "      <th>9</th>\n",
       "      <td>123334.98</td>\n",
       "      <td>108679.27</td>\n",
       "      <td>304981.72</td>\n",
       "    </tr>\n",
       "    <tr>\n",
       "      <th>16</th>\n",
       "      <td>78013.21</td>\n",
       "      <td>121597.65</td>\n",
       "      <td>264346.16</td>\n",
       "    </tr>\n",
       "    <tr>\n",
       "      <th>24</th>\n",
       "      <td>77044.11</td>\n",
       "      <td>99281.44</td>\n",
       "      <td>140574.91</td>\n",
       "    </tr>\n",
       "    <tr>\n",
       "      <th>34</th>\n",
       "      <td>46426.17</td>\n",
       "      <td>157694.02</td>\n",
       "      <td>210797.77</td>\n",
       "    </tr>\n",
       "    <tr>\n",
       "      <th>31</th>\n",
       "      <td>61136.48</td>\n",
       "      <td>152702.02</td>\n",
       "      <td>88218.33</td>\n",
       "    </tr>\n",
       "    <tr>\n",
       "      <th>0</th>\n",
       "      <td>165349.30</td>\n",
       "      <td>136897.90</td>\n",
       "      <td>471784.20</td>\n",
       "    </tr>\n",
       "    <tr>\n",
       "      <th>44</th>\n",
       "      <td>22177.84</td>\n",
       "      <td>154806.24</td>\n",
       "      <td>28334.82</td>\n",
       "    </tr>\n",
       "    <tr>\n",
       "      <th>27</th>\n",
       "      <td>72107.70</td>\n",
       "      <td>127864.65</td>\n",
       "      <td>353183.91</td>\n",
       "    </tr>\n",
       "    <tr>\n",
       "      <th>33</th>\n",
       "      <td>55494.05</td>\n",
       "      <td>103057.59</td>\n",
       "      <td>214634.91</td>\n",
       "    </tr>\n",
       "    <tr>\n",
       "      <th>5</th>\n",
       "      <td>131877.00</td>\n",
       "      <td>99814.81</td>\n",
       "      <td>362861.46</td>\n",
       "    </tr>\n",
       "    <tr>\n",
       "      <th>29</th>\n",
       "      <td>65605.58</td>\n",
       "      <td>153032.16</td>\n",
       "      <td>107138.48</td>\n",
       "    </tr>\n",
       "    <tr>\n",
       "      <th>11</th>\n",
       "      <td>100672.06</td>\n",
       "      <td>91790.71</td>\n",
       "      <td>249744.65</td>\n",
       "    </tr>\n",
       "    <tr>\n",
       "      <th>36</th>\n",
       "      <td>28663.86</td>\n",
       "      <td>127056.31</td>\n",
       "      <td>201126.92</td>\n",
       "    </tr>\n",
       "    <tr>\n",
       "      <th>1</th>\n",
       "      <td>162597.80</td>\n",
       "      <td>151377.69</td>\n",
       "      <td>443898.63</td>\n",
       "    </tr>\n",
       "    <tr>\n",
       "      <th>21</th>\n",
       "      <td>78389.57</td>\n",
       "      <td>153773.53</td>\n",
       "      <td>299737.39</td>\n",
       "    </tr>\n",
       "    <tr>\n",
       "      <th>2</th>\n",
       "      <td>153441.61</td>\n",
       "      <td>101145.65</td>\n",
       "      <td>407934.64</td>\n",
       "    </tr>\n",
       "    <tr>\n",
       "      <th>43</th>\n",
       "      <td>15505.83</td>\n",
       "      <td>127382.40</td>\n",
       "      <td>35534.27</td>\n",
       "    </tr>\n",
       "    <tr>\n",
       "      <th>35</th>\n",
       "      <td>46014.12</td>\n",
       "      <td>85047.54</td>\n",
       "      <td>205517.74</td>\n",
       "    </tr>\n",
       "    <tr>\n",
       "      <th>23</th>\n",
       "      <td>67532.63</td>\n",
       "      <td>105751.13</td>\n",
       "      <td>304768.83</td>\n",
       "    </tr>\n",
       "    <tr>\n",
       "      <th>40</th>\n",
       "      <td>28754.43</td>\n",
       "      <td>118546.15</td>\n",
       "      <td>172795.77</td>\n",
       "    </tr>\n",
       "    <tr>\n",
       "      <th>10</th>\n",
       "      <td>101913.18</td>\n",
       "      <td>110594.21</td>\n",
       "      <td>229161.05</td>\n",
       "    </tr>\n",
       "    <tr>\n",
       "      <th>22</th>\n",
       "      <td>73994.66</td>\n",
       "      <td>122782.85</td>\n",
       "      <td>303319.36</td>\n",
       "    </tr>\n",
       "    <tr>\n",
       "      <th>18</th>\n",
       "      <td>91749.26</td>\n",
       "      <td>114175.89</td>\n",
       "      <td>294919.67</td>\n",
       "    </tr>\n",
       "    <tr>\n",
       "      <th>49</th>\n",
       "      <td>0.10</td>\n",
       "      <td>116983.90</td>\n",
       "      <td>45173.16</td>\n",
       "    </tr>\n",
       "    <tr>\n",
       "      <th>20</th>\n",
       "      <td>76253.96</td>\n",
       "      <td>113867.40</td>\n",
       "      <td>298664.57</td>\n",
       "    </tr>\n",
       "    <tr>\n",
       "      <th>7</th>\n",
       "      <td>130298.23</td>\n",
       "      <td>145530.16</td>\n",
       "      <td>323876.78</td>\n",
       "    </tr>\n",
       "    <tr>\n",
       "      <th>42</th>\n",
       "      <td>23641.03</td>\n",
       "      <td>96189.73</td>\n",
       "      <td>148001.21</td>\n",
       "    </tr>\n",
       "    <tr>\n",
       "      <th>14</th>\n",
       "      <td>119943.34</td>\n",
       "      <td>156547.52</td>\n",
       "      <td>256513.02</td>\n",
       "    </tr>\n",
       "    <tr>\n",
       "      <th>28</th>\n",
       "      <td>66051.62</td>\n",
       "      <td>182645.66</td>\n",
       "      <td>118148.30</td>\n",
       "    </tr>\n",
       "    <tr>\n",
       "      <th>38</th>\n",
       "      <td>20229.69</td>\n",
       "      <td>65948.03</td>\n",
       "      <td>185265.20</td>\n",
       "    </tr>\n",
       "  </tbody>\n",
       "</table>\n",
       "</div>"
      ],
      "text/plain": [
       "    R&D Spend  Administration  Marketing Spend\n",
       "8   120542.62       148719.05        311613.39\n",
       "3   144372.51       118671.95        383199.72\n",
       "6   134615.56       147198.97        127716.92\n",
       "41   27893.02        84710.87        164470.81\n",
       "46    1315.56       115816.31        297114.56\n",
       "47       0.10       135427.02             0.10\n",
       "15  114523.71       122616.94        261776.33\n",
       "9   123334.98       108679.27        304981.72\n",
       "16   78013.21       121597.65        264346.16\n",
       "24   77044.11        99281.44        140574.91\n",
       "34   46426.17       157694.02        210797.77\n",
       "31   61136.48       152702.02         88218.33\n",
       "0   165349.30       136897.90        471784.20\n",
       "44   22177.84       154806.24         28334.82\n",
       "27   72107.70       127864.65        353183.91\n",
       "33   55494.05       103057.59        214634.91\n",
       "5   131877.00        99814.81        362861.46\n",
       "29   65605.58       153032.16        107138.48\n",
       "11  100672.06        91790.71        249744.65\n",
       "36   28663.86       127056.31        201126.92\n",
       "1   162597.80       151377.69        443898.63\n",
       "21   78389.57       153773.53        299737.39\n",
       "2   153441.61       101145.65        407934.64\n",
       "43   15505.83       127382.40         35534.27\n",
       "35   46014.12        85047.54        205517.74\n",
       "23   67532.63       105751.13        304768.83\n",
       "40   28754.43       118546.15        172795.77\n",
       "10  101913.18       110594.21        229161.05\n",
       "22   73994.66       122782.85        303319.36\n",
       "18   91749.26       114175.89        294919.67\n",
       "49       0.10       116983.90         45173.16\n",
       "20   76253.96       113867.40        298664.57\n",
       "7   130298.23       145530.16        323876.78\n",
       "42   23641.03        96189.73        148001.21\n",
       "14  119943.34       156547.52        256513.02\n",
       "28   66051.62       182645.66        118148.30\n",
       "38   20229.69        65948.03        185265.20"
      ]
     },
     "execution_count": 19,
     "metadata": {},
     "output_type": "execute_result"
    }
   ],
   "source": [
    "X_train"
   ]
  },
  {
   "cell_type": "code",
   "execution_count": 20,
   "id": "f80741c3",
   "metadata": {
    "execution": {
     "iopub.execute_input": "2024-11-20T16:44:56.383878Z",
     "iopub.status.busy": "2024-11-20T16:44:56.383382Z",
     "iopub.status.idle": "2024-11-20T16:44:56.390352Z",
     "shell.execute_reply": "2024-11-20T16:44:56.389288Z"
    },
    "papermill": {
     "duration": 0.020998,
     "end_time": "2024-11-20T16:44:56.392553",
     "exception": false,
     "start_time": "2024-11-20T16:44:56.371555",
     "status": "completed"
    },
    "tags": []
   },
   "outputs": [
    {
     "data": {
      "text/plain": [
       "(37, 3)"
      ]
     },
     "execution_count": 20,
     "metadata": {},
     "output_type": "execute_result"
    }
   ],
   "source": [
    "X_train.shape"
   ]
  },
  {
   "cell_type": "code",
   "execution_count": 21,
   "id": "42a82b5f",
   "metadata": {
    "execution": {
     "iopub.execute_input": "2024-11-20T16:44:56.417146Z",
     "iopub.status.busy": "2024-11-20T16:44:56.416700Z",
     "iopub.status.idle": "2024-11-20T16:44:56.426455Z",
     "shell.execute_reply": "2024-11-20T16:44:56.425339Z"
    },
    "papermill": {
     "duration": 0.024398,
     "end_time": "2024-11-20T16:44:56.428762",
     "exception": false,
     "start_time": "2024-11-20T16:44:56.404364",
     "status": "completed"
    },
    "tags": []
   },
   "outputs": [
    {
     "data": {
      "text/plain": [
       "8     152211.87\n",
       "3     182902.09\n",
       "6     156122.61\n",
       "41     77798.93\n",
       "46     49490.85\n",
       "47     42559.83\n",
       "15    129917.14\n",
       "9     149760.06\n",
       "16    126993.03\n",
       "24    108552.14\n",
       "34     96712.90\n",
       "31     97483.66\n",
       "0     192261.93\n",
       "44     65200.43\n",
       "27    105008.41\n",
       "33     96779.02\n",
       "5     156991.22\n",
       "29    101004.74\n",
       "11    144259.50\n",
       "36     90708.29\n",
       "1     191792.16\n",
       "21    111313.12\n",
       "2     191050.49\n",
       "43     69759.08\n",
       "35     96479.61\n",
       "23    108734.09\n",
       "40     78240.01\n",
       "10    146122.05\n",
       "22    110352.35\n",
       "18    124267.00\n",
       "49     14681.50\n",
       "20    118474.13\n",
       "7     155752.70\n",
       "42     71498.59\n",
       "14    132602.75\n",
       "28    103282.48\n",
       "38     81229.16\n",
       "Name: Profit, dtype: float64"
      ]
     },
     "execution_count": 21,
     "metadata": {},
     "output_type": "execute_result"
    }
   ],
   "source": [
    "y_train"
   ]
  },
  {
   "cell_type": "code",
   "execution_count": 22,
   "id": "50903ed8",
   "metadata": {
    "execution": {
     "iopub.execute_input": "2024-11-20T16:44:56.453331Z",
     "iopub.status.busy": "2024-11-20T16:44:56.452915Z",
     "iopub.status.idle": "2024-11-20T16:44:56.459709Z",
     "shell.execute_reply": "2024-11-20T16:44:56.458624Z"
    },
    "papermill": {
     "duration": 0.021283,
     "end_time": "2024-11-20T16:44:56.461911",
     "exception": false,
     "start_time": "2024-11-20T16:44:56.440628",
     "status": "completed"
    },
    "tags": []
   },
   "outputs": [
    {
     "data": {
      "text/plain": [
       "(37,)"
      ]
     },
     "execution_count": 22,
     "metadata": {},
     "output_type": "execute_result"
    }
   ],
   "source": [
    "y_train.shape"
   ]
  },
  {
   "cell_type": "code",
   "execution_count": 23,
   "id": "a175b27d",
   "metadata": {
    "execution": {
     "iopub.execute_input": "2024-11-20T16:44:56.487284Z",
     "iopub.status.busy": "2024-11-20T16:44:56.486913Z",
     "iopub.status.idle": "2024-11-20T16:44:56.496811Z",
     "shell.execute_reply": "2024-11-20T16:44:56.495463Z"
    },
    "papermill": {
     "duration": 0.025141,
     "end_time": "2024-11-20T16:44:56.499115",
     "exception": false,
     "start_time": "2024-11-20T16:44:56.473974",
     "status": "completed"
    },
    "tags": []
   },
   "outputs": [],
   "source": [
    "from sklearn.preprocessing import StandardScaler\n",
    "\n",
    "scaler = StandardScaler()\n",
    "\n",
    "X_train = scaler.fit_transform(X_train)\n",
    "X_test = scaler.transform(X_test)"
   ]
  },
  {
   "cell_type": "code",
   "execution_count": 24,
   "id": "d375f853",
   "metadata": {
    "execution": {
     "iopub.execute_input": "2024-11-20T16:44:56.522237Z",
     "iopub.status.busy": "2024-11-20T16:44:56.521872Z",
     "iopub.status.idle": "2024-11-20T16:44:56.530115Z",
     "shell.execute_reply": "2024-11-20T16:44:56.529009Z"
    },
    "papermill": {
     "duration": 0.022379,
     "end_time": "2024-11-20T16:44:56.532338",
     "exception": false,
     "start_time": "2024-11-20T16:44:56.509959",
     "status": "completed"
    },
    "tags": []
   },
   "outputs": [
    {
     "data": {
      "text/plain": [
       "array([[ 0.92677074,  0.99706915,  0.68026002],\n",
       "       [ 1.42728466, -0.19886227,  1.29883063],\n",
       "       [ 1.2223534 ,  0.93656709, -0.90877173],\n",
       "       [-1.01920612, -1.55057749, -0.59118489],\n",
       "       [-1.57742895, -0.31252214,  0.55497702],\n",
       "       [-1.60505838,  0.46802121, -2.01236051],\n",
       "       [ 0.80035185, -0.0418442 ,  0.24962277],\n",
       "       [ 0.9854204 , -0.59658983,  0.6229564 ],\n",
       "       [ 0.03349923, -0.08241387,  0.27182842],\n",
       "       [ 0.01314463, -0.97064124, -0.79766707],\n",
       "       [-0.62994291,  1.35428993, -0.19087808],\n",
       "       [-0.32097317,  1.15559889, -1.25007525],\n",
       "       [ 1.86787316,  0.52656502,  2.06428062],\n",
       "       [-1.13924558,  1.23935083, -1.76752292],\n",
       "       [-0.09053785,  0.16702458,  1.03946689],\n",
       "       [-0.43948461, -0.82034333, -0.15772172],\n",
       "       [ 1.16483373, -0.94941211,  1.12308967],\n",
       "       [-0.22710589,  1.16873909, -1.08658805],\n",
       "       [ 0.50941708, -1.26878647,  0.14565818],\n",
       "       [-1.00301569,  0.13485112, -0.27444296],\n",
       "       [ 1.8100817 ,  1.10288805,  1.82332408],\n",
       "       [ 0.04140416,  1.19824701,  0.57764064],\n",
       "       [ 1.61776858, -0.89644216,  1.5125627 ],\n",
       "       [-1.27938194,  0.14783012, -1.70531316],\n",
       "       [-0.63859745, -1.53717739, -0.23650231],\n",
       "       [-0.18663087, -0.71313534,  0.62111683],\n",
       "       [-1.00111339, -0.20386934, -0.51924971],\n",
       "       [ 0.53548509, -0.5203716 , -0.03220274],\n",
       "       [-0.05090486, -0.03524067,  0.6085921 ],\n",
       "       [ 0.32200599, -0.37781396,  0.53601119],\n",
       "       [-1.60505838, -0.26604985, -1.62202444],\n",
       "       [-0.00345138, -0.39009244,  0.56837051],\n",
       "       [ 1.13167385,  0.8701453 ,  0.7862268 ],\n",
       "       [-1.1085133 , -1.09369715, -0.73349712],\n",
       "       [ 0.91418369,  1.30865706,  0.20414301],\n",
       "       [-0.21773744,  2.3474124 , -0.99145325],\n",
       "       [-1.18016378, -2.29737401, -0.41150256]])"
      ]
     },
     "execution_count": 24,
     "metadata": {},
     "output_type": "execute_result"
    }
   ],
   "source": [
    "X_train"
   ]
  },
  {
   "cell_type": "code",
   "execution_count": 25,
   "id": "6ab7a947",
   "metadata": {
    "execution": {
     "iopub.execute_input": "2024-11-20T16:44:56.556588Z",
     "iopub.status.busy": "2024-11-20T16:44:56.556219Z",
     "iopub.status.idle": "2024-11-20T16:44:56.659936Z",
     "shell.execute_reply": "2024-11-20T16:44:56.658913Z"
    },
    "papermill": {
     "duration": 0.118379,
     "end_time": "2024-11-20T16:44:56.662439",
     "exception": false,
     "start_time": "2024-11-20T16:44:56.544060",
     "status": "completed"
    },
    "tags": []
   },
   "outputs": [],
   "source": [
    "from sklearn.linear_model import LinearRegression"
   ]
  },
  {
   "cell_type": "code",
   "execution_count": 26,
   "id": "c3ee062b",
   "metadata": {
    "execution": {
     "iopub.execute_input": "2024-11-20T16:44:56.686408Z",
     "iopub.status.busy": "2024-11-20T16:44:56.685696Z",
     "iopub.status.idle": "2024-11-20T16:44:56.690614Z",
     "shell.execute_reply": "2024-11-20T16:44:56.689545Z"
    },
    "papermill": {
     "duration": 0.019027,
     "end_time": "2024-11-20T16:44:56.692693",
     "exception": false,
     "start_time": "2024-11-20T16:44:56.673666",
     "status": "completed"
    },
    "tags": []
   },
   "outputs": [],
   "source": [
    "model = LinearRegression(n_jobs=-1)"
   ]
  },
  {
   "cell_type": "code",
   "execution_count": 27,
   "id": "4fb92974",
   "metadata": {
    "execution": {
     "iopub.execute_input": "2024-11-20T16:44:56.717647Z",
     "iopub.status.busy": "2024-11-20T16:44:56.717171Z",
     "iopub.status.idle": "2024-11-20T16:44:56.727024Z",
     "shell.execute_reply": "2024-11-20T16:44:56.725681Z"
    },
    "papermill": {
     "duration": 0.025598,
     "end_time": "2024-11-20T16:44:56.729250",
     "exception": false,
     "start_time": "2024-11-20T16:44:56.703652",
     "status": "completed"
    },
    "tags": []
   },
   "outputs": [
    {
     "data": {
      "text/html": [
       "<style>#sk-container-id-1 {color: black;background-color: white;}#sk-container-id-1 pre{padding: 0;}#sk-container-id-1 div.sk-toggleable {background-color: white;}#sk-container-id-1 label.sk-toggleable__label {cursor: pointer;display: block;width: 100%;margin-bottom: 0;padding: 0.3em;box-sizing: border-box;text-align: center;}#sk-container-id-1 label.sk-toggleable__label-arrow:before {content: \"▸\";float: left;margin-right: 0.25em;color: #696969;}#sk-container-id-1 label.sk-toggleable__label-arrow:hover:before {color: black;}#sk-container-id-1 div.sk-estimator:hover label.sk-toggleable__label-arrow:before {color: black;}#sk-container-id-1 div.sk-toggleable__content {max-height: 0;max-width: 0;overflow: hidden;text-align: left;background-color: #f0f8ff;}#sk-container-id-1 div.sk-toggleable__content pre {margin: 0.2em;color: black;border-radius: 0.25em;background-color: #f0f8ff;}#sk-container-id-1 input.sk-toggleable__control:checked~div.sk-toggleable__content {max-height: 200px;max-width: 100%;overflow: auto;}#sk-container-id-1 input.sk-toggleable__control:checked~label.sk-toggleable__label-arrow:before {content: \"▾\";}#sk-container-id-1 div.sk-estimator input.sk-toggleable__control:checked~label.sk-toggleable__label {background-color: #d4ebff;}#sk-container-id-1 div.sk-label input.sk-toggleable__control:checked~label.sk-toggleable__label {background-color: #d4ebff;}#sk-container-id-1 input.sk-hidden--visually {border: 0;clip: rect(1px 1px 1px 1px);clip: rect(1px, 1px, 1px, 1px);height: 1px;margin: -1px;overflow: hidden;padding: 0;position: absolute;width: 1px;}#sk-container-id-1 div.sk-estimator {font-family: monospace;background-color: #f0f8ff;border: 1px dotted black;border-radius: 0.25em;box-sizing: border-box;margin-bottom: 0.5em;}#sk-container-id-1 div.sk-estimator:hover {background-color: #d4ebff;}#sk-container-id-1 div.sk-parallel-item::after {content: \"\";width: 100%;border-bottom: 1px solid gray;flex-grow: 1;}#sk-container-id-1 div.sk-label:hover label.sk-toggleable__label {background-color: #d4ebff;}#sk-container-id-1 div.sk-serial::before {content: \"\";position: absolute;border-left: 1px solid gray;box-sizing: border-box;top: 0;bottom: 0;left: 50%;z-index: 0;}#sk-container-id-1 div.sk-serial {display: flex;flex-direction: column;align-items: center;background-color: white;padding-right: 0.2em;padding-left: 0.2em;position: relative;}#sk-container-id-1 div.sk-item {position: relative;z-index: 1;}#sk-container-id-1 div.sk-parallel {display: flex;align-items: stretch;justify-content: center;background-color: white;position: relative;}#sk-container-id-1 div.sk-item::before, #sk-container-id-1 div.sk-parallel-item::before {content: \"\";position: absolute;border-left: 1px solid gray;box-sizing: border-box;top: 0;bottom: 0;left: 50%;z-index: -1;}#sk-container-id-1 div.sk-parallel-item {display: flex;flex-direction: column;z-index: 1;position: relative;background-color: white;}#sk-container-id-1 div.sk-parallel-item:first-child::after {align-self: flex-end;width: 50%;}#sk-container-id-1 div.sk-parallel-item:last-child::after {align-self: flex-start;width: 50%;}#sk-container-id-1 div.sk-parallel-item:only-child::after {width: 0;}#sk-container-id-1 div.sk-dashed-wrapped {border: 1px dashed gray;margin: 0 0.4em 0.5em 0.4em;box-sizing: border-box;padding-bottom: 0.4em;background-color: white;}#sk-container-id-1 div.sk-label label {font-family: monospace;font-weight: bold;display: inline-block;line-height: 1.2em;}#sk-container-id-1 div.sk-label-container {text-align: center;}#sk-container-id-1 div.sk-container {/* jupyter's `normalize.less` sets `[hidden] { display: none; }` but bootstrap.min.css set `[hidden] { display: none !important; }` so we also need the `!important` here to be able to override the default hidden behavior on the sphinx rendered scikit-learn.org. See: https://github.com/scikit-learn/scikit-learn/issues/21755 */display: inline-block !important;position: relative;}#sk-container-id-1 div.sk-text-repr-fallback {display: none;}</style><div id=\"sk-container-id-1\" class=\"sk-top-container\"><div class=\"sk-text-repr-fallback\"><pre>LinearRegression(n_jobs=-1)</pre><b>In a Jupyter environment, please rerun this cell to show the HTML representation or trust the notebook. <br />On GitHub, the HTML representation is unable to render, please try loading this page with nbviewer.org.</b></div><div class=\"sk-container\" hidden><div class=\"sk-item\"><div class=\"sk-estimator sk-toggleable\"><input class=\"sk-toggleable__control sk-hidden--visually\" id=\"sk-estimator-id-1\" type=\"checkbox\" checked><label for=\"sk-estimator-id-1\" class=\"sk-toggleable__label sk-toggleable__label-arrow\">LinearRegression</label><div class=\"sk-toggleable__content\"><pre>LinearRegression(n_jobs=-1)</pre></div></div></div></div></div>"
      ],
      "text/plain": [
       "LinearRegression(n_jobs=-1)"
      ]
     },
     "execution_count": 27,
     "metadata": {},
     "output_type": "execute_result"
    }
   ],
   "source": [
    "model"
   ]
  },
  {
   "cell_type": "code",
   "execution_count": 28,
   "id": "d7d939e9",
   "metadata": {
    "execution": {
     "iopub.execute_input": "2024-11-20T16:44:56.754915Z",
     "iopub.status.busy": "2024-11-20T16:44:56.754491Z",
     "iopub.status.idle": "2024-11-20T16:44:56.781977Z",
     "shell.execute_reply": "2024-11-20T16:44:56.780851Z"
    },
    "papermill": {
     "duration": 0.043331,
     "end_time": "2024-11-20T16:44:56.784373",
     "exception": false,
     "start_time": "2024-11-20T16:44:56.741042",
     "status": "completed"
    },
    "tags": []
   },
   "outputs": [
    {
     "data": {
      "text/html": [
       "<style>#sk-container-id-2 {color: black;background-color: white;}#sk-container-id-2 pre{padding: 0;}#sk-container-id-2 div.sk-toggleable {background-color: white;}#sk-container-id-2 label.sk-toggleable__label {cursor: pointer;display: block;width: 100%;margin-bottom: 0;padding: 0.3em;box-sizing: border-box;text-align: center;}#sk-container-id-2 label.sk-toggleable__label-arrow:before {content: \"▸\";float: left;margin-right: 0.25em;color: #696969;}#sk-container-id-2 label.sk-toggleable__label-arrow:hover:before {color: black;}#sk-container-id-2 div.sk-estimator:hover label.sk-toggleable__label-arrow:before {color: black;}#sk-container-id-2 div.sk-toggleable__content {max-height: 0;max-width: 0;overflow: hidden;text-align: left;background-color: #f0f8ff;}#sk-container-id-2 div.sk-toggleable__content pre {margin: 0.2em;color: black;border-radius: 0.25em;background-color: #f0f8ff;}#sk-container-id-2 input.sk-toggleable__control:checked~div.sk-toggleable__content {max-height: 200px;max-width: 100%;overflow: auto;}#sk-container-id-2 input.sk-toggleable__control:checked~label.sk-toggleable__label-arrow:before {content: \"▾\";}#sk-container-id-2 div.sk-estimator input.sk-toggleable__control:checked~label.sk-toggleable__label {background-color: #d4ebff;}#sk-container-id-2 div.sk-label input.sk-toggleable__control:checked~label.sk-toggleable__label {background-color: #d4ebff;}#sk-container-id-2 input.sk-hidden--visually {border: 0;clip: rect(1px 1px 1px 1px);clip: rect(1px, 1px, 1px, 1px);height: 1px;margin: -1px;overflow: hidden;padding: 0;position: absolute;width: 1px;}#sk-container-id-2 div.sk-estimator {font-family: monospace;background-color: #f0f8ff;border: 1px dotted black;border-radius: 0.25em;box-sizing: border-box;margin-bottom: 0.5em;}#sk-container-id-2 div.sk-estimator:hover {background-color: #d4ebff;}#sk-container-id-2 div.sk-parallel-item::after {content: \"\";width: 100%;border-bottom: 1px solid gray;flex-grow: 1;}#sk-container-id-2 div.sk-label:hover label.sk-toggleable__label {background-color: #d4ebff;}#sk-container-id-2 div.sk-serial::before {content: \"\";position: absolute;border-left: 1px solid gray;box-sizing: border-box;top: 0;bottom: 0;left: 50%;z-index: 0;}#sk-container-id-2 div.sk-serial {display: flex;flex-direction: column;align-items: center;background-color: white;padding-right: 0.2em;padding-left: 0.2em;position: relative;}#sk-container-id-2 div.sk-item {position: relative;z-index: 1;}#sk-container-id-2 div.sk-parallel {display: flex;align-items: stretch;justify-content: center;background-color: white;position: relative;}#sk-container-id-2 div.sk-item::before, #sk-container-id-2 div.sk-parallel-item::before {content: \"\";position: absolute;border-left: 1px solid gray;box-sizing: border-box;top: 0;bottom: 0;left: 50%;z-index: -1;}#sk-container-id-2 div.sk-parallel-item {display: flex;flex-direction: column;z-index: 1;position: relative;background-color: white;}#sk-container-id-2 div.sk-parallel-item:first-child::after {align-self: flex-end;width: 50%;}#sk-container-id-2 div.sk-parallel-item:last-child::after {align-self: flex-start;width: 50%;}#sk-container-id-2 div.sk-parallel-item:only-child::after {width: 0;}#sk-container-id-2 div.sk-dashed-wrapped {border: 1px dashed gray;margin: 0 0.4em 0.5em 0.4em;box-sizing: border-box;padding-bottom: 0.4em;background-color: white;}#sk-container-id-2 div.sk-label label {font-family: monospace;font-weight: bold;display: inline-block;line-height: 1.2em;}#sk-container-id-2 div.sk-label-container {text-align: center;}#sk-container-id-2 div.sk-container {/* jupyter's `normalize.less` sets `[hidden] { display: none; }` but bootstrap.min.css set `[hidden] { display: none !important; }` so we also need the `!important` here to be able to override the default hidden behavior on the sphinx rendered scikit-learn.org. See: https://github.com/scikit-learn/scikit-learn/issues/21755 */display: inline-block !important;position: relative;}#sk-container-id-2 div.sk-text-repr-fallback {display: none;}</style><div id=\"sk-container-id-2\" class=\"sk-top-container\"><div class=\"sk-text-repr-fallback\"><pre>LinearRegression(n_jobs=-1)</pre><b>In a Jupyter environment, please rerun this cell to show the HTML representation or trust the notebook. <br />On GitHub, the HTML representation is unable to render, please try loading this page with nbviewer.org.</b></div><div class=\"sk-container\" hidden><div class=\"sk-item\"><div class=\"sk-estimator sk-toggleable\"><input class=\"sk-toggleable__control sk-hidden--visually\" id=\"sk-estimator-id-2\" type=\"checkbox\" checked><label for=\"sk-estimator-id-2\" class=\"sk-toggleable__label sk-toggleable__label-arrow\">LinearRegression</label><div class=\"sk-toggleable__content\"><pre>LinearRegression(n_jobs=-1)</pre></div></div></div></div></div>"
      ],
      "text/plain": [
       "LinearRegression(n_jobs=-1)"
      ]
     },
     "execution_count": 28,
     "metadata": {},
     "output_type": "execute_result"
    }
   ],
   "source": [
    "model.fit(X_train,y_train)"
   ]
  },
  {
   "cell_type": "code",
   "execution_count": 29,
   "id": "0360deb3",
   "metadata": {
    "execution": {
     "iopub.execute_input": "2024-11-20T16:44:56.810765Z",
     "iopub.status.busy": "2024-11-20T16:44:56.809896Z",
     "iopub.status.idle": "2024-11-20T16:44:56.817800Z",
     "shell.execute_reply": "2024-11-20T16:44:56.816538Z"
    },
    "papermill": {
     "duration": 0.023733,
     "end_time": "2024-11-20T16:44:56.819995",
     "exception": false,
     "start_time": "2024-11-20T16:44:56.796262",
     "status": "completed"
    },
    "tags": []
   },
   "outputs": [
    {
     "data": {
      "text/plain": [
       "array([38531.2052596 , -2239.2433705 ,  3525.89090786])"
      ]
     },
     "execution_count": 29,
     "metadata": {},
     "output_type": "execute_result"
    }
   ],
   "source": [
    "model.coef_"
   ]
  },
  {
   "cell_type": "code",
   "execution_count": 30,
   "id": "66d5cb00",
   "metadata": {
    "execution": {
     "iopub.execute_input": "2024-11-20T16:44:56.846323Z",
     "iopub.status.busy": "2024-11-20T16:44:56.845968Z",
     "iopub.status.idle": "2024-11-20T16:44:56.853147Z",
     "shell.execute_reply": "2024-11-20T16:44:56.851920Z"
    },
    "papermill": {
     "duration": 0.023094,
     "end_time": "2024-11-20T16:44:56.855226",
     "exception": false,
     "start_time": "2024-11-20T16:44:56.832132",
     "status": "completed"
    },
    "tags": []
   },
   "outputs": [
    {
     "data": {
      "text/plain": [
       "114279.72756756756"
      ]
     },
     "execution_count": 30,
     "metadata": {},
     "output_type": "execute_result"
    }
   ],
   "source": [
    "model.intercept_"
   ]
  },
  {
   "cell_type": "code",
   "execution_count": 31,
   "id": "dac83181",
   "metadata": {
    "execution": {
     "iopub.execute_input": "2024-11-20T16:44:56.881524Z",
     "iopub.status.busy": "2024-11-20T16:44:56.881121Z",
     "iopub.status.idle": "2024-11-20T16:44:56.886628Z",
     "shell.execute_reply": "2024-11-20T16:44:56.885253Z"
    },
    "papermill": {
     "duration": 0.021645,
     "end_time": "2024-11-20T16:44:56.889131",
     "exception": false,
     "start_time": "2024-11-20T16:44:56.867486",
     "status": "completed"
    },
    "tags": []
   },
   "outputs": [],
   "source": [
    "# prediction for test data\n",
    "y_pred= model.predict(X_test)"
   ]
  },
  {
   "cell_type": "code",
   "execution_count": 32,
   "id": "d447f1c3",
   "metadata": {
    "execution": {
     "iopub.execute_input": "2024-11-20T16:44:56.914817Z",
     "iopub.status.busy": "2024-11-20T16:44:56.914277Z",
     "iopub.status.idle": "2024-11-20T16:44:56.922095Z",
     "shell.execute_reply": "2024-11-20T16:44:56.920974Z"
    },
    "papermill": {
     "duration": 0.023147,
     "end_time": "2024-11-20T16:44:56.924234",
     "exception": false,
     "start_time": "2024-11-20T16:44:56.901087",
     "status": "completed"
    },
    "tags": []
   },
   "outputs": [],
   "source": [
    "# performance metrics\n",
    "from sklearn.metrics import mean_squared_error,mean_absolute_error\n",
    "import numpy as np\n",
    "mse = mean_squared_error(y_test,y_pred)\n",
    "mae = mean_absolute_error(y_test,y_pred)\n",
    "rmse = np.sqrt(mse)"
   ]
  },
  {
   "cell_type": "code",
   "execution_count": 33,
   "id": "c60d7fff",
   "metadata": {
    "execution": {
     "iopub.execute_input": "2024-11-20T16:44:56.950821Z",
     "iopub.status.busy": "2024-11-20T16:44:56.950408Z",
     "iopub.status.idle": "2024-11-20T16:44:56.956977Z",
     "shell.execute_reply": "2024-11-20T16:44:56.955471Z"
    },
    "papermill": {
     "duration": 0.023327,
     "end_time": "2024-11-20T16:44:56.959535",
     "exception": false,
     "start_time": "2024-11-20T16:44:56.936208",
     "status": "completed"
    },
    "tags": []
   },
   "outputs": [
    {
     "name": "stdout",
     "output_type": "stream",
     "text": [
      "MSE:86644383.24,\n",
      "MAE:7432.79,\n",
      "RMSE:9308.3\n"
     ]
    }
   ],
   "source": [
    "print(f\"MSE:{round(mse,2)},\\nMAE:{round(mae,2)},\\nRMSE:{round(rmse,2)}\")"
   ]
  },
  {
   "cell_type": "code",
   "execution_count": 34,
   "id": "c1d7efee",
   "metadata": {
    "execution": {
     "iopub.execute_input": "2024-11-20T16:44:56.985403Z",
     "iopub.status.busy": "2024-11-20T16:44:56.985021Z",
     "iopub.status.idle": "2024-11-20T16:44:56.990983Z",
     "shell.execute_reply": "2024-11-20T16:44:56.989810Z"
    },
    "papermill": {
     "duration": 0.021711,
     "end_time": "2024-11-20T16:44:56.993235",
     "exception": false,
     "start_time": "2024-11-20T16:44:56.971524",
     "status": "completed"
    },
    "tags": []
   },
   "outputs": [],
   "source": [
    "from sklearn.metrics import r2_score\n",
    "score = r2_score(y_test,y_pred)"
   ]
  },
  {
   "cell_type": "code",
   "execution_count": 35,
   "id": "076c27f9",
   "metadata": {
    "execution": {
     "iopub.execute_input": "2024-11-20T16:44:57.020086Z",
     "iopub.status.busy": "2024-11-20T16:44:57.019686Z",
     "iopub.status.idle": "2024-11-20T16:44:57.026222Z",
     "shell.execute_reply": "2024-11-20T16:44:57.025122Z"
    },
    "papermill": {
     "duration": 0.021957,
     "end_time": "2024-11-20T16:44:57.028179",
     "exception": false,
     "start_time": "2024-11-20T16:44:57.006222",
     "status": "completed"
    },
    "tags": []
   },
   "outputs": [
    {
     "data": {
      "text/plain": [
       "0.9193827032400599"
      ]
     },
     "execution_count": 35,
     "metadata": {},
     "output_type": "execute_result"
    }
   ],
   "source": [
    "score"
   ]
  },
  {
   "cell_type": "code",
   "execution_count": 36,
   "id": "13783804",
   "metadata": {
    "execution": {
     "iopub.execute_input": "2024-11-20T16:44:57.053679Z",
     "iopub.status.busy": "2024-11-20T16:44:57.053296Z",
     "iopub.status.idle": "2024-11-20T16:44:57.060078Z",
     "shell.execute_reply": "2024-11-20T16:44:57.059013Z"
    },
    "papermill": {
     "duration": 0.021698,
     "end_time": "2024-11-20T16:44:57.062059",
     "exception": false,
     "start_time": "2024-11-20T16:44:57.040361",
     "status": "completed"
    },
    "tags": []
   },
   "outputs": [
    {
     "data": {
      "text/plain": [
       "0.8925102709867465"
      ]
     },
     "execution_count": 36,
     "metadata": {},
     "output_type": "execute_result"
    }
   ],
   "source": [
    "# adjusted r-squared\n",
    "1 - (1- score)* (len(y_test)-1)/(len(y_test)-X_test.shape[1]-1)"
   ]
  },
  {
   "cell_type": "code",
   "execution_count": 37,
   "id": "7e340957",
   "metadata": {
    "execution": {
     "iopub.execute_input": "2024-11-20T16:44:57.088544Z",
     "iopub.status.busy": "2024-11-20T16:44:57.088120Z",
     "iopub.status.idle": "2024-11-20T16:44:57.413253Z",
     "shell.execute_reply": "2024-11-20T16:44:57.412136Z"
    },
    "papermill": {
     "duration": 0.341004,
     "end_time": "2024-11-20T16:44:57.415704",
     "exception": false,
     "start_time": "2024-11-20T16:44:57.074700",
     "status": "completed"
    },
    "tags": []
   },
   "outputs": [
    {
     "data": {
      "image/png": "[encoded data removed]",
      "text/plain": [
       "<Figure size 800x600 with 1 Axes>"
      ]
     },
     "metadata": {},
     "output_type": "display_data"
    }
   ],
   "source": [
    "import matplotlib.pyplot as plt\n",
    "# Scatter plot of actual vs predicted values\n",
    "plt.figure(figsize=(8, 6))\n",
    "plt.scatter(y_test, y_pred, alpha=0.7, color='blue')\n",
    "plt.plot([min(y_test), max(y_test)], [min(y_test), max(y_test)], color='red', linestyle='--', label=\"Perfect Prediction\")\n",
    "plt.title(\"Actual vs Predicted Profits\")\n",
    "plt.xlabel(\"Actual Profits\")\n",
    "plt.ylabel(\"Predicted Profits\")\n",
    "plt.legend()\n",
    "plt.grid(True)\n",
    "plt.show()"
   ]
  },
  {
   "cell_type": "code",
   "execution_count": null,
   "id": "439656a3",
   "metadata": {
    "papermill": {
     "duration": 0.013422,
     "end_time": "2024-11-20T16:44:57.442274",
     "exception": false,
     "start_time": "2024-11-20T16:44:57.428852",
     "status": "completed"
    },
    "tags": []
   },
   "outputs": [],
   "source": []
  }
 ],
 "metadata": {
  "kaggle": {
   "accelerator": "none",
   "dataSources": [
    {
     "datasetId": 2801174,
     "sourceId": 4834009,
     "sourceType": "datasetVersion"
    }
   ],
   "dockerImageVersionId": 30786,
   "isGpuEnabled": false,
   "isInternetEnabled": true,
   "language": "python",
   "sourceType": "notebook"
  },
  "kernelspec": {
   "display_name": "Python 3",
   "language": "python",
   "name": "python3"
  },
  "language_info": {
   "codemirror_mode": {
    "name": "ipython",
    "version": 3
   },
   "file_extension": ".py",
   "mimetype": "text/x-python",
   "name": "python",
   "nbconvert_exporter": "python",
   "pygments_lexer": "ipython3",
   "version": "3.10.14"
  },
  "papermill": {
   "default_parameters": {},
   "duration": 12.503349,
   "end_time": "2024-11-20T16:44:58.178202",
   "environment_variables": {},
   "exception": null,
   "input_path": "__notebook__.ipynb",
   "output_path": "__notebook__.ipynb",
   "parameters": {},
   "start_time": "2024-11-20T16:44:45.674853",
   "version": "2.6.0"
  }
 },
 "nbformat": 4,
 "nbformat_minor": 5
}
