{
 "cells": [
  {
   "cell_type": "code",
   "execution_count": 1,
   "id": "56a1047d",
   "metadata": {
    "_cell_guid": "b1076dfc-b9ad-4769-8c92-a6c4dae69d19",
    "_uuid": "8f2839f25d086af736a60e9eeb907d3b93b6e0e5",
    "execution": {
     "iopub.execute_input": "2024-12-09T19:29:12.556834Z",
     "iopub.status.busy": "2024-12-09T19:29:12.556297Z",
     "iopub.status.idle": "2024-12-09T19:29:13.422071Z",
     "shell.execute_reply": "2024-12-09T19:29:13.420927Z"
    },
    "papermill": {
     "duration": 0.881892,
     "end_time": "2024-12-09T19:29:13.424375",
     "exception": false,
     "start_time": "2024-12-09T19:29:12.542483",
     "status": "completed"
    },
    "tags": []
   },
   "outputs": [
    {
     "name": "stdout",
     "output_type": "stream",
     "text": [
      "/kaggle/input/50startups/50_Startups_dataset.csv\n"
     ]
    }
   ],
   "source": [
    "# This Python 3 environment comes with many helpful analytics libraries installed\n",
    "# It is defined by the kaggle/python Docker image: https://github.com/kaggle/docker-python\n",
    "# For example, here's several helpful packages to load\n",
    "\n",
    "import numpy as np # linear algebra\n",
    "import pandas as pd # data processing, CSV file I/O (e.g. pd.read_csv)\n",
    "\n",
    "# Input data files are available in the read-only \"../input/\" directory\n",
    "# For example, running this (by clicking run or pressing Shift+Enter) will list all files under the input directory\n",
    "\n",
    "import os\n",
    "for dirname, _, filenames in os.walk('/kaggle/input'):\n",
    "    for filename in filenames:\n",
    "        print(os.path.join(dirname, filename))\n",
    "\n",
    "# You can write up to 20GB to the current directory (/kaggle/working/) that gets preserved as output when you create a version using \"Save & Run All\" \n",
    "# You can also write temporary files to /kaggle/temp/, but they won't be saved outside of the current session"
   ]
  },
  {
   "cell_type": "markdown",
   "id": "ac052b1a",
   "metadata": {
    "papermill": {
     "duration": 0.011151,
     "end_time": "2024-12-09T19:29:13.449217",
     "exception": false,
     "start_time": "2024-12-09T19:29:13.438066",
     "status": "completed"
    },
    "tags": []
   },
   "source": [
    "## Step-1:Data loading and cleaning"
   ]
  },
  {
   "cell_type": "code",
   "execution_count": 2,
   "id": "f24d9997",
   "metadata": {
    "execution": {
     "iopub.execute_input": "2024-12-09T19:29:13.473571Z",
     "iopub.status.busy": "2024-12-09T19:29:13.473071Z",
     "iopub.status.idle": "2024-12-09T19:29:13.489683Z",
     "shell.execute_reply": "2024-12-09T19:29:13.488837Z"
    },
    "papermill": {
     "duration": 0.031077,
     "end_time": "2024-12-09T19:29:13.491960",
     "exception": false,
     "start_time": "2024-12-09T19:29:13.460883",
     "status": "completed"
    },
    "tags": []
   },
   "outputs": [],
   "source": [
    "df = pd.read_csv('/kaggle/input/50startups/50_Startups_dataset.csv')"
   ]
  },
  {
   "cell_type": "code",
   "execution_count": 3,
   "id": "4cbee59a",
   "metadata": {
    "execution": {
     "iopub.execute_input": "2024-12-09T19:29:13.515928Z",
     "iopub.status.busy": "2024-12-09T19:29:13.515537Z",
     "iopub.status.idle": "2024-12-09T19:29:13.537272Z",
     "shell.execute_reply": "2024-12-09T19:29:13.536250Z"
    },
    "papermill": {
     "duration": 0.035926,
     "end_time": "2024-12-09T19:29:13.539403",
     "exception": false,
     "start_time": "2024-12-09T19:29:13.503477",
     "status": "completed"
    },
    "tags": []
   },
   "outputs": [
    {
     "data": {
      "text/html": [
       "<div>\n",
       "<style scoped>\n",
       "    .dataframe tbody tr th:only-of-type {\n",
       "        vertical-align: middle;\n",
       "    }\n",
       "\n",
       "    .dataframe tbody tr th {\n",
       "        vertical-align: top;\n",
       "    }\n",
       "\n",
       "    .dataframe thead th {\n",
       "        text-align: right;\n",
       "    }\n",
       "</style>\n",
       "<table border=\"1\" class=\"dataframe\">\n",
       "  <thead>\n",
       "    <tr style=\"text-align: right;\">\n",
       "      <th></th>\n",
       "      <th>Unnamed: 0</th>\n",
       "      <th>R&amp;D Spend</th>\n",
       "      <th>Administration</th>\n",
       "      <th>Marketing Spend</th>\n",
       "      <th>State</th>\n",
       "      <th>Profit</th>\n",
       "    </tr>\n",
       "  </thead>\n",
       "  <tbody>\n",
       "    <tr>\n",
       "      <th>0</th>\n",
       "      <td>0</td>\n",
       "      <td>165349.30</td>\n",
       "      <td>136897.90</td>\n",
       "      <td>471784.20</td>\n",
       "      <td>New York</td>\n",
       "      <td>192261.93</td>\n",
       "    </tr>\n",
       "    <tr>\n",
       "      <th>1</th>\n",
       "      <td>1</td>\n",
       "      <td>162597.80</td>\n",
       "      <td>151377.69</td>\n",
       "      <td>443898.63</td>\n",
       "      <td>California</td>\n",
       "      <td>191792.16</td>\n",
       "    </tr>\n",
       "    <tr>\n",
       "      <th>2</th>\n",
       "      <td>2</td>\n",
       "      <td>153441.61</td>\n",
       "      <td>101145.65</td>\n",
       "      <td>407934.64</td>\n",
       "      <td>Florida</td>\n",
       "      <td>191050.49</td>\n",
       "    </tr>\n",
       "    <tr>\n",
       "      <th>3</th>\n",
       "      <td>3</td>\n",
       "      <td>144372.51</td>\n",
       "      <td>118671.95</td>\n",
       "      <td>383199.72</td>\n",
       "      <td>New York</td>\n",
       "      <td>182902.09</td>\n",
       "    </tr>\n",
       "    <tr>\n",
       "      <th>4</th>\n",
       "      <td>4</td>\n",
       "      <td>142107.44</td>\n",
       "      <td>91391.87</td>\n",
       "      <td>366168.52</td>\n",
       "      <td>Florida</td>\n",
       "      <td>166188.04</td>\n",
       "    </tr>\n",
       "  </tbody>\n",
       "</table>\n",
       "</div>"
      ],
      "text/plain": [
       "   Unnamed: 0  R&D Spend  Administration  Marketing Spend       State  \\\n",
       "0           0  165349.30       136897.90        471784.20    New York   \n",
       "1           1  162597.80       151377.69        443898.63  California   \n",
       "2           2  153441.61       101145.65        407934.64     Florida   \n",
       "3           3  144372.51       118671.95        383199.72    New York   \n",
       "4           4  142107.44        91391.87        366168.52     Florida   \n",
       "\n",
       "      Profit  \n",
       "0  192261.93  \n",
       "1  191792.16  \n",
       "2  191050.49  \n",
       "3  182902.09  \n",
       "4  166188.04  "
      ]
     },
     "execution_count": 3,
     "metadata": {},
     "output_type": "execute_result"
    }
   ],
   "source": [
    "df.head()"
   ]
  },
  {
   "cell_type": "code",
   "execution_count": 4,
   "id": "44a68e5f",
   "metadata": {
    "execution": {
     "iopub.execute_input": "2024-12-09T19:29:13.563357Z",
     "iopub.status.busy": "2024-12-09T19:29:13.563000Z",
     "iopub.status.idle": "2024-12-09T19:29:13.573906Z",
     "shell.execute_reply": "2024-12-09T19:29:13.572687Z"
    },
    "papermill": {
     "duration": 0.025422,
     "end_time": "2024-12-09T19:29:13.576029",
     "exception": false,
     "start_time": "2024-12-09T19:29:13.550607",
     "status": "completed"
    },
    "tags": []
   },
   "outputs": [],
   "source": [
    "df.drop(columns=['Unnamed: 0'],inplace=True)"
   ]
  },
  {
   "cell_type": "code",
   "execution_count": 5,
   "id": "64b951a1",
   "metadata": {
    "execution": {
     "iopub.execute_input": "2024-12-09T19:29:13.600699Z",
     "iopub.status.busy": "2024-12-09T19:29:13.599965Z",
     "iopub.status.idle": "2024-12-09T19:29:13.611892Z",
     "shell.execute_reply": "2024-12-09T19:29:13.610910Z"
    },
    "papermill": {
     "duration": 0.026693,
     "end_time": "2024-12-09T19:29:13.614001",
     "exception": false,
     "start_time": "2024-12-09T19:29:13.587308",
     "status": "completed"
    },
    "tags": []
   },
   "outputs": [
    {
     "data": {
      "text/html": [
       "<div>\n",
       "<style scoped>\n",
       "    .dataframe tbody tr th:only-of-type {\n",
       "        vertical-align: middle;\n",
       "    }\n",
       "\n",
       "    .dataframe tbody tr th {\n",
       "        vertical-align: top;\n",
       "    }\n",
       "\n",
       "    .dataframe thead th {\n",
       "        text-align: right;\n",
       "    }\n",
       "</style>\n",
       "<table border=\"1\" class=\"dataframe\">\n",
       "  <thead>\n",
       "    <tr style=\"text-align: right;\">\n",
       "      <th></th>\n",
       "      <th>R&amp;D Spend</th>\n",
       "      <th>Administration</th>\n",
       "      <th>Marketing Spend</th>\n",
       "      <th>State</th>\n",
       "      <th>Profit</th>\n",
       "    </tr>\n",
       "  </thead>\n",
       "  <tbody>\n",
       "    <tr>\n",
       "      <th>0</th>\n",
       "      <td>165349.30</td>\n",
       "      <td>136897.90</td>\n",
       "      <td>471784.20</td>\n",
       "      <td>New York</td>\n",
       "      <td>192261.93</td>\n",
       "    </tr>\n",
       "    <tr>\n",
       "      <th>1</th>\n",
       "      <td>162597.80</td>\n",
       "      <td>151377.69</td>\n",
       "      <td>443898.63</td>\n",
       "      <td>California</td>\n",
       "      <td>191792.16</td>\n",
       "    </tr>\n",
       "    <tr>\n",
       "      <th>2</th>\n",
       "      <td>153441.61</td>\n",
       "      <td>101145.65</td>\n",
       "      <td>407934.64</td>\n",
       "      <td>Florida</td>\n",
       "      <td>191050.49</td>\n",
       "    </tr>\n",
       "    <tr>\n",
       "      <th>3</th>\n",
       "      <td>144372.51</td>\n",
       "      <td>118671.95</td>\n",
       "      <td>383199.72</td>\n",
       "      <td>New York</td>\n",
       "      <td>182902.09</td>\n",
       "    </tr>\n",
       "    <tr>\n",
       "      <th>4</th>\n",
       "      <td>142107.44</td>\n",
       "      <td>91391.87</td>\n",
       "      <td>366168.52</td>\n",
       "      <td>Florida</td>\n",
       "      <td>166188.04</td>\n",
       "    </tr>\n",
       "  </tbody>\n",
       "</table>\n",
       "</div>"
      ],
      "text/plain": [
       "   R&D Spend  Administration  Marketing Spend       State     Profit\n",
       "0  165349.30       136897.90        471784.20    New York  192261.93\n",
       "1  162597.80       151377.69        443898.63  California  191792.16\n",
       "2  153441.61       101145.65        407934.64     Florida  191050.49\n",
       "3  144372.51       118671.95        383199.72    New York  182902.09\n",
       "4  142107.44        91391.87        366168.52     Florida  166188.04"
      ]
     },
     "execution_count": 5,
     "metadata": {},
     "output_type": "execute_result"
    }
   ],
   "source": [
    "df.head()"
   ]
  },
  {
   "cell_type": "code",
   "execution_count": 6,
   "id": "16a771d3",
   "metadata": {
    "execution": {
     "iopub.execute_input": "2024-12-09T19:29:13.638482Z",
     "iopub.status.busy": "2024-12-09T19:29:13.638143Z",
     "iopub.status.idle": "2024-12-09T19:29:13.661543Z",
     "shell.execute_reply": "2024-12-09T19:29:13.660480Z"
    },
    "papermill": {
     "duration": 0.038378,
     "end_time": "2024-12-09T19:29:13.663873",
     "exception": false,
     "start_time": "2024-12-09T19:29:13.625495",
     "status": "completed"
    },
    "tags": []
   },
   "outputs": [
    {
     "name": "stdout",
     "output_type": "stream",
     "text": [
      "<class 'pandas.core.frame.DataFrame'>\n",
      "RangeIndex: 50 entries, 0 to 49\n",
      "Data columns (total 5 columns):\n",
      " #   Column           Non-Null Count  Dtype  \n",
      "---  ------           --------------  -----  \n",
      " 0   R&D Spend        50 non-null     float64\n",
      " 1   Administration   50 non-null     float64\n",
      " 2   Marketing Spend  50 non-null     float64\n",
      " 3   State            50 non-null     object \n",
      " 4   Profit           50 non-null     float64\n",
      "dtypes: float64(4), object(1)\n",
      "memory usage: 2.1+ KB\n"
     ]
    }
   ],
   "source": [
    "df.info()"
   ]
  },
  {
   "cell_type": "markdown",
   "id": "f4778759",
   "metadata": {
    "papermill": {
     "duration": 0.011328,
     "end_time": "2024-12-09T19:29:13.687221",
     "exception": false,
     "start_time": "2024-12-09T19:29:13.675893",
     "status": "completed"
    },
    "tags": []
   },
   "source": [
    " ### Encoding categorical labels as numeric values,"
   ]
  },
  {
   "cell_type": "code",
   "execution_count": 7,
   "id": "222452f3",
   "metadata": {
    "execution": {
     "iopub.execute_input": "2024-12-09T19:29:13.711538Z",
     "iopub.status.busy": "2024-12-09T19:29:13.710688Z",
     "iopub.status.idle": "2024-12-09T19:29:14.985919Z",
     "shell.execute_reply": "2024-12-09T19:29:14.984627Z"
    },
    "papermill": {
     "duration": 1.290037,
     "end_time": "2024-12-09T19:29:14.988406",
     "exception": false,
     "start_time": "2024-12-09T19:29:13.698369",
     "status": "completed"
    },
    "tags": []
   },
   "outputs": [],
   "source": [
    "from sklearn.preprocessing import LabelEncoder\n",
    "label_encoder = LabelEncoder()\n",
    "df['State'] = label_encoder.fit_transform(df['State'])"
   ]
  },
  {
   "cell_type": "code",
   "execution_count": 8,
   "id": "0e47f9fb",
   "metadata": {
    "execution": {
     "iopub.execute_input": "2024-12-09T19:29:15.013338Z",
     "iopub.status.busy": "2024-12-09T19:29:15.012820Z",
     "iopub.status.idle": "2024-12-09T19:29:15.024975Z",
     "shell.execute_reply": "2024-12-09T19:29:15.023988Z"
    },
    "papermill": {
     "duration": 0.026981,
     "end_time": "2024-12-09T19:29:15.027118",
     "exception": false,
     "start_time": "2024-12-09T19:29:15.000137",
     "status": "completed"
    },
    "tags": []
   },
   "outputs": [
    {
     "data": {
      "text/html": [
       "<div>\n",
       "<style scoped>\n",
       "    .dataframe tbody tr th:only-of-type {\n",
       "        vertical-align: middle;\n",
       "    }\n",
       "\n",
       "    .dataframe tbody tr th {\n",
       "        vertical-align: top;\n",
       "    }\n",
       "\n",
       "    .dataframe thead th {\n",
       "        text-align: right;\n",
       "    }\n",
       "</style>\n",
       "<table border=\"1\" class=\"dataframe\">\n",
       "  <thead>\n",
       "    <tr style=\"text-align: right;\">\n",
       "      <th></th>\n",
       "      <th>R&amp;D Spend</th>\n",
       "      <th>Administration</th>\n",
       "      <th>Marketing Spend</th>\n",
       "      <th>State</th>\n",
       "      <th>Profit</th>\n",
       "    </tr>\n",
       "  </thead>\n",
       "  <tbody>\n",
       "    <tr>\n",
       "      <th>0</th>\n",
       "      <td>165349.30</td>\n",
       "      <td>136897.90</td>\n",
       "      <td>471784.20</td>\n",
       "      <td>2</td>\n",
       "      <td>192261.93</td>\n",
       "    </tr>\n",
       "    <tr>\n",
       "      <th>1</th>\n",
       "      <td>162597.80</td>\n",
       "      <td>151377.69</td>\n",
       "      <td>443898.63</td>\n",
       "      <td>0</td>\n",
       "      <td>191792.16</td>\n",
       "    </tr>\n",
       "    <tr>\n",
       "      <th>2</th>\n",
       "      <td>153441.61</td>\n",
       "      <td>101145.65</td>\n",
       "      <td>407934.64</td>\n",
       "      <td>1</td>\n",
       "      <td>191050.49</td>\n",
       "    </tr>\n",
       "    <tr>\n",
       "      <th>3</th>\n",
       "      <td>144372.51</td>\n",
       "      <td>118671.95</td>\n",
       "      <td>383199.72</td>\n",
       "      <td>2</td>\n",
       "      <td>182902.09</td>\n",
       "    </tr>\n",
       "    <tr>\n",
       "      <th>4</th>\n",
       "      <td>142107.44</td>\n",
       "      <td>91391.87</td>\n",
       "      <td>366168.52</td>\n",
       "      <td>1</td>\n",
       "      <td>166188.04</td>\n",
       "    </tr>\n",
       "  </tbody>\n",
       "</table>\n",
       "</div>"
      ],
      "text/plain": [
       "   R&D Spend  Administration  Marketing Spend  State     Profit\n",
       "0  165349.30       136897.90        471784.20      2  192261.93\n",
       "1  162597.80       151377.69        443898.63      0  191792.16\n",
       "2  153441.61       101145.65        407934.64      1  191050.49\n",
       "3  144372.51       118671.95        383199.72      2  182902.09\n",
       "4  142107.44        91391.87        366168.52      1  166188.04"
      ]
     },
     "execution_count": 8,
     "metadata": {},
     "output_type": "execute_result"
    }
   ],
   "source": [
    "df.head()"
   ]
  },
  {
   "cell_type": "code",
   "execution_count": 9,
   "id": "91e5b155",
   "metadata": {
    "execution": {
     "iopub.execute_input": "2024-12-09T19:29:15.052352Z",
     "iopub.status.busy": "2024-12-09T19:29:15.051480Z",
     "iopub.status.idle": "2024-12-09T19:29:15.061746Z",
     "shell.execute_reply": "2024-12-09T19:29:15.060825Z"
    },
    "papermill": {
     "duration": 0.025147,
     "end_time": "2024-12-09T19:29:15.063872",
     "exception": false,
     "start_time": "2024-12-09T19:29:15.038725",
     "status": "completed"
    },
    "tags": []
   },
   "outputs": [
    {
     "data": {
      "text/plain": [
       "State\n",
       "2    17\n",
       "0    17\n",
       "1    16\n",
       "Name: count, dtype: int64"
      ]
     },
     "execution_count": 9,
     "metadata": {},
     "output_type": "execute_result"
    }
   ],
   "source": [
    "df['State'].value_counts()"
   ]
  },
  {
   "cell_type": "code",
   "execution_count": 10,
   "id": "a009de50",
   "metadata": {
    "execution": {
     "iopub.execute_input": "2024-12-09T19:29:15.090199Z",
     "iopub.status.busy": "2024-12-09T19:29:15.089427Z",
     "iopub.status.idle": "2024-12-09T19:29:15.095923Z",
     "shell.execute_reply": "2024-12-09T19:29:15.094854Z"
    },
    "papermill": {
     "duration": 0.022005,
     "end_time": "2024-12-09T19:29:15.098200",
     "exception": false,
     "start_time": "2024-12-09T19:29:15.076195",
     "status": "completed"
    },
    "tags": []
   },
   "outputs": [
    {
     "data": {
      "text/plain": [
       "(50, 5)"
      ]
     },
     "execution_count": 10,
     "metadata": {},
     "output_type": "execute_result"
    }
   ],
   "source": [
    "df.shape"
   ]
  },
  {
   "cell_type": "code",
   "execution_count": 11,
   "id": "2a965bd8",
   "metadata": {
    "execution": {
     "iopub.execute_input": "2024-12-09T19:29:15.123922Z",
     "iopub.status.busy": "2024-12-09T19:29:15.123481Z",
     "iopub.status.idle": "2024-12-09T19:29:15.135166Z",
     "shell.execute_reply": "2024-12-09T19:29:15.134078Z"
    },
    "papermill": {
     "duration": 0.026604,
     "end_time": "2024-12-09T19:29:15.137170",
     "exception": false,
     "start_time": "2024-12-09T19:29:15.110566",
     "status": "completed"
    },
    "tags": []
   },
   "outputs": [
    {
     "name": "stdout",
     "output_type": "stream",
     "text": [
      "<class 'pandas.core.frame.DataFrame'>\n",
      "RangeIndex: 50 entries, 0 to 49\n",
      "Data columns (total 5 columns):\n",
      " #   Column           Non-Null Count  Dtype  \n",
      "---  ------           --------------  -----  \n",
      " 0   R&D Spend        50 non-null     float64\n",
      " 1   Administration   50 non-null     float64\n",
      " 2   Marketing Spend  50 non-null     float64\n",
      " 3   State            50 non-null     int64  \n",
      " 4   Profit           50 non-null     float64\n",
      "dtypes: float64(4), int64(1)\n",
      "memory usage: 2.1 KB\n"
     ]
    }
   ],
   "source": [
    "df.info()"
   ]
  },
  {
   "cell_type": "markdown",
   "id": "4fc784c1",
   "metadata": {
    "papermill": {
     "duration": 0.011567,
     "end_time": "2024-12-09T19:29:15.160636",
     "exception": false,
     "start_time": "2024-12-09T19:29:15.149069",
     "status": "completed"
    },
    "tags": []
   },
   "source": [
    "### Identifying Null and missing values"
   ]
  },
  {
   "cell_type": "code",
   "execution_count": 12,
   "id": "98f3ddde",
   "metadata": {
    "execution": {
     "iopub.execute_input": "2024-12-09T19:29:15.185561Z",
     "iopub.status.busy": "2024-12-09T19:29:15.185198Z",
     "iopub.status.idle": "2024-12-09T19:29:15.193914Z",
     "shell.execute_reply": "2024-12-09T19:29:15.192864Z"
    },
    "papermill": {
     "duration": 0.023585,
     "end_time": "2024-12-09T19:29:15.195937",
     "exception": false,
     "start_time": "2024-12-09T19:29:15.172352",
     "status": "completed"
    },
    "tags": []
   },
   "outputs": [
    {
     "data": {
      "text/plain": [
       "R&D Spend          0\n",
       "Administration     0\n",
       "Marketing Spend    0\n",
       "State              0\n",
       "Profit             0\n",
       "dtype: int64"
      ]
     },
     "execution_count": 12,
     "metadata": {},
     "output_type": "execute_result"
    }
   ],
   "source": [
    "df.isna().sum()"
   ]
  },
  {
   "cell_type": "code",
   "execution_count": 13,
   "id": "e3198b69",
   "metadata": {
    "execution": {
     "iopub.execute_input": "2024-12-09T19:29:15.221320Z",
     "iopub.status.busy": "2024-12-09T19:29:15.220934Z",
     "iopub.status.idle": "2024-12-09T19:29:15.229102Z",
     "shell.execute_reply": "2024-12-09T19:29:15.228102Z"
    },
    "papermill": {
     "duration": 0.023244,
     "end_time": "2024-12-09T19:29:15.231173",
     "exception": false,
     "start_time": "2024-12-09T19:29:15.207929",
     "status": "completed"
    },
    "tags": []
   },
   "outputs": [
    {
     "data": {
      "text/plain": [
       "R&D Spend          0\n",
       "Administration     0\n",
       "Marketing Spend    0\n",
       "State              0\n",
       "Profit             0\n",
       "dtype: int64"
      ]
     },
     "execution_count": 13,
     "metadata": {},
     "output_type": "execute_result"
    }
   ],
   "source": [
    "df.isnull().sum()"
   ]
  },
  {
   "cell_type": "markdown",
   "id": "0530b261",
   "metadata": {
    "papermill": {
     "duration": 0.011374,
     "end_time": "2024-12-09T19:29:15.254312",
     "exception": false,
     "start_time": "2024-12-09T19:29:15.242938",
     "status": "completed"
    },
    "tags": []
   },
   "source": [
    "## Step-2:Data Exploration"
   ]
  },
  {
   "cell_type": "code",
   "execution_count": 14,
   "id": "59031c10",
   "metadata": {
    "execution": {
     "iopub.execute_input": "2024-12-09T19:29:15.279589Z",
     "iopub.status.busy": "2024-12-09T19:29:15.279207Z",
     "iopub.status.idle": "2024-12-09T19:29:15.293417Z",
     "shell.execute_reply": "2024-12-09T19:29:15.292396Z"
    },
    "papermill": {
     "duration": 0.029267,
     "end_time": "2024-12-09T19:29:15.295454",
     "exception": false,
     "start_time": "2024-12-09T19:29:15.266187",
     "status": "completed"
    },
    "tags": []
   },
   "outputs": [
    {
     "data": {
      "text/html": [
       "<div>\n",
       "<style scoped>\n",
       "    .dataframe tbody tr th:only-of-type {\n",
       "        vertical-align: middle;\n",
       "    }\n",
       "\n",
       "    .dataframe tbody tr th {\n",
       "        vertical-align: top;\n",
       "    }\n",
       "\n",
       "    .dataframe thead th {\n",
       "        text-align: right;\n",
       "    }\n",
       "</style>\n",
       "<table border=\"1\" class=\"dataframe\">\n",
       "  <thead>\n",
       "    <tr style=\"text-align: right;\">\n",
       "      <th></th>\n",
       "      <th>R&amp;D Spend</th>\n",
       "      <th>Administration</th>\n",
       "      <th>Marketing Spend</th>\n",
       "      <th>State</th>\n",
       "      <th>Profit</th>\n",
       "    </tr>\n",
       "  </thead>\n",
       "  <tbody>\n",
       "    <tr>\n",
       "      <th>R&amp;D Spend</th>\n",
       "      <td>1.000000</td>\n",
       "      <td>0.241955</td>\n",
       "      <td>0.724248</td>\n",
       "      <td>0.104685</td>\n",
       "      <td>0.972900</td>\n",
       "    </tr>\n",
       "    <tr>\n",
       "      <th>Administration</th>\n",
       "      <td>0.241955</td>\n",
       "      <td>1.000000</td>\n",
       "      <td>-0.032154</td>\n",
       "      <td>0.011847</td>\n",
       "      <td>0.200717</td>\n",
       "    </tr>\n",
       "    <tr>\n",
       "      <th>Marketing Spend</th>\n",
       "      <td>0.724248</td>\n",
       "      <td>-0.032154</td>\n",
       "      <td>1.000000</td>\n",
       "      <td>0.077670</td>\n",
       "      <td>0.747766</td>\n",
       "    </tr>\n",
       "    <tr>\n",
       "      <th>State</th>\n",
       "      <td>0.104685</td>\n",
       "      <td>0.011847</td>\n",
       "      <td>0.077670</td>\n",
       "      <td>1.000000</td>\n",
       "      <td>0.101796</td>\n",
       "    </tr>\n",
       "    <tr>\n",
       "      <th>Profit</th>\n",
       "      <td>0.972900</td>\n",
       "      <td>0.200717</td>\n",
       "      <td>0.747766</td>\n",
       "      <td>0.101796</td>\n",
       "      <td>1.000000</td>\n",
       "    </tr>\n",
       "  </tbody>\n",
       "</table>\n",
       "</div>"
      ],
      "text/plain": [
       "                 R&D Spend  Administration  Marketing Spend     State  \\\n",
       "R&D Spend         1.000000        0.241955         0.724248  0.104685   \n",
       "Administration    0.241955        1.000000        -0.032154  0.011847   \n",
       "Marketing Spend   0.724248       -0.032154         1.000000  0.077670   \n",
       "State             0.104685        0.011847         0.077670  1.000000   \n",
       "Profit            0.972900        0.200717         0.747766  0.101796   \n",
       "\n",
       "                   Profit  \n",
       "R&D Spend        0.972900  \n",
       "Administration   0.200717  \n",
       "Marketing Spend  0.747766  \n",
       "State            0.101796  \n",
       "Profit           1.000000  "
      ]
     },
     "execution_count": 14,
     "metadata": {},
     "output_type": "execute_result"
    }
   ],
   "source": [
    "df.corr()"
   ]
  },
  {
   "cell_type": "code",
   "execution_count": 15,
   "id": "3d68967d",
   "metadata": {
    "execution": {
     "iopub.execute_input": "2024-12-09T19:29:15.321588Z",
     "iopub.status.busy": "2024-12-09T19:29:15.320642Z",
     "iopub.status.idle": "2024-12-09T19:29:22.304842Z",
     "shell.execute_reply": "2024-12-09T19:29:22.303744Z"
    },
    "papermill": {
     "duration": 7.000166,
     "end_time": "2024-12-09T19:29:22.307558",
     "exception": false,
     "start_time": "2024-12-09T19:29:15.307392",
     "status": "completed"
    },
    "tags": []
   },
   "outputs": [
    {
     "name": "stderr",
     "output_type": "stream",
     "text": [
      "/opt/conda/lib/python3.10/site-packages/seaborn/_oldcore.py:1119: FutureWarning: use_inf_as_na option is deprecated and will be removed in a future version. Convert inf values to NaN before operating instead.\n",
      "  with pd.option_context('mode.use_inf_as_na', True):\n",
      "/opt/conda/lib/python3.10/site-packages/seaborn/_oldcore.py:1119: FutureWarning: use_inf_as_na option is deprecated and will be removed in a future version. Convert inf values to NaN before operating instead.\n",
      "  with pd.option_context('mode.use_inf_as_na', True):\n",
      "/opt/conda/lib/python3.10/site-packages/seaborn/_oldcore.py:1119: FutureWarning: use_inf_as_na option is deprecated and will be removed in a future version. Convert inf values to NaN before operating instead.\n",
      "  with pd.option_context('mode.use_inf_as_na', True):\n",
      "/opt/conda/lib/python3.10/site-packages/seaborn/_oldcore.py:1119: FutureWarning: use_inf_as_na option is deprecated and will be removed in a future version. Convert inf values to NaN before operating instead.\n",
      "  with pd.option_context('mode.use_inf_as_na', True):\n",
      "/opt/conda/lib/python3.10/site-packages/seaborn/_oldcore.py:1119: FutureWarning: use_inf_as_na option is deprecated and will be removed in a future version. Convert inf values to NaN before operating instead.\n",
      "  with pd.option_context('mode.use_inf_as_na', True):\n"
     ]
    },
    {
     "data": {
      "text/plain": [
       "<seaborn.axisgrid.PairGrid at 0x7f6f3397b1f0>"
      ]
     },
     "execution_count": 15,
     "metadata": {},
     "output_type": "execute_result"
    },
    {
     "data": {
      "image/png": "[encoded data removed]",
      "text/plain": [
       "<Figure size 1250x1250 with 30 Axes>"
      ]
     },
     "metadata": {},
     "output_type": "display_data"
    }
   ],
   "source": [
    "import seaborn as sns\n",
    "sns.pairplot(df)"
   ]
  },
  {
   "cell_type": "markdown",
   "id": "cd72ddf3",
   "metadata": {
    "papermill": {
     "duration": 0.013696,
     "end_time": "2024-12-09T19:29:22.335708",
     "exception": false,
     "start_time": "2024-12-09T19:29:22.322012",
     "status": "completed"
    },
    "tags": []
   },
   "source": [
    "### Checking profit distribution"
   ]
  },
  {
   "cell_type": "code",
   "execution_count": 16,
   "id": "164e67ca",
   "metadata": {
    "execution": {
     "iopub.execute_input": "2024-12-09T19:29:22.366061Z",
     "iopub.status.busy": "2024-12-09T19:29:22.365004Z",
     "iopub.status.idle": "2024-12-09T19:29:22.817979Z",
     "shell.execute_reply": "2024-12-09T19:29:22.816995Z"
    },
    "papermill": {
     "duration": 0.470501,
     "end_time": "2024-12-09T19:29:22.820264",
     "exception": false,
     "start_time": "2024-12-09T19:29:22.349763",
     "status": "completed"
    },
    "tags": []
   },
   "outputs": [
    {
     "data": {
      "image/png": "[encoded data removed]",
      "text/plain": [
       "<Figure size 1000x600 with 1 Axes>"
      ]
     },
     "metadata": {},
     "output_type": "display_data"
    }
   ],
   "source": [
    "import matplotlib.pyplot as plt\n",
    "profit_data = df['Profit']\n",
    "\n",
    "# Create the histogram\n",
    "plt.figure(figsize=(10, 6))\n",
    "n, bins, patches = plt.hist(profit_data, bins=10, color='skyblue', edgecolor='black', alpha=0.7)\n",
    "\n",
    "# Add frequency counts on top of each bar\n",
    "for i in range(len(n)):\n",
    "    plt.text(bins[i] + (bins[i+1] - bins[i]) / 2, n[i], int(n[i]), ha='center', va='bottom', fontsize=10)\n",
    "\n",
    "# Add a line plot\n",
    "bin_centers = 0.5 * (bins[:-1] + bins[1:])  # Calculate the center of each bin\n",
    "plt.plot(bin_centers, n, '-o', color='orange', label='Frequency Line Plot')\n",
    "\n",
    "# Customize the plot\n",
    "plt.title(\"Profit Distribution with Line Plot\", fontsize=14)\n",
    "plt.xlabel(\"Profit\", fontsize=12)\n",
    "plt.ylabel(\"Frequency\", fontsize=12)\n",
    "plt.grid(axis='y', linestyle='--', alpha=0.7)\n",
    "plt.legend()\n",
    "plt.tight_layout()\n",
    "plt.show()"
   ]
  },
  {
   "cell_type": "markdown",
   "id": "79f5a760",
   "metadata": {
    "papermill": {
     "duration": 0.015278,
     "end_time": "2024-12-09T19:29:22.851480",
     "exception": false,
     "start_time": "2024-12-09T19:29:22.836202",
     "status": "completed"
    },
    "tags": []
   },
   "source": [
    "### Checking relationship between Profits and R&D Spend"
   ]
  },
  {
   "cell_type": "code",
   "execution_count": 17,
   "id": "4157cee4",
   "metadata": {
    "execution": {
     "iopub.execute_input": "2024-12-09T19:29:22.884179Z",
     "iopub.status.busy": "2024-12-09T19:29:22.883217Z",
     "iopub.status.idle": "2024-12-09T19:29:23.179239Z",
     "shell.execute_reply": "2024-12-09T19:29:23.178195Z"
    },
    "papermill": {
     "duration": 0.314733,
     "end_time": "2024-12-09T19:29:23.181309",
     "exception": false,
     "start_time": "2024-12-09T19:29:22.866576",
     "status": "completed"
    },
    "tags": []
   },
   "outputs": [
    {
     "data": {
      "text/plain": [
       "Text(0, 0.5, 'R&D Spends')"
      ]
     },
     "execution_count": 17,
     "metadata": {},
     "output_type": "execute_result"
    },
    {
     "data": {
      "image/png": "[encoded data removed]",
      "text/plain": [
       "<Figure size 1000x600 with 1 Axes>"
      ]
     },
     "metadata": {},
     "output_type": "display_data"
    }
   ],
   "source": [
    "import matplotlib.pyplot as plt\n",
    "\n",
    "x = df['Profit']\n",
    "y = df['R&D Spend']\n",
    "\n",
    "\n",
    "plt.figure(figsize=(10, 6))\n",
    "plt.scatter(x,y)\n",
    "plt.plot(x,y)\n",
    "plt.xlabel(\"Profits\")\n",
    "plt.ylabel(\"R&D Spends\")\n"
   ]
  },
  {
   "cell_type": "markdown",
   "id": "ca44cc9c",
   "metadata": {
    "papermill": {
     "duration": 0.015452,
     "end_time": "2024-12-09T19:29:23.212735",
     "exception": false,
     "start_time": "2024-12-09T19:29:23.197283",
     "status": "completed"
    },
    "tags": []
   },
   "source": [
    "### Checking relationship between Marketing Spends and R&D Spends"
   ]
  },
  {
   "cell_type": "code",
   "execution_count": 18,
   "id": "19881f60",
   "metadata": {
    "execution": {
     "iopub.execute_input": "2024-12-09T19:29:23.246132Z",
     "iopub.status.busy": "2024-12-09T19:29:23.245684Z",
     "iopub.status.idle": "2024-12-09T19:29:23.446715Z",
     "shell.execute_reply": "2024-12-09T19:29:23.445374Z"
    },
    "papermill": {
     "duration": 0.220539,
     "end_time": "2024-12-09T19:29:23.449103",
     "exception": false,
     "start_time": "2024-12-09T19:29:23.228564",
     "status": "completed"
    },
    "tags": []
   },
   "outputs": [
    {
     "data": {
      "text/plain": [
       "Text(0, 0.5, 'R&D Spends')"
      ]
     },
     "execution_count": 18,
     "metadata": {},
     "output_type": "execute_result"
    },
    {
     "data": {
      "image/png": "[encoded data removed]",
      "text/plain": [
       "<Figure size 640x480 with 1 Axes>"
      ]
     },
     "metadata": {},
     "output_type": "display_data"
    }
   ],
   "source": [
    "import matplotlib.pyplot as plt\n",
    "\n",
    "x = df['Marketing Spend']\n",
    "y = df['R&D Spend']\n",
    "\n",
    "plt.scatter(x,y)\n",
    "plt.plot(x,y)\n",
    "plt.xlabel(\"Marketing Spends\")\n",
    "plt.ylabel(\"R&D Spends\")"
   ]
  },
  {
   "cell_type": "code",
   "execution_count": 19,
   "id": "8aad187c",
   "metadata": {
    "execution": {
     "iopub.execute_input": "2024-12-09T19:29:23.486194Z",
     "iopub.status.busy": "2024-12-09T19:29:23.485762Z",
     "iopub.status.idle": "2024-12-09T19:29:24.251542Z",
     "shell.execute_reply": "2024-12-09T19:29:24.250154Z"
    },
    "papermill": {
     "duration": 0.785617,
     "end_time": "2024-12-09T19:29:24.253640",
     "exception": false,
     "start_time": "2024-12-09T19:29:23.468023",
     "status": "completed"
    },
    "tags": []
   },
   "outputs": [
    {
     "data": {
      "text/plain": [
       "Text(0, 0.5, 'R&D Spends')"
      ]
     },
     "execution_count": 19,
     "metadata": {},
     "output_type": "execute_result"
    },
    {
     "data": {
      "image/png": "[encoded data removed]",
      "text/plain": [
       "<Figure size 640x480 with 1 Axes>"
      ]
     },
     "metadata": {},
     "output_type": "display_data"
    }
   ],
   "source": [
    "import matplotlib.pyplot as plt\n",
    "\n",
    "x = df['Marketing Spend']\n",
    "y = df['R&D Spend']\n",
    "\n",
    "plt.scatter(x,y)\n",
    "plt.plot(x,y)\n",
    "plt.xscale('log')\n",
    "# plt.yscale('symlog')\n",
    "plt.xlabel(\"Marketing Spends\")\n",
    "plt.ylabel(\"R&D Spends\")"
   ]
  },
  {
   "cell_type": "markdown",
   "id": "2c8e4e52",
   "metadata": {
    "papermill": {
     "duration": 0.016793,
     "end_time": "2024-12-09T19:29:24.287437",
     "exception": false,
     "start_time": "2024-12-09T19:29:24.270644",
     "status": "completed"
    },
    "tags": []
   },
   "source": [
    "## Step-3:Data Preprossing"
   ]
  },
  {
   "cell_type": "code",
   "execution_count": 20,
   "id": "7e5254f2",
   "metadata": {
    "execution": {
     "iopub.execute_input": "2024-12-09T19:29:24.324301Z",
     "iopub.status.busy": "2024-12-09T19:29:24.323884Z",
     "iopub.status.idle": "2024-12-09T19:29:24.330192Z",
     "shell.execute_reply": "2024-12-09T19:29:24.329052Z"
    },
    "papermill": {
     "duration": 0.02685,
     "end_time": "2024-12-09T19:29:24.332250",
     "exception": false,
     "start_time": "2024-12-09T19:29:24.305400",
     "status": "completed"
    },
    "tags": []
   },
   "outputs": [],
   "source": [
    "X= df[['R&D Spend','Administration','Marketing Spend','State']]"
   ]
  },
  {
   "cell_type": "code",
   "execution_count": 21,
   "id": "97446c54",
   "metadata": {
    "execution": {
     "iopub.execute_input": "2024-12-09T19:29:24.368963Z",
     "iopub.status.busy": "2024-12-09T19:29:24.368187Z",
     "iopub.status.idle": "2024-12-09T19:29:24.388128Z",
     "shell.execute_reply": "2024-12-09T19:29:24.386789Z"
    },
    "papermill": {
     "duration": 0.040928,
     "end_time": "2024-12-09T19:29:24.390334",
     "exception": false,
     "start_time": "2024-12-09T19:29:24.349406",
     "status": "completed"
    },
    "tags": []
   },
   "outputs": [
    {
     "data": {
      "text/html": [
       "<div>\n",
       "<style scoped>\n",
       "    .dataframe tbody tr th:only-of-type {\n",
       "        vertical-align: middle;\n",
       "    }\n",
       "\n",
       "    .dataframe tbody tr th {\n",
       "        vertical-align: top;\n",
       "    }\n",
       "\n",
       "    .dataframe thead th {\n",
       "        text-align: right;\n",
       "    }\n",
       "</style>\n",
       "<table border=\"1\" class=\"dataframe\">\n",
       "  <thead>\n",
       "    <tr style=\"text-align: right;\">\n",
       "      <th></th>\n",
       "      <th>R&amp;D Spend</th>\n",
       "      <th>Administration</th>\n",
       "      <th>Marketing Spend</th>\n",
       "      <th>State</th>\n",
       "    </tr>\n",
       "  </thead>\n",
       "  <tbody>\n",
       "    <tr>\n",
       "      <th>0</th>\n",
       "      <td>165349.30</td>\n",
       "      <td>136897.90</td>\n",
       "      <td>471784.20</td>\n",
       "      <td>2</td>\n",
       "    </tr>\n",
       "    <tr>\n",
       "      <th>1</th>\n",
       "      <td>162597.80</td>\n",
       "      <td>151377.69</td>\n",
       "      <td>443898.63</td>\n",
       "      <td>0</td>\n",
       "    </tr>\n",
       "    <tr>\n",
       "      <th>2</th>\n",
       "      <td>153441.61</td>\n",
       "      <td>101145.65</td>\n",
       "      <td>407934.64</td>\n",
       "      <td>1</td>\n",
       "    </tr>\n",
       "    <tr>\n",
       "      <th>3</th>\n",
       "      <td>144372.51</td>\n",
       "      <td>118671.95</td>\n",
       "      <td>383199.72</td>\n",
       "      <td>2</td>\n",
       "    </tr>\n",
       "    <tr>\n",
       "      <th>4</th>\n",
       "      <td>142107.44</td>\n",
       "      <td>91391.87</td>\n",
       "      <td>366168.52</td>\n",
       "      <td>1</td>\n",
       "    </tr>\n",
       "    <tr>\n",
       "      <th>5</th>\n",
       "      <td>131877.00</td>\n",
       "      <td>99814.81</td>\n",
       "      <td>362861.46</td>\n",
       "      <td>2</td>\n",
       "    </tr>\n",
       "    <tr>\n",
       "      <th>6</th>\n",
       "      <td>134615.56</td>\n",
       "      <td>147198.97</td>\n",
       "      <td>127716.92</td>\n",
       "      <td>0</td>\n",
       "    </tr>\n",
       "    <tr>\n",
       "      <th>7</th>\n",
       "      <td>130298.23</td>\n",
       "      <td>145530.16</td>\n",
       "      <td>323876.78</td>\n",
       "      <td>1</td>\n",
       "    </tr>\n",
       "    <tr>\n",
       "      <th>8</th>\n",
       "      <td>120542.62</td>\n",
       "      <td>148719.05</td>\n",
       "      <td>311613.39</td>\n",
       "      <td>2</td>\n",
       "    </tr>\n",
       "    <tr>\n",
       "      <th>9</th>\n",
       "      <td>123334.98</td>\n",
       "      <td>108679.27</td>\n",
       "      <td>304981.72</td>\n",
       "      <td>0</td>\n",
       "    </tr>\n",
       "    <tr>\n",
       "      <th>10</th>\n",
       "      <td>101913.18</td>\n",
       "      <td>110594.21</td>\n",
       "      <td>229161.05</td>\n",
       "      <td>1</td>\n",
       "    </tr>\n",
       "    <tr>\n",
       "      <th>11</th>\n",
       "      <td>100672.06</td>\n",
       "      <td>91790.71</td>\n",
       "      <td>249744.65</td>\n",
       "      <td>0</td>\n",
       "    </tr>\n",
       "    <tr>\n",
       "      <th>12</th>\n",
       "      <td>93863.85</td>\n",
       "      <td>127320.48</td>\n",
       "      <td>249839.54</td>\n",
       "      <td>1</td>\n",
       "    </tr>\n",
       "    <tr>\n",
       "      <th>13</th>\n",
       "      <td>91992.49</td>\n",
       "      <td>135495.17</td>\n",
       "      <td>252665.03</td>\n",
       "      <td>0</td>\n",
       "    </tr>\n",
       "    <tr>\n",
       "      <th>14</th>\n",
       "      <td>119943.34</td>\n",
       "      <td>156547.52</td>\n",
       "      <td>256513.02</td>\n",
       "      <td>1</td>\n",
       "    </tr>\n",
       "    <tr>\n",
       "      <th>15</th>\n",
       "      <td>114523.71</td>\n",
       "      <td>122616.94</td>\n",
       "      <td>261776.33</td>\n",
       "      <td>2</td>\n",
       "    </tr>\n",
       "    <tr>\n",
       "      <th>16</th>\n",
       "      <td>78013.21</td>\n",
       "      <td>121597.65</td>\n",
       "      <td>264346.16</td>\n",
       "      <td>0</td>\n",
       "    </tr>\n",
       "    <tr>\n",
       "      <th>17</th>\n",
       "      <td>94657.26</td>\n",
       "      <td>145077.68</td>\n",
       "      <td>282574.41</td>\n",
       "      <td>2</td>\n",
       "    </tr>\n",
       "    <tr>\n",
       "      <th>18</th>\n",
       "      <td>91749.26</td>\n",
       "      <td>114175.89</td>\n",
       "      <td>294919.67</td>\n",
       "      <td>1</td>\n",
       "    </tr>\n",
       "    <tr>\n",
       "      <th>19</th>\n",
       "      <td>86419.80</td>\n",
       "      <td>153514.21</td>\n",
       "      <td>0.10</td>\n",
       "      <td>2</td>\n",
       "    </tr>\n",
       "    <tr>\n",
       "      <th>20</th>\n",
       "      <td>76253.96</td>\n",
       "      <td>113867.40</td>\n",
       "      <td>298664.57</td>\n",
       "      <td>0</td>\n",
       "    </tr>\n",
       "    <tr>\n",
       "      <th>21</th>\n",
       "      <td>78389.57</td>\n",
       "      <td>153773.53</td>\n",
       "      <td>299737.39</td>\n",
       "      <td>2</td>\n",
       "    </tr>\n",
       "    <tr>\n",
       "      <th>22</th>\n",
       "      <td>73994.66</td>\n",
       "      <td>122782.85</td>\n",
       "      <td>303319.36</td>\n",
       "      <td>1</td>\n",
       "    </tr>\n",
       "    <tr>\n",
       "      <th>23</th>\n",
       "      <td>67532.63</td>\n",
       "      <td>105751.13</td>\n",
       "      <td>304768.83</td>\n",
       "      <td>1</td>\n",
       "    </tr>\n",
       "    <tr>\n",
       "      <th>24</th>\n",
       "      <td>77044.11</td>\n",
       "      <td>99281.44</td>\n",
       "      <td>140574.91</td>\n",
       "      <td>2</td>\n",
       "    </tr>\n",
       "    <tr>\n",
       "      <th>25</th>\n",
       "      <td>64664.81</td>\n",
       "      <td>139553.26</td>\n",
       "      <td>137962.72</td>\n",
       "      <td>0</td>\n",
       "    </tr>\n",
       "    <tr>\n",
       "      <th>26</th>\n",
       "      <td>75328.97</td>\n",
       "      <td>144136.08</td>\n",
       "      <td>134050.17</td>\n",
       "      <td>1</td>\n",
       "    </tr>\n",
       "    <tr>\n",
       "      <th>27</th>\n",
       "      <td>72107.70</td>\n",
       "      <td>127864.65</td>\n",
       "      <td>353183.91</td>\n",
       "      <td>2</td>\n",
       "    </tr>\n",
       "    <tr>\n",
       "      <th>28</th>\n",
       "      <td>66051.62</td>\n",
       "      <td>182645.66</td>\n",
       "      <td>118148.30</td>\n",
       "      <td>1</td>\n",
       "    </tr>\n",
       "    <tr>\n",
       "      <th>29</th>\n",
       "      <td>65605.58</td>\n",
       "      <td>153032.16</td>\n",
       "      <td>107138.48</td>\n",
       "      <td>2</td>\n",
       "    </tr>\n",
       "    <tr>\n",
       "      <th>30</th>\n",
       "      <td>61994.58</td>\n",
       "      <td>115641.38</td>\n",
       "      <td>91131.34</td>\n",
       "      <td>1</td>\n",
       "    </tr>\n",
       "    <tr>\n",
       "      <th>31</th>\n",
       "      <td>61136.48</td>\n",
       "      <td>152702.02</td>\n",
       "      <td>88218.33</td>\n",
       "      <td>2</td>\n",
       "    </tr>\n",
       "    <tr>\n",
       "      <th>32</th>\n",
       "      <td>63408.96</td>\n",
       "      <td>129219.71</td>\n",
       "      <td>46085.35</td>\n",
       "      <td>0</td>\n",
       "    </tr>\n",
       "    <tr>\n",
       "      <th>33</th>\n",
       "      <td>55494.05</td>\n",
       "      <td>103057.59</td>\n",
       "      <td>214634.91</td>\n",
       "      <td>1</td>\n",
       "    </tr>\n",
       "    <tr>\n",
       "      <th>34</th>\n",
       "      <td>46426.17</td>\n",
       "      <td>157694.02</td>\n",
       "      <td>210797.77</td>\n",
       "      <td>0</td>\n",
       "    </tr>\n",
       "    <tr>\n",
       "      <th>35</th>\n",
       "      <td>46014.12</td>\n",
       "      <td>85047.54</td>\n",
       "      <td>205517.74</td>\n",
       "      <td>2</td>\n",
       "    </tr>\n",
       "    <tr>\n",
       "      <th>36</th>\n",
       "      <td>28663.86</td>\n",
       "      <td>127056.31</td>\n",
       "      <td>201126.92</td>\n",
       "      <td>1</td>\n",
       "    </tr>\n",
       "    <tr>\n",
       "      <th>37</th>\n",
       "      <td>44070.05</td>\n",
       "      <td>51283.24</td>\n",
       "      <td>197029.52</td>\n",
       "      <td>0</td>\n",
       "    </tr>\n",
       "    <tr>\n",
       "      <th>38</th>\n",
       "      <td>20229.69</td>\n",
       "      <td>65948.03</td>\n",
       "      <td>185265.20</td>\n",
       "      <td>2</td>\n",
       "    </tr>\n",
       "    <tr>\n",
       "      <th>39</th>\n",
       "      <td>38558.61</td>\n",
       "      <td>82982.19</td>\n",
       "      <td>174999.40</td>\n",
       "      <td>0</td>\n",
       "    </tr>\n",
       "    <tr>\n",
       "      <th>40</th>\n",
       "      <td>28754.43</td>\n",
       "      <td>118546.15</td>\n",
       "      <td>172795.77</td>\n",
       "      <td>0</td>\n",
       "    </tr>\n",
       "    <tr>\n",
       "      <th>41</th>\n",
       "      <td>27893.02</td>\n",
       "      <td>84710.87</td>\n",
       "      <td>164470.81</td>\n",
       "      <td>1</td>\n",
       "    </tr>\n",
       "    <tr>\n",
       "      <th>42</th>\n",
       "      <td>23641.03</td>\n",
       "      <td>96189.73</td>\n",
       "      <td>148001.21</td>\n",
       "      <td>0</td>\n",
       "    </tr>\n",
       "    <tr>\n",
       "      <th>43</th>\n",
       "      <td>15505.83</td>\n",
       "      <td>127382.40</td>\n",
       "      <td>35534.27</td>\n",
       "      <td>2</td>\n",
       "    </tr>\n",
       "    <tr>\n",
       "      <th>44</th>\n",
       "      <td>22177.84</td>\n",
       "      <td>154806.24</td>\n",
       "      <td>28334.82</td>\n",
       "      <td>0</td>\n",
       "    </tr>\n",
       "    <tr>\n",
       "      <th>45</th>\n",
       "      <td>1000.33</td>\n",
       "      <td>124153.14</td>\n",
       "      <td>1904.03</td>\n",
       "      <td>2</td>\n",
       "    </tr>\n",
       "    <tr>\n",
       "      <th>46</th>\n",
       "      <td>1315.56</td>\n",
       "      <td>115816.31</td>\n",
       "      <td>297114.56</td>\n",
       "      <td>1</td>\n",
       "    </tr>\n",
       "    <tr>\n",
       "      <th>47</th>\n",
       "      <td>0.10</td>\n",
       "      <td>135427.02</td>\n",
       "      <td>0.10</td>\n",
       "      <td>0</td>\n",
       "    </tr>\n",
       "    <tr>\n",
       "      <th>48</th>\n",
       "      <td>542.15</td>\n",
       "      <td>51743.25</td>\n",
       "      <td>0.10</td>\n",
       "      <td>2</td>\n",
       "    </tr>\n",
       "    <tr>\n",
       "      <th>49</th>\n",
       "      <td>0.10</td>\n",
       "      <td>116983.90</td>\n",
       "      <td>45173.16</td>\n",
       "      <td>0</td>\n",
       "    </tr>\n",
       "  </tbody>\n",
       "</table>\n",
       "</div>"
      ],
      "text/plain": [
       "    R&D Spend  Administration  Marketing Spend  State\n",
       "0   165349.30       136897.90        471784.20      2\n",
       "1   162597.80       151377.69        443898.63      0\n",
       "2   153441.61       101145.65        407934.64      1\n",
       "3   144372.51       118671.95        383199.72      2\n",
       "4   142107.44        91391.87        366168.52      1\n",
       "5   131877.00        99814.81        362861.46      2\n",
       "6   134615.56       147198.97        127716.92      0\n",
       "7   130298.23       145530.16        323876.78      1\n",
       "8   120542.62       148719.05        311613.39      2\n",
       "9   123334.98       108679.27        304981.72      0\n",
       "10  101913.18       110594.21        229161.05      1\n",
       "11  100672.06        91790.71        249744.65      0\n",
       "12   93863.85       127320.48        249839.54      1\n",
       "13   91992.49       135495.17        252665.03      0\n",
       "14  119943.34       156547.52        256513.02      1\n",
       "15  114523.71       122616.94        261776.33      2\n",
       "16   78013.21       121597.65        264346.16      0\n",
       "17   94657.26       145077.68        282574.41      2\n",
       "18   91749.26       114175.89        294919.67      1\n",
       "19   86419.80       153514.21             0.10      2\n",
       "20   76253.96       113867.40        298664.57      0\n",
       "21   78389.57       153773.53        299737.39      2\n",
       "22   73994.66       122782.85        303319.36      1\n",
       "23   67532.63       105751.13        304768.83      1\n",
       "24   77044.11        99281.44        140574.91      2\n",
       "25   64664.81       139553.26        137962.72      0\n",
       "26   75328.97       144136.08        134050.17      1\n",
       "27   72107.70       127864.65        353183.91      2\n",
       "28   66051.62       182645.66        118148.30      1\n",
       "29   65605.58       153032.16        107138.48      2\n",
       "30   61994.58       115641.38         91131.34      1\n",
       "31   61136.48       152702.02         88218.33      2\n",
       "32   63408.96       129219.71         46085.35      0\n",
       "33   55494.05       103057.59        214634.91      1\n",
       "34   46426.17       157694.02        210797.77      0\n",
       "35   46014.12        85047.54        205517.74      2\n",
       "36   28663.86       127056.31        201126.92      1\n",
       "37   44070.05        51283.24        197029.52      0\n",
       "38   20229.69        65948.03        185265.20      2\n",
       "39   38558.61        82982.19        174999.40      0\n",
       "40   28754.43       118546.15        172795.77      0\n",
       "41   27893.02        84710.87        164470.81      1\n",
       "42   23641.03        96189.73        148001.21      0\n",
       "43   15505.83       127382.40         35534.27      2\n",
       "44   22177.84       154806.24         28334.82      0\n",
       "45    1000.33       124153.14          1904.03      2\n",
       "46    1315.56       115816.31        297114.56      1\n",
       "47       0.10       135427.02             0.10      0\n",
       "48     542.15        51743.25             0.10      2\n",
       "49       0.10       116983.90         45173.16      0"
      ]
     },
     "execution_count": 21,
     "metadata": {},
     "output_type": "execute_result"
    }
   ],
   "source": [
    "X"
   ]
  },
  {
   "cell_type": "code",
   "execution_count": 22,
   "id": "a8d44180",
   "metadata": {
    "execution": {
     "iopub.execute_input": "2024-12-09T19:29:24.427653Z",
     "iopub.status.busy": "2024-12-09T19:29:24.427270Z",
     "iopub.status.idle": "2024-12-09T19:29:24.434476Z",
     "shell.execute_reply": "2024-12-09T19:29:24.433290Z"
    },
    "papermill": {
     "duration": 0.028338,
     "end_time": "2024-12-09T19:29:24.436510",
     "exception": false,
     "start_time": "2024-12-09T19:29:24.408172",
     "status": "completed"
    },
    "tags": []
   },
   "outputs": [
    {
     "data": {
      "text/plain": [
       "(50, 4)"
      ]
     },
     "execution_count": 22,
     "metadata": {},
     "output_type": "execute_result"
    }
   ],
   "source": [
    "X.shape"
   ]
  },
  {
   "cell_type": "code",
   "execution_count": 23,
   "id": "cdf3efba",
   "metadata": {
    "execution": {
     "iopub.execute_input": "2024-12-09T19:29:24.475519Z",
     "iopub.status.busy": "2024-12-09T19:29:24.474647Z",
     "iopub.status.idle": "2024-12-09T19:29:24.480032Z",
     "shell.execute_reply": "2024-12-09T19:29:24.478839Z"
    },
    "papermill": {
     "duration": 0.028315,
     "end_time": "2024-12-09T19:29:24.482360",
     "exception": false,
     "start_time": "2024-12-09T19:29:24.454045",
     "status": "completed"
    },
    "tags": []
   },
   "outputs": [],
   "source": [
    "y = df['Profit']"
   ]
  },
  {
   "cell_type": "code",
   "execution_count": 24,
   "id": "7c19612f",
   "metadata": {
    "execution": {
     "iopub.execute_input": "2024-12-09T19:29:24.520664Z",
     "iopub.status.busy": "2024-12-09T19:29:24.519724Z",
     "iopub.status.idle": "2024-12-09T19:29:24.528692Z",
     "shell.execute_reply": "2024-12-09T19:29:24.527574Z"
    },
    "papermill": {
     "duration": 0.029831,
     "end_time": "2024-12-09T19:29:24.530737",
     "exception": false,
     "start_time": "2024-12-09T19:29:24.500906",
     "status": "completed"
    },
    "tags": []
   },
   "outputs": [
    {
     "data": {
      "text/plain": [
       "0     192261.93\n",
       "1     191792.16\n",
       "2     191050.49\n",
       "3     182902.09\n",
       "4     166188.04\n",
       "5     156991.22\n",
       "6     156122.61\n",
       "7     155752.70\n",
       "8     152211.87\n",
       "9     149760.06\n",
       "10    146122.05\n",
       "11    144259.50\n",
       "12    141585.62\n",
       "13    134307.45\n",
       "14    132602.75\n",
       "15    129917.14\n",
       "16    126993.03\n",
       "17    125370.47\n",
       "18    124267.00\n",
       "19    122776.96\n",
       "20    118474.13\n",
       "21    111313.12\n",
       "22    110352.35\n",
       "23    108734.09\n",
       "24    108552.14\n",
       "25    107404.44\n",
       "26    105733.64\n",
       "27    105008.41\n",
       "28    103282.48\n",
       "29    101004.74\n",
       "30     99937.69\n",
       "31     97483.66\n",
       "32     97427.94\n",
       "33     96779.02\n",
       "34     96712.90\n",
       "35     96479.61\n",
       "36     90708.29\n",
       "37     89949.24\n",
       "38     81229.16\n",
       "39     81005.86\n",
       "40     78240.01\n",
       "41     77798.93\n",
       "42     71498.59\n",
       "43     69759.08\n",
       "44     65200.43\n",
       "45     64926.18\n",
       "46     49490.85\n",
       "47     42559.83\n",
       "48     35673.51\n",
       "49     14681.50\n",
       "Name: Profit, dtype: float64"
      ]
     },
     "execution_count": 24,
     "metadata": {},
     "output_type": "execute_result"
    }
   ],
   "source": [
    "y"
   ]
  },
  {
   "cell_type": "code",
   "execution_count": 25,
   "id": "fa2d4f44",
   "metadata": {
    "execution": {
     "iopub.execute_input": "2024-12-09T19:29:24.568838Z",
     "iopub.status.busy": "2024-12-09T19:29:24.567893Z",
     "iopub.status.idle": "2024-12-09T19:29:24.574381Z",
     "shell.execute_reply": "2024-12-09T19:29:24.573339Z"
    },
    "papermill": {
     "duration": 0.027808,
     "end_time": "2024-12-09T19:29:24.576385",
     "exception": false,
     "start_time": "2024-12-09T19:29:24.548577",
     "status": "completed"
    },
    "tags": []
   },
   "outputs": [
    {
     "data": {
      "text/plain": [
       "(50,)"
      ]
     },
     "execution_count": 25,
     "metadata": {},
     "output_type": "execute_result"
    }
   ],
   "source": [
    "y.shape"
   ]
  },
  {
   "cell_type": "markdown",
   "id": "c8af0b92",
   "metadata": {
    "papermill": {
     "duration": 0.018396,
     "end_time": "2024-12-09T19:29:24.612924",
     "exception": false,
     "start_time": "2024-12-09T19:29:24.594528",
     "status": "completed"
    },
    "tags": []
   },
   "source": [
    "### Data Train Test Split"
   ]
  },
  {
   "cell_type": "code",
   "execution_count": 26,
   "id": "ed3c5cc8",
   "metadata": {
    "execution": {
     "iopub.execute_input": "2024-12-09T19:29:24.650732Z",
     "iopub.status.busy": "2024-12-09T19:29:24.649753Z",
     "iopub.status.idle": "2024-12-09T19:29:24.770945Z",
     "shell.execute_reply": "2024-12-09T19:29:24.770073Z"
    },
    "papermill": {
     "duration": 0.142359,
     "end_time": "2024-12-09T19:29:24.773260",
     "exception": false,
     "start_time": "2024-12-09T19:29:24.630901",
     "status": "completed"
    },
    "tags": []
   },
   "outputs": [],
   "source": [
    "from sklearn.model_selection import train_test_split\n",
    "X_train,X_test,y_train,y_test = train_test_split(X,y,test_size=0.25,random_state=42)"
   ]
  },
  {
   "cell_type": "code",
   "execution_count": 27,
   "id": "6aacb964",
   "metadata": {
    "execution": {
     "iopub.execute_input": "2024-12-09T19:29:24.810993Z",
     "iopub.status.busy": "2024-12-09T19:29:24.810168Z",
     "iopub.status.idle": "2024-12-09T19:29:24.826800Z",
     "shell.execute_reply": "2024-12-09T19:29:24.825826Z"
    },
    "papermill": {
     "duration": 0.037775,
     "end_time": "2024-12-09T19:29:24.828899",
     "exception": false,
     "start_time": "2024-12-09T19:29:24.791124",
     "status": "completed"
    },
    "tags": []
   },
   "outputs": [
    {
     "data": {
      "text/html": [
       "<div>\n",
       "<style scoped>\n",
       "    .dataframe tbody tr th:only-of-type {\n",
       "        vertical-align: middle;\n",
       "    }\n",
       "\n",
       "    .dataframe tbody tr th {\n",
       "        vertical-align: top;\n",
       "    }\n",
       "\n",
       "    .dataframe thead th {\n",
       "        text-align: right;\n",
       "    }\n",
       "</style>\n",
       "<table border=\"1\" class=\"dataframe\">\n",
       "  <thead>\n",
       "    <tr style=\"text-align: right;\">\n",
       "      <th></th>\n",
       "      <th>R&amp;D Spend</th>\n",
       "      <th>Administration</th>\n",
       "      <th>Marketing Spend</th>\n",
       "      <th>State</th>\n",
       "    </tr>\n",
       "  </thead>\n",
       "  <tbody>\n",
       "    <tr>\n",
       "      <th>8</th>\n",
       "      <td>120542.62</td>\n",
       "      <td>148719.05</td>\n",
       "      <td>311613.39</td>\n",
       "      <td>2</td>\n",
       "    </tr>\n",
       "    <tr>\n",
       "      <th>3</th>\n",
       "      <td>144372.51</td>\n",
       "      <td>118671.95</td>\n",
       "      <td>383199.72</td>\n",
       "      <td>2</td>\n",
       "    </tr>\n",
       "    <tr>\n",
       "      <th>6</th>\n",
       "      <td>134615.56</td>\n",
       "      <td>147198.97</td>\n",
       "      <td>127716.92</td>\n",
       "      <td>0</td>\n",
       "    </tr>\n",
       "    <tr>\n",
       "      <th>41</th>\n",
       "      <td>27893.02</td>\n",
       "      <td>84710.87</td>\n",
       "      <td>164470.81</td>\n",
       "      <td>1</td>\n",
       "    </tr>\n",
       "    <tr>\n",
       "      <th>46</th>\n",
       "      <td>1315.56</td>\n",
       "      <td>115816.31</td>\n",
       "      <td>297114.56</td>\n",
       "      <td>1</td>\n",
       "    </tr>\n",
       "    <tr>\n",
       "      <th>47</th>\n",
       "      <td>0.10</td>\n",
       "      <td>135427.02</td>\n",
       "      <td>0.10</td>\n",
       "      <td>0</td>\n",
       "    </tr>\n",
       "    <tr>\n",
       "      <th>15</th>\n",
       "      <td>114523.71</td>\n",
       "      <td>122616.94</td>\n",
       "      <td>261776.33</td>\n",
       "      <td>2</td>\n",
       "    </tr>\n",
       "    <tr>\n",
       "      <th>9</th>\n",
       "      <td>123334.98</td>\n",
       "      <td>108679.27</td>\n",
       "      <td>304981.72</td>\n",
       "      <td>0</td>\n",
       "    </tr>\n",
       "    <tr>\n",
       "      <th>16</th>\n",
       "      <td>78013.21</td>\n",
       "      <td>121597.65</td>\n",
       "      <td>264346.16</td>\n",
       "      <td>0</td>\n",
       "    </tr>\n",
       "    <tr>\n",
       "      <th>24</th>\n",
       "      <td>77044.11</td>\n",
       "      <td>99281.44</td>\n",
       "      <td>140574.91</td>\n",
       "      <td>2</td>\n",
       "    </tr>\n",
       "    <tr>\n",
       "      <th>34</th>\n",
       "      <td>46426.17</td>\n",
       "      <td>157694.02</td>\n",
       "      <td>210797.77</td>\n",
       "      <td>0</td>\n",
       "    </tr>\n",
       "    <tr>\n",
       "      <th>31</th>\n",
       "      <td>61136.48</td>\n",
       "      <td>152702.02</td>\n",
       "      <td>88218.33</td>\n",
       "      <td>2</td>\n",
       "    </tr>\n",
       "    <tr>\n",
       "      <th>0</th>\n",
       "      <td>165349.30</td>\n",
       "      <td>136897.90</td>\n",
       "      <td>471784.20</td>\n",
       "      <td>2</td>\n",
       "    </tr>\n",
       "    <tr>\n",
       "      <th>44</th>\n",
       "      <td>22177.84</td>\n",
       "      <td>154806.24</td>\n",
       "      <td>28334.82</td>\n",
       "      <td>0</td>\n",
       "    </tr>\n",
       "    <tr>\n",
       "      <th>27</th>\n",
       "      <td>72107.70</td>\n",
       "      <td>127864.65</td>\n",
       "      <td>353183.91</td>\n",
       "      <td>2</td>\n",
       "    </tr>\n",
       "    <tr>\n",
       "      <th>33</th>\n",
       "      <td>55494.05</td>\n",
       "      <td>103057.59</td>\n",
       "      <td>214634.91</td>\n",
       "      <td>1</td>\n",
       "    </tr>\n",
       "    <tr>\n",
       "      <th>5</th>\n",
       "      <td>131877.00</td>\n",
       "      <td>99814.81</td>\n",
       "      <td>362861.46</td>\n",
       "      <td>2</td>\n",
       "    </tr>\n",
       "    <tr>\n",
       "      <th>29</th>\n",
       "      <td>65605.58</td>\n",
       "      <td>153032.16</td>\n",
       "      <td>107138.48</td>\n",
       "      <td>2</td>\n",
       "    </tr>\n",
       "    <tr>\n",
       "      <th>11</th>\n",
       "      <td>100672.06</td>\n",
       "      <td>91790.71</td>\n",
       "      <td>249744.65</td>\n",
       "      <td>0</td>\n",
       "    </tr>\n",
       "    <tr>\n",
       "      <th>36</th>\n",
       "      <td>28663.86</td>\n",
       "      <td>127056.31</td>\n",
       "      <td>201126.92</td>\n",
       "      <td>1</td>\n",
       "    </tr>\n",
       "    <tr>\n",
       "      <th>1</th>\n",
       "      <td>162597.80</td>\n",
       "      <td>151377.69</td>\n",
       "      <td>443898.63</td>\n",
       "      <td>0</td>\n",
       "    </tr>\n",
       "    <tr>\n",
       "      <th>21</th>\n",
       "      <td>78389.57</td>\n",
       "      <td>153773.53</td>\n",
       "      <td>299737.39</td>\n",
       "      <td>2</td>\n",
       "    </tr>\n",
       "    <tr>\n",
       "      <th>2</th>\n",
       "      <td>153441.61</td>\n",
       "      <td>101145.65</td>\n",
       "      <td>407934.64</td>\n",
       "      <td>1</td>\n",
       "    </tr>\n",
       "    <tr>\n",
       "      <th>43</th>\n",
       "      <td>15505.83</td>\n",
       "      <td>127382.40</td>\n",
       "      <td>35534.27</td>\n",
       "      <td>2</td>\n",
       "    </tr>\n",
       "    <tr>\n",
       "      <th>35</th>\n",
       "      <td>46014.12</td>\n",
       "      <td>85047.54</td>\n",
       "      <td>205517.74</td>\n",
       "      <td>2</td>\n",
       "    </tr>\n",
       "    <tr>\n",
       "      <th>23</th>\n",
       "      <td>67532.63</td>\n",
       "      <td>105751.13</td>\n",
       "      <td>304768.83</td>\n",
       "      <td>1</td>\n",
       "    </tr>\n",
       "    <tr>\n",
       "      <th>40</th>\n",
       "      <td>28754.43</td>\n",
       "      <td>118546.15</td>\n",
       "      <td>172795.77</td>\n",
       "      <td>0</td>\n",
       "    </tr>\n",
       "    <tr>\n",
       "      <th>10</th>\n",
       "      <td>101913.18</td>\n",
       "      <td>110594.21</td>\n",
       "      <td>229161.05</td>\n",
       "      <td>1</td>\n",
       "    </tr>\n",
       "    <tr>\n",
       "      <th>22</th>\n",
       "      <td>73994.66</td>\n",
       "      <td>122782.85</td>\n",
       "      <td>303319.36</td>\n",
       "      <td>1</td>\n",
       "    </tr>\n",
       "    <tr>\n",
       "      <th>18</th>\n",
       "      <td>91749.26</td>\n",
       "      <td>114175.89</td>\n",
       "      <td>294919.67</td>\n",
       "      <td>1</td>\n",
       "    </tr>\n",
       "    <tr>\n",
       "      <th>49</th>\n",
       "      <td>0.10</td>\n",
       "      <td>116983.90</td>\n",
       "      <td>45173.16</td>\n",
       "      <td>0</td>\n",
       "    </tr>\n",
       "    <tr>\n",
       "      <th>20</th>\n",
       "      <td>76253.96</td>\n",
       "      <td>113867.40</td>\n",
       "      <td>298664.57</td>\n",
       "      <td>0</td>\n",
       "    </tr>\n",
       "    <tr>\n",
       "      <th>7</th>\n",
       "      <td>130298.23</td>\n",
       "      <td>145530.16</td>\n",
       "      <td>323876.78</td>\n",
       "      <td>1</td>\n",
       "    </tr>\n",
       "    <tr>\n",
       "      <th>42</th>\n",
       "      <td>23641.03</td>\n",
       "      <td>96189.73</td>\n",
       "      <td>148001.21</td>\n",
       "      <td>0</td>\n",
       "    </tr>\n",
       "    <tr>\n",
       "      <th>14</th>\n",
       "      <td>119943.34</td>\n",
       "      <td>156547.52</td>\n",
       "      <td>256513.02</td>\n",
       "      <td>1</td>\n",
       "    </tr>\n",
       "    <tr>\n",
       "      <th>28</th>\n",
       "      <td>66051.62</td>\n",
       "      <td>182645.66</td>\n",
       "      <td>118148.30</td>\n",
       "      <td>1</td>\n",
       "    </tr>\n",
       "    <tr>\n",
       "      <th>38</th>\n",
       "      <td>20229.69</td>\n",
       "      <td>65948.03</td>\n",
       "      <td>185265.20</td>\n",
       "      <td>2</td>\n",
       "    </tr>\n",
       "  </tbody>\n",
       "</table>\n",
       "</div>"
      ],
      "text/plain": [
       "    R&D Spend  Administration  Marketing Spend  State\n",
       "8   120542.62       148719.05        311613.39      2\n",
       "3   144372.51       118671.95        383199.72      2\n",
       "6   134615.56       147198.97        127716.92      0\n",
       "41   27893.02        84710.87        164470.81      1\n",
       "46    1315.56       115816.31        297114.56      1\n",
       "47       0.10       135427.02             0.10      0\n",
       "15  114523.71       122616.94        261776.33      2\n",
       "9   123334.98       108679.27        304981.72      0\n",
       "16   78013.21       121597.65        264346.16      0\n",
       "24   77044.11        99281.44        140574.91      2\n",
       "34   46426.17       157694.02        210797.77      0\n",
       "31   61136.48       152702.02         88218.33      2\n",
       "0   165349.30       136897.90        471784.20      2\n",
       "44   22177.84       154806.24         28334.82      0\n",
       "27   72107.70       127864.65        353183.91      2\n",
       "33   55494.05       103057.59        214634.91      1\n",
       "5   131877.00        99814.81        362861.46      2\n",
       "29   65605.58       153032.16        107138.48      2\n",
       "11  100672.06        91790.71        249744.65      0\n",
       "36   28663.86       127056.31        201126.92      1\n",
       "1   162597.80       151377.69        443898.63      0\n",
       "21   78389.57       153773.53        299737.39      2\n",
       "2   153441.61       101145.65        407934.64      1\n",
       "43   15505.83       127382.40         35534.27      2\n",
       "35   46014.12        85047.54        205517.74      2\n",
       "23   67532.63       105751.13        304768.83      1\n",
       "40   28754.43       118546.15        172795.77      0\n",
       "10  101913.18       110594.21        229161.05      1\n",
       "22   73994.66       122782.85        303319.36      1\n",
       "18   91749.26       114175.89        294919.67      1\n",
       "49       0.10       116983.90         45173.16      0\n",
       "20   76253.96       113867.40        298664.57      0\n",
       "7   130298.23       145530.16        323876.78      1\n",
       "42   23641.03        96189.73        148001.21      0\n",
       "14  119943.34       156547.52        256513.02      1\n",
       "28   66051.62       182645.66        118148.30      1\n",
       "38   20229.69        65948.03        185265.20      2"
      ]
     },
     "execution_count": 27,
     "metadata": {},
     "output_type": "execute_result"
    }
   ],
   "source": [
    "X_train"
   ]
  },
  {
   "cell_type": "code",
   "execution_count": 28,
   "id": "0279d542",
   "metadata": {
    "execution": {
     "iopub.execute_input": "2024-12-09T19:29:24.867652Z",
     "iopub.status.busy": "2024-12-09T19:29:24.867266Z",
     "iopub.status.idle": "2024-12-09T19:29:24.874711Z",
     "shell.execute_reply": "2024-12-09T19:29:24.873560Z"
    },
    "papermill": {
     "duration": 0.029786,
     "end_time": "2024-12-09T19:29:24.876738",
     "exception": false,
     "start_time": "2024-12-09T19:29:24.846952",
     "status": "completed"
    },
    "tags": []
   },
   "outputs": [
    {
     "data": {
      "text/plain": [
       "(37, 4)"
      ]
     },
     "execution_count": 28,
     "metadata": {},
     "output_type": "execute_result"
    }
   ],
   "source": [
    "X_train.shape"
   ]
  },
  {
   "cell_type": "code",
   "execution_count": 29,
   "id": "5a15cb3b",
   "metadata": {
    "execution": {
     "iopub.execute_input": "2024-12-09T19:29:24.915512Z",
     "iopub.status.busy": "2024-12-09T19:29:24.915099Z",
     "iopub.status.idle": "2024-12-09T19:29:24.923835Z",
     "shell.execute_reply": "2024-12-09T19:29:24.922721Z"
    },
    "papermill": {
     "duration": 0.030867,
     "end_time": "2024-12-09T19:29:24.925960",
     "exception": false,
     "start_time": "2024-12-09T19:29:24.895093",
     "status": "completed"
    },
    "tags": []
   },
   "outputs": [
    {
     "data": {
      "text/plain": [
       "8     152211.87\n",
       "3     182902.09\n",
       "6     156122.61\n",
       "41     77798.93\n",
       "46     49490.85\n",
       "47     42559.83\n",
       "15    129917.14\n",
       "9     149760.06\n",
       "16    126993.03\n",
       "24    108552.14\n",
       "34     96712.90\n",
       "31     97483.66\n",
       "0     192261.93\n",
       "44     65200.43\n",
       "27    105008.41\n",
       "33     96779.02\n",
       "5     156991.22\n",
       "29    101004.74\n",
       "11    144259.50\n",
       "36     90708.29\n",
       "1     191792.16\n",
       "21    111313.12\n",
       "2     191050.49\n",
       "43     69759.08\n",
       "35     96479.61\n",
       "23    108734.09\n",
       "40     78240.01\n",
       "10    146122.05\n",
       "22    110352.35\n",
       "18    124267.00\n",
       "49     14681.50\n",
       "20    118474.13\n",
       "7     155752.70\n",
       "42     71498.59\n",
       "14    132602.75\n",
       "28    103282.48\n",
       "38     81229.16\n",
       "Name: Profit, dtype: float64"
      ]
     },
     "execution_count": 29,
     "metadata": {},
     "output_type": "execute_result"
    }
   ],
   "source": [
    "y_train"
   ]
  },
  {
   "cell_type": "code",
   "execution_count": 30,
   "id": "d8348541",
   "metadata": {
    "execution": {
     "iopub.execute_input": "2024-12-09T19:29:24.964943Z",
     "iopub.status.busy": "2024-12-09T19:29:24.964498Z",
     "iopub.status.idle": "2024-12-09T19:29:24.971032Z",
     "shell.execute_reply": "2024-12-09T19:29:24.970060Z"
    },
    "papermill": {
     "duration": 0.028878,
     "end_time": "2024-12-09T19:29:24.973260",
     "exception": false,
     "start_time": "2024-12-09T19:29:24.944382",
     "status": "completed"
    },
    "tags": []
   },
   "outputs": [
    {
     "data": {
      "text/plain": [
       "(37,)"
      ]
     },
     "execution_count": 30,
     "metadata": {},
     "output_type": "execute_result"
    }
   ],
   "source": [
    "y_train.shape"
   ]
  },
  {
   "cell_type": "markdown",
   "id": "566c928d",
   "metadata": {
    "papermill": {
     "duration": 0.018396,
     "end_time": "2024-12-09T19:29:25.010999",
     "exception": false,
     "start_time": "2024-12-09T19:29:24.992603",
     "status": "completed"
    },
    "tags": []
   },
   "source": [
    "### Data Transformation"
   ]
  },
  {
   "cell_type": "code",
   "execution_count": 31,
   "id": "dc877495",
   "metadata": {
    "execution": {
     "iopub.execute_input": "2024-12-09T19:29:25.049428Z",
     "iopub.status.busy": "2024-12-09T19:29:25.048995Z",
     "iopub.status.idle": "2024-12-09T19:29:25.060007Z",
     "shell.execute_reply": "2024-12-09T19:29:25.058767Z"
    },
    "papermill": {
     "duration": 0.032908,
     "end_time": "2024-12-09T19:29:25.062266",
     "exception": false,
     "start_time": "2024-12-09T19:29:25.029358",
     "status": "completed"
    },
    "tags": []
   },
   "outputs": [],
   "source": [
    "from sklearn.preprocessing import StandardScaler\n",
    "\n",
    "scaler = StandardScaler()\n",
    "\n",
    "X_train = scaler.fit_transform(X_train)\n",
    "X_test = scaler.transform(X_test)"
   ]
  },
  {
   "cell_type": "code",
   "execution_count": 32,
   "id": "c10735a2",
   "metadata": {
    "execution": {
     "iopub.execute_input": "2024-12-09T19:29:25.100997Z",
     "iopub.status.busy": "2024-12-09T19:29:25.100580Z",
     "iopub.status.idle": "2024-12-09T19:29:25.108894Z",
     "shell.execute_reply": "2024-12-09T19:29:25.107828Z"
    },
    "papermill": {
     "duration": 0.030378,
     "end_time": "2024-12-09T19:29:25.111011",
     "exception": false,
     "start_time": "2024-12-09T19:29:25.080633",
     "status": "completed"
    },
    "tags": []
   },
   "outputs": [
    {
     "data": {
      "text/plain": [
       "array([[ 0.92677074,  0.99706915,  0.68026002,  1.18431305],\n",
       "       [ 1.42728466, -0.19886227,  1.29883063,  1.18431305],\n",
       "       [ 1.2223534 ,  0.93656709, -0.90877173, -1.25010822],\n",
       "       [-1.01920612, -1.55057749, -0.59118489, -0.03289758],\n",
       "       [-1.57742895, -0.31252214,  0.55497702, -0.03289758],\n",
       "       [-1.60505838,  0.46802121, -2.01236051, -1.25010822],\n",
       "       [ 0.80035185, -0.0418442 ,  0.24962277,  1.18431305],\n",
       "       [ 0.9854204 , -0.59658983,  0.6229564 , -1.25010822],\n",
       "       [ 0.03349923, -0.08241387,  0.27182842, -1.25010822],\n",
       "       [ 0.01314463, -0.97064124, -0.79766707,  1.18431305],\n",
       "       [-0.62994291,  1.35428993, -0.19087808, -1.25010822],\n",
       "       [-0.32097317,  1.15559889, -1.25007525,  1.18431305],\n",
       "       [ 1.86787316,  0.52656502,  2.06428062,  1.18431305],\n",
       "       [-1.13924558,  1.23935083, -1.76752292, -1.25010822],\n",
       "       [-0.09053785,  0.16702458,  1.03946689,  1.18431305],\n",
       "       [-0.43948461, -0.82034333, -0.15772172, -0.03289758],\n",
       "       [ 1.16483373, -0.94941211,  1.12308967,  1.18431305],\n",
       "       [-0.22710589,  1.16873909, -1.08658805,  1.18431305],\n",
       "       [ 0.50941708, -1.26878647,  0.14565818, -1.25010822],\n",
       "       [-1.00301569,  0.13485112, -0.27444296, -0.03289758],\n",
       "       [ 1.8100817 ,  1.10288805,  1.82332408, -1.25010822],\n",
       "       [ 0.04140416,  1.19824701,  0.57764064,  1.18431305],\n",
       "       [ 1.61776858, -0.89644216,  1.5125627 , -0.03289758],\n",
       "       [-1.27938194,  0.14783012, -1.70531316,  1.18431305],\n",
       "       [-0.63859745, -1.53717739, -0.23650231,  1.18431305],\n",
       "       [-0.18663087, -0.71313534,  0.62111683, -0.03289758],\n",
       "       [-1.00111339, -0.20386934, -0.51924971, -1.25010822],\n",
       "       [ 0.53548509, -0.5203716 , -0.03220274, -0.03289758],\n",
       "       [-0.05090486, -0.03524067,  0.6085921 , -0.03289758],\n",
       "       [ 0.32200599, -0.37781396,  0.53601119, -0.03289758],\n",
       "       [-1.60505838, -0.26604985, -1.62202444, -1.25010822],\n",
       "       [-0.00345138, -0.39009244,  0.56837051, -1.25010822],\n",
       "       [ 1.13167385,  0.8701453 ,  0.7862268 , -0.03289758],\n",
       "       [-1.1085133 , -1.09369715, -0.73349712, -1.25010822],\n",
       "       [ 0.91418369,  1.30865706,  0.20414301, -0.03289758],\n",
       "       [-0.21773744,  2.3474124 , -0.99145325, -0.03289758],\n",
       "       [-1.18016378, -2.29737401, -0.41150256,  1.18431305]])"
      ]
     },
     "execution_count": 32,
     "metadata": {},
     "output_type": "execute_result"
    }
   ],
   "source": [
    "X_train"
   ]
  },
  {
   "cell_type": "code",
   "execution_count": 33,
   "id": "0435aff3",
   "metadata": {
    "execution": {
     "iopub.execute_input": "2024-12-09T19:29:25.150376Z",
     "iopub.status.busy": "2024-12-09T19:29:25.150003Z",
     "iopub.status.idle": "2024-12-09T19:29:25.247662Z",
     "shell.execute_reply": "2024-12-09T19:29:25.246752Z"
    },
    "papermill": {
     "duration": 0.119953,
     "end_time": "2024-12-09T19:29:25.250130",
     "exception": false,
     "start_time": "2024-12-09T19:29:25.130177",
     "status": "completed"
    },
    "tags": []
   },
   "outputs": [],
   "source": [
    "from sklearn.linear_model import LinearRegression"
   ]
  },
  {
   "cell_type": "markdown",
   "id": "cb87632d",
   "metadata": {
    "papermill": {
     "duration": 0.017925,
     "end_time": "2024-12-09T19:29:25.286613",
     "exception": false,
     "start_time": "2024-12-09T19:29:25.268688",
     "status": "completed"
    },
    "tags": []
   },
   "source": [
    "## Step-4:Model Training"
   ]
  },
  {
   "cell_type": "code",
   "execution_count": 34,
   "id": "0462c7e7",
   "metadata": {
    "execution": {
     "iopub.execute_input": "2024-12-09T19:29:25.325876Z",
     "iopub.status.busy": "2024-12-09T19:29:25.325437Z",
     "iopub.status.idle": "2024-12-09T19:29:25.330389Z",
     "shell.execute_reply": "2024-12-09T19:29:25.329378Z"
    },
    "papermill": {
     "duration": 0.027092,
     "end_time": "2024-12-09T19:29:25.332441",
     "exception": false,
     "start_time": "2024-12-09T19:29:25.305349",
     "status": "completed"
    },
    "tags": []
   },
   "outputs": [],
   "source": [
    "model = LinearRegression(n_jobs=-1)"
   ]
  },
  {
   "cell_type": "code",
   "execution_count": 35,
   "id": "833758e1",
   "metadata": {
    "execution": {
     "iopub.execute_input": "2024-12-09T19:29:25.371685Z",
     "iopub.status.busy": "2024-12-09T19:29:25.370698Z",
     "iopub.status.idle": "2024-12-09T19:29:25.379985Z",
     "shell.execute_reply": "2024-12-09T19:29:25.378989Z"
    },
    "papermill": {
     "duration": 0.030847,
     "end_time": "2024-12-09T19:29:25.381870",
     "exception": false,
     "start_time": "2024-12-09T19:29:25.351023",
     "status": "completed"
    },
    "tags": []
   },
   "outputs": [
    {
     "data": {
      "text/html": [
       "<style>#sk-container-id-1 {color: black;background-color: white;}#sk-container-id-1 pre{padding: 0;}#sk-container-id-1 div.sk-toggleable {background-color: white;}#sk-container-id-1 label.sk-toggleable__label {cursor: pointer;display: block;width: 100%;margin-bottom: 0;padding: 0.3em;box-sizing: border-box;text-align: center;}#sk-container-id-1 label.sk-toggleable__label-arrow:before {content: \"▸\";float: left;margin-right: 0.25em;color: #696969;}#sk-container-id-1 label.sk-toggleable__label-arrow:hover:before {color: black;}#sk-container-id-1 div.sk-estimator:hover label.sk-toggleable__label-arrow:before {color: black;}#sk-container-id-1 div.sk-toggleable__content {max-height: 0;max-width: 0;overflow: hidden;text-align: left;background-color: #f0f8ff;}#sk-container-id-1 div.sk-toggleable__content pre {margin: 0.2em;color: black;border-radius: 0.25em;background-color: #f0f8ff;}#sk-container-id-1 input.sk-toggleable__control:checked~div.sk-toggleable__content {max-height: 200px;max-width: 100%;overflow: auto;}#sk-container-id-1 input.sk-toggleable__control:checked~label.sk-toggleable__label-arrow:before {content: \"▾\";}#sk-container-id-1 div.sk-estimator input.sk-toggleable__control:checked~label.sk-toggleable__label {background-color: #d4ebff;}#sk-container-id-1 div.sk-label input.sk-toggleable__control:checked~label.sk-toggleable__label {background-color: #d4ebff;}#sk-container-id-1 input.sk-hidden--visually {border: 0;clip: rect(1px 1px 1px 1px);clip: rect(1px, 1px, 1px, 1px);height: 1px;margin: -1px;overflow: hidden;padding: 0;position: absolute;width: 1px;}#sk-container-id-1 div.sk-estimator {font-family: monospace;background-color: #f0f8ff;border: 1px dotted black;border-radius: 0.25em;box-sizing: border-box;margin-bottom: 0.5em;}#sk-container-id-1 div.sk-estimator:hover {background-color: #d4ebff;}#sk-container-id-1 div.sk-parallel-item::after {content: \"\";width: 100%;border-bottom: 1px solid gray;flex-grow: 1;}#sk-container-id-1 div.sk-label:hover label.sk-toggleable__label {background-color: #d4ebff;}#sk-container-id-1 div.sk-serial::before {content: \"\";position: absolute;border-left: 1px solid gray;box-sizing: border-box;top: 0;bottom: 0;left: 50%;z-index: 0;}#sk-container-id-1 div.sk-serial {display: flex;flex-direction: column;align-items: center;background-color: white;padding-right: 0.2em;padding-left: 0.2em;position: relative;}#sk-container-id-1 div.sk-item {position: relative;z-index: 1;}#sk-container-id-1 div.sk-parallel {display: flex;align-items: stretch;justify-content: center;background-color: white;position: relative;}#sk-container-id-1 div.sk-item::before, #sk-container-id-1 div.sk-parallel-item::before {content: \"\";position: absolute;border-left: 1px solid gray;box-sizing: border-box;top: 0;bottom: 0;left: 50%;z-index: -1;}#sk-container-id-1 div.sk-parallel-item {display: flex;flex-direction: column;z-index: 1;position: relative;background-color: white;}#sk-container-id-1 div.sk-parallel-item:first-child::after {align-self: flex-end;width: 50%;}#sk-container-id-1 div.sk-parallel-item:last-child::after {align-self: flex-start;width: 50%;}#sk-container-id-1 div.sk-parallel-item:only-child::after {width: 0;}#sk-container-id-1 div.sk-dashed-wrapped {border: 1px dashed gray;margin: 0 0.4em 0.5em 0.4em;box-sizing: border-box;padding-bottom: 0.4em;background-color: white;}#sk-container-id-1 div.sk-label label {font-family: monospace;font-weight: bold;display: inline-block;line-height: 1.2em;}#sk-container-id-1 div.sk-label-container {text-align: center;}#sk-container-id-1 div.sk-container {/* jupyter's `normalize.less` sets `[hidden] { display: none; }` but bootstrap.min.css set `[hidden] { display: none !important; }` so we also need the `!important` here to be able to override the default hidden behavior on the sphinx rendered scikit-learn.org. See: https://github.com/scikit-learn/scikit-learn/issues/21755 */display: inline-block !important;position: relative;}#sk-container-id-1 div.sk-text-repr-fallback {display: none;}</style><div id=\"sk-container-id-1\" class=\"sk-top-container\"><div class=\"sk-text-repr-fallback\"><pre>LinearRegression(n_jobs=-1)</pre><b>In a Jupyter environment, please rerun this cell to show the HTML representation or trust the notebook. <br />On GitHub, the HTML representation is unable to render, please try loading this page with nbviewer.org.</b></div><div class=\"sk-container\" hidden><div class=\"sk-item\"><div class=\"sk-estimator sk-toggleable\"><input class=\"sk-toggleable__control sk-hidden--visually\" id=\"sk-estimator-id-1\" type=\"checkbox\" checked><label for=\"sk-estimator-id-1\" class=\"sk-toggleable__label sk-toggleable__label-arrow\">LinearRegression</label><div class=\"sk-toggleable__content\"><pre>LinearRegression(n_jobs=-1)</pre></div></div></div></div></div>"
      ],
      "text/plain": [
       "LinearRegression(n_jobs=-1)"
      ]
     },
     "execution_count": 35,
     "metadata": {},
     "output_type": "execute_result"
    }
   ],
   "source": [
    "model"
   ]
  },
  {
   "cell_type": "code",
   "execution_count": 36,
   "id": "f0adb23a",
   "metadata": {
    "execution": {
     "iopub.execute_input": "2024-12-09T19:29:25.424204Z",
     "iopub.status.busy": "2024-12-09T19:29:25.423793Z",
     "iopub.status.idle": "2024-12-09T19:29:25.450109Z",
     "shell.execute_reply": "2024-12-09T19:29:25.449068Z"
    },
    "papermill": {
     "duration": 0.050784,
     "end_time": "2024-12-09T19:29:25.452455",
     "exception": false,
     "start_time": "2024-12-09T19:29:25.401671",
     "status": "completed"
    },
    "tags": []
   },
   "outputs": [
    {
     "data": {
      "text/html": [
       "<style>#sk-container-id-2 {color: black;background-color: white;}#sk-container-id-2 pre{padding: 0;}#sk-container-id-2 div.sk-toggleable {background-color: white;}#sk-container-id-2 label.sk-toggleable__label {cursor: pointer;display: block;width: 100%;margin-bottom: 0;padding: 0.3em;box-sizing: border-box;text-align: center;}#sk-container-id-2 label.sk-toggleable__label-arrow:before {content: \"▸\";float: left;margin-right: 0.25em;color: #696969;}#sk-container-id-2 label.sk-toggleable__label-arrow:hover:before {color: black;}#sk-container-id-2 div.sk-estimator:hover label.sk-toggleable__label-arrow:before {color: black;}#sk-container-id-2 div.sk-toggleable__content {max-height: 0;max-width: 0;overflow: hidden;text-align: left;background-color: #f0f8ff;}#sk-container-id-2 div.sk-toggleable__content pre {margin: 0.2em;color: black;border-radius: 0.25em;background-color: #f0f8ff;}#sk-container-id-2 input.sk-toggleable__control:checked~div.sk-toggleable__content {max-height: 200px;max-width: 100%;overflow: auto;}#sk-container-id-2 input.sk-toggleable__control:checked~label.sk-toggleable__label-arrow:before {content: \"▾\";}#sk-container-id-2 div.sk-estimator input.sk-toggleable__control:checked~label.sk-toggleable__label {background-color: #d4ebff;}#sk-container-id-2 div.sk-label input.sk-toggleable__control:checked~label.sk-toggleable__label {background-color: #d4ebff;}#sk-container-id-2 input.sk-hidden--visually {border: 0;clip: rect(1px 1px 1px 1px);clip: rect(1px, 1px, 1px, 1px);height: 1px;margin: -1px;overflow: hidden;padding: 0;position: absolute;width: 1px;}#sk-container-id-2 div.sk-estimator {font-family: monospace;background-color: #f0f8ff;border: 1px dotted black;border-radius: 0.25em;box-sizing: border-box;margin-bottom: 0.5em;}#sk-container-id-2 div.sk-estimator:hover {background-color: #d4ebff;}#sk-container-id-2 div.sk-parallel-item::after {content: \"\";width: 100%;border-bottom: 1px solid gray;flex-grow: 1;}#sk-container-id-2 div.sk-label:hover label.sk-toggleable__label {background-color: #d4ebff;}#sk-container-id-2 div.sk-serial::before {content: \"\";position: absolute;border-left: 1px solid gray;box-sizing: border-box;top: 0;bottom: 0;left: 50%;z-index: 0;}#sk-container-id-2 div.sk-serial {display: flex;flex-direction: column;align-items: center;background-color: white;padding-right: 0.2em;padding-left: 0.2em;position: relative;}#sk-container-id-2 div.sk-item {position: relative;z-index: 1;}#sk-container-id-2 div.sk-parallel {display: flex;align-items: stretch;justify-content: center;background-color: white;position: relative;}#sk-container-id-2 div.sk-item::before, #sk-container-id-2 div.sk-parallel-item::before {content: \"\";position: absolute;border-left: 1px solid gray;box-sizing: border-box;top: 0;bottom: 0;left: 50%;z-index: -1;}#sk-container-id-2 div.sk-parallel-item {display: flex;flex-direction: column;z-index: 1;position: relative;background-color: white;}#sk-container-id-2 div.sk-parallel-item:first-child::after {align-self: flex-end;width: 50%;}#sk-container-id-2 div.sk-parallel-item:last-child::after {align-self: flex-start;width: 50%;}#sk-container-id-2 div.sk-parallel-item:only-child::after {width: 0;}#sk-container-id-2 div.sk-dashed-wrapped {border: 1px dashed gray;margin: 0 0.4em 0.5em 0.4em;box-sizing: border-box;padding-bottom: 0.4em;background-color: white;}#sk-container-id-2 div.sk-label label {font-family: monospace;font-weight: bold;display: inline-block;line-height: 1.2em;}#sk-container-id-2 div.sk-label-container {text-align: center;}#sk-container-id-2 div.sk-container {/* jupyter's `normalize.less` sets `[hidden] { display: none; }` but bootstrap.min.css set `[hidden] { display: none !important; }` so we also need the `!important` here to be able to override the default hidden behavior on the sphinx rendered scikit-learn.org. See: https://github.com/scikit-learn/scikit-learn/issues/21755 */display: inline-block !important;position: relative;}#sk-container-id-2 div.sk-text-repr-fallback {display: none;}</style><div id=\"sk-container-id-2\" class=\"sk-top-container\"><div class=\"sk-text-repr-fallback\"><pre>LinearRegression(n_jobs=-1)</pre><b>In a Jupyter environment, please rerun this cell to show the HTML representation or trust the notebook. <br />On GitHub, the HTML representation is unable to render, please try loading this page with nbviewer.org.</b></div><div class=\"sk-container\" hidden><div class=\"sk-item\"><div class=\"sk-estimator sk-toggleable\"><input class=\"sk-toggleable__control sk-hidden--visually\" id=\"sk-estimator-id-2\" type=\"checkbox\" checked><label for=\"sk-estimator-id-2\" class=\"sk-toggleable__label sk-toggleable__label-arrow\">LinearRegression</label><div class=\"sk-toggleable__content\"><pre>LinearRegression(n_jobs=-1)</pre></div></div></div></div></div>"
      ],
      "text/plain": [
       "LinearRegression(n_jobs=-1)"
      ]
     },
     "execution_count": 36,
     "metadata": {},
     "output_type": "execute_result"
    }
   ],
   "source": [
    "model.fit(X_train,y_train)"
   ]
  },
  {
   "cell_type": "code",
   "execution_count": 37,
   "id": "4f63a80d",
   "metadata": {
    "execution": {
     "iopub.execute_input": "2024-12-09T19:29:25.499096Z",
     "iopub.status.busy": "2024-12-09T19:29:25.498355Z",
     "iopub.status.idle": "2024-12-09T19:29:25.504731Z",
     "shell.execute_reply": "2024-12-09T19:29:25.503856Z"
    },
    "papermill": {
     "duration": 0.029792,
     "end_time": "2024-12-09T19:29:25.506725",
     "exception": false,
     "start_time": "2024-12-09T19:29:25.476933",
     "status": "completed"
    },
    "tags": []
   },
   "outputs": [
    {
     "data": {
      "text/plain": [
       "array([38543.82774975, -2248.45751539,  3544.26632383,  -148.26682419])"
      ]
     },
     "execution_count": 37,
     "metadata": {},
     "output_type": "execute_result"
    }
   ],
   "source": [
    "model.coef_"
   ]
  },
  {
   "cell_type": "code",
   "execution_count": 38,
   "id": "f7374982",
   "metadata": {
    "execution": {
     "iopub.execute_input": "2024-12-09T19:29:25.548089Z",
     "iopub.status.busy": "2024-12-09T19:29:25.547405Z",
     "iopub.status.idle": "2024-12-09T19:29:25.554269Z",
     "shell.execute_reply": "2024-12-09T19:29:25.553234Z"
    },
    "papermill": {
     "duration": 0.029881,
     "end_time": "2024-12-09T19:29:25.556422",
     "exception": false,
     "start_time": "2024-12-09T19:29:25.526541",
     "status": "completed"
    },
    "tags": []
   },
   "outputs": [
    {
     "data": {
      "text/plain": [
       "114279.72756756756"
      ]
     },
     "execution_count": 38,
     "metadata": {},
     "output_type": "execute_result"
    }
   ],
   "source": [
    "model.intercept_"
   ]
  },
  {
   "cell_type": "code",
   "execution_count": 39,
   "id": "b06c34d4",
   "metadata": {
    "execution": {
     "iopub.execute_input": "2024-12-09T19:29:25.599078Z",
     "iopub.status.busy": "2024-12-09T19:29:25.598447Z",
     "iopub.status.idle": "2024-12-09T19:29:25.603365Z",
     "shell.execute_reply": "2024-12-09T19:29:25.602311Z"
    },
    "papermill": {
     "duration": 0.028808,
     "end_time": "2024-12-09T19:29:25.605655",
     "exception": false,
     "start_time": "2024-12-09T19:29:25.576847",
     "status": "completed"
    },
    "tags": []
   },
   "outputs": [],
   "source": [
    "# prediction for test data\n",
    "y_pred= model.predict(X_test)"
   ]
  },
  {
   "cell_type": "code",
   "execution_count": 40,
   "id": "8197780f",
   "metadata": {
    "execution": {
     "iopub.execute_input": "2024-12-09T19:29:25.648062Z",
     "iopub.status.busy": "2024-12-09T19:29:25.647534Z",
     "iopub.status.idle": "2024-12-09T19:29:25.654685Z",
     "shell.execute_reply": "2024-12-09T19:29:25.653560Z"
    },
    "papermill": {
     "duration": 0.030916,
     "end_time": "2024-12-09T19:29:25.656766",
     "exception": false,
     "start_time": "2024-12-09T19:29:25.625850",
     "status": "completed"
    },
    "tags": []
   },
   "outputs": [],
   "source": [
    "# performance metrics\n",
    "from sklearn.metrics import mean_squared_error,mean_absolute_error\n",
    "import numpy as np\n",
    "mse = mean_squared_error(y_test,y_pred)\n",
    "mae = mean_absolute_error(y_test,y_pred)\n",
    "rmse = np.sqrt(mse)"
   ]
  },
  {
   "cell_type": "code",
   "execution_count": 41,
   "id": "98dcaa32",
   "metadata": {
    "execution": {
     "iopub.execute_input": "2024-12-09T19:29:25.700566Z",
     "iopub.status.busy": "2024-12-09T19:29:25.699645Z",
     "iopub.status.idle": "2024-12-09T19:29:25.704990Z",
     "shell.execute_reply": "2024-12-09T19:29:25.704041Z"
    },
    "papermill": {
     "duration": 0.030044,
     "end_time": "2024-12-09T19:29:25.707359",
     "exception": false,
     "start_time": "2024-12-09T19:29:25.677315",
     "status": "completed"
    },
    "tags": []
   },
   "outputs": [
    {
     "name": "stdout",
     "output_type": "stream",
     "text": [
      "MSE:86953191.3,\n",
      "MAE:7455.85,\n",
      "RMSE:9324.87\n"
     ]
    }
   ],
   "source": [
    "print(f\"MSE:{round(mse,2)},\\nMAE:{round(mae,2)},\\nRMSE:{round(rmse,2)}\")"
   ]
  },
  {
   "cell_type": "code",
   "execution_count": 42,
   "id": "d6ee9a4e",
   "metadata": {
    "execution": {
     "iopub.execute_input": "2024-12-09T19:29:25.749567Z",
     "iopub.status.busy": "2024-12-09T19:29:25.749198Z",
     "iopub.status.idle": "2024-12-09T19:29:25.754957Z",
     "shell.execute_reply": "2024-12-09T19:29:25.754038Z"
    },
    "papermill": {
     "duration": 0.029352,
     "end_time": "2024-12-09T19:29:25.756971",
     "exception": false,
     "start_time": "2024-12-09T19:29:25.727619",
     "status": "completed"
    },
    "tags": []
   },
   "outputs": [],
   "source": [
    "from sklearn.metrics import r2_score\n",
    "score = r2_score(y_test,y_pred)"
   ]
  },
  {
   "cell_type": "code",
   "execution_count": 43,
   "id": "46b04749",
   "metadata": {
    "execution": {
     "iopub.execute_input": "2024-12-09T19:29:25.799113Z",
     "iopub.status.busy": "2024-12-09T19:29:25.798676Z",
     "iopub.status.idle": "2024-12-09T19:29:25.805032Z",
     "shell.execute_reply": "2024-12-09T19:29:25.804028Z"
    },
    "papermill": {
     "duration": 0.02995,
     "end_time": "2024-12-09T19:29:25.807203",
     "exception": false,
     "start_time": "2024-12-09T19:29:25.777253",
     "status": "completed"
    },
    "tags": []
   },
   "outputs": [
    {
     "data": {
      "text/plain": [
       "0.9190953762345012"
      ]
     },
     "execution_count": 43,
     "metadata": {},
     "output_type": "execute_result"
    }
   ],
   "source": [
    "score"
   ]
  },
  {
   "cell_type": "code",
   "execution_count": 44,
   "id": "65601e02",
   "metadata": {
    "execution": {
     "iopub.execute_input": "2024-12-09T19:29:25.849641Z",
     "iopub.status.busy": "2024-12-09T19:29:25.848632Z",
     "iopub.status.idle": "2024-12-09T19:29:25.855735Z",
     "shell.execute_reply": "2024-12-09T19:29:25.854655Z"
    },
    "papermill": {
     "duration": 0.030486,
     "end_time": "2024-12-09T19:29:25.857860",
     "exception": false,
     "start_time": "2024-12-09T19:29:25.827374",
     "status": "completed"
    },
    "tags": []
   },
   "outputs": [
    {
     "data": {
      "text/plain": [
       "0.8786430643517518"
      ]
     },
     "execution_count": 44,
     "metadata": {},
     "output_type": "execute_result"
    }
   ],
   "source": [
    "# adjusted r-squared\n",
    "1 - (1- score)* (len(y_test)-1)/(len(y_test)-X_test.shape[1]-1)"
   ]
  },
  {
   "cell_type": "code",
   "execution_count": 45,
   "id": "864d502d",
   "metadata": {
    "execution": {
     "iopub.execute_input": "2024-12-09T19:29:25.901198Z",
     "iopub.status.busy": "2024-12-09T19:29:25.900271Z",
     "iopub.status.idle": "2024-12-09T19:29:26.214431Z",
     "shell.execute_reply": "2024-12-09T19:29:26.213313Z"
    },
    "papermill": {
     "duration": 0.338943,
     "end_time": "2024-12-09T19:29:26.216983",
     "exception": false,
     "start_time": "2024-12-09T19:29:25.878040",
     "status": "completed"
    },
    "tags": []
   },
   "outputs": [
    {
     "data": {
      "image/png": "[encoded data removed]",
      "text/plain": [
       "<Figure size 800x600 with 1 Axes>"
      ]
     },
     "metadata": {},
     "output_type": "display_data"
    }
   ],
   "source": [
    "import matplotlib.pyplot as plt\n",
    "# Scatter plot of actual vs predicted values\n",
    "plt.figure(figsize=(8, 6))\n",
    "plt.scatter(y_test, y_pred, alpha=0.7, color='blue')\n",
    "plt.plot([min(y_test), max(y_test)], [min(y_test), max(y_test)], color='red', linestyle='--', label=\"Perfect Prediction\")\n",
    "plt.title(\"Actual vs Predicted Profits\")\n",
    "plt.xlabel(\"Actual Profits\")\n",
    "plt.ylabel(\"Predicted Profits\")\n",
    "plt.legend()\n",
    "plt.grid(True)\n",
    "plt.show()"
   ]
  },
  {
   "cell_type": "markdown",
   "id": "ed4532a7",
   "metadata": {
    "papermill": {
     "duration": 0.02172,
     "end_time": "2024-12-09T19:29:26.261675",
     "exception": false,
     "start_time": "2024-12-09T19:29:26.239955",
     "status": "completed"
    },
    "tags": []
   },
   "source": [
    "## Step-5:Model Tunning "
   ]
  },
  {
   "cell_type": "code",
   "execution_count": 46,
   "id": "e8b6fffe",
   "metadata": {
    "execution": {
     "iopub.execute_input": "2024-12-09T19:29:26.307316Z",
     "iopub.status.busy": "2024-12-09T19:29:26.306919Z",
     "iopub.status.idle": "2024-12-09T19:29:26.324215Z",
     "shell.execute_reply": "2024-12-09T19:29:26.323151Z"
    },
    "papermill": {
     "duration": 0.042686,
     "end_time": "2024-12-09T19:29:26.326372",
     "exception": false,
     "start_time": "2024-12-09T19:29:26.283686",
     "status": "completed"
    },
    "tags": []
   },
   "outputs": [
    {
     "data": {
      "text/html": [
       "<style>#sk-container-id-3 {color: black;background-color: white;}#sk-container-id-3 pre{padding: 0;}#sk-container-id-3 div.sk-toggleable {background-color: white;}#sk-container-id-3 label.sk-toggleable__label {cursor: pointer;display: block;width: 100%;margin-bottom: 0;padding: 0.3em;box-sizing: border-box;text-align: center;}#sk-container-id-3 label.sk-toggleable__label-arrow:before {content: \"▸\";float: left;margin-right: 0.25em;color: #696969;}#sk-container-id-3 label.sk-toggleable__label-arrow:hover:before {color: black;}#sk-container-id-3 div.sk-estimator:hover label.sk-toggleable__label-arrow:before {color: black;}#sk-container-id-3 div.sk-toggleable__content {max-height: 0;max-width: 0;overflow: hidden;text-align: left;background-color: #f0f8ff;}#sk-container-id-3 div.sk-toggleable__content pre {margin: 0.2em;color: black;border-radius: 0.25em;background-color: #f0f8ff;}#sk-container-id-3 input.sk-toggleable__control:checked~div.sk-toggleable__content {max-height: 200px;max-width: 100%;overflow: auto;}#sk-container-id-3 input.sk-toggleable__control:checked~label.sk-toggleable__label-arrow:before {content: \"▾\";}#sk-container-id-3 div.sk-estimator input.sk-toggleable__control:checked~label.sk-toggleable__label {background-color: #d4ebff;}#sk-container-id-3 div.sk-label input.sk-toggleable__control:checked~label.sk-toggleable__label {background-color: #d4ebff;}#sk-container-id-3 input.sk-hidden--visually {border: 0;clip: rect(1px 1px 1px 1px);clip: rect(1px, 1px, 1px, 1px);height: 1px;margin: -1px;overflow: hidden;padding: 0;position: absolute;width: 1px;}#sk-container-id-3 div.sk-estimator {font-family: monospace;background-color: #f0f8ff;border: 1px dotted black;border-radius: 0.25em;box-sizing: border-box;margin-bottom: 0.5em;}#sk-container-id-3 div.sk-estimator:hover {background-color: #d4ebff;}#sk-container-id-3 div.sk-parallel-item::after {content: \"\";width: 100%;border-bottom: 1px solid gray;flex-grow: 1;}#sk-container-id-3 div.sk-label:hover label.sk-toggleable__label {background-color: #d4ebff;}#sk-container-id-3 div.sk-serial::before {content: \"\";position: absolute;border-left: 1px solid gray;box-sizing: border-box;top: 0;bottom: 0;left: 50%;z-index: 0;}#sk-container-id-3 div.sk-serial {display: flex;flex-direction: column;align-items: center;background-color: white;padding-right: 0.2em;padding-left: 0.2em;position: relative;}#sk-container-id-3 div.sk-item {position: relative;z-index: 1;}#sk-container-id-3 div.sk-parallel {display: flex;align-items: stretch;justify-content: center;background-color: white;position: relative;}#sk-container-id-3 div.sk-item::before, #sk-container-id-3 div.sk-parallel-item::before {content: \"\";position: absolute;border-left: 1px solid gray;box-sizing: border-box;top: 0;bottom: 0;left: 50%;z-index: -1;}#sk-container-id-3 div.sk-parallel-item {display: flex;flex-direction: column;z-index: 1;position: relative;background-color: white;}#sk-container-id-3 div.sk-parallel-item:first-child::after {align-self: flex-end;width: 50%;}#sk-container-id-3 div.sk-parallel-item:last-child::after {align-self: flex-start;width: 50%;}#sk-container-id-3 div.sk-parallel-item:only-child::after {width: 0;}#sk-container-id-3 div.sk-dashed-wrapped {border: 1px dashed gray;margin: 0 0.4em 0.5em 0.4em;box-sizing: border-box;padding-bottom: 0.4em;background-color: white;}#sk-container-id-3 div.sk-label label {font-family: monospace;font-weight: bold;display: inline-block;line-height: 1.2em;}#sk-container-id-3 div.sk-label-container {text-align: center;}#sk-container-id-3 div.sk-container {/* jupyter's `normalize.less` sets `[hidden] { display: none; }` but bootstrap.min.css set `[hidden] { display: none !important; }` so we also need the `!important` here to be able to override the default hidden behavior on the sphinx rendered scikit-learn.org. See: https://github.com/scikit-learn/scikit-learn/issues/21755 */display: inline-block !important;position: relative;}#sk-container-id-3 div.sk-text-repr-fallback {display: none;}</style><div id=\"sk-container-id-3\" class=\"sk-top-container\"><div class=\"sk-text-repr-fallback\"><pre>LinearRegression(n_jobs=-1)</pre><b>In a Jupyter environment, please rerun this cell to show the HTML representation or trust the notebook. <br />On GitHub, the HTML representation is unable to render, please try loading this page with nbviewer.org.</b></div><div class=\"sk-container\" hidden><div class=\"sk-item\"><div class=\"sk-estimator sk-toggleable\"><input class=\"sk-toggleable__control sk-hidden--visually\" id=\"sk-estimator-id-3\" type=\"checkbox\" checked><label for=\"sk-estimator-id-3\" class=\"sk-toggleable__label sk-toggleable__label-arrow\">LinearRegression</label><div class=\"sk-toggleable__content\"><pre>LinearRegression(n_jobs=-1)</pre></div></div></div></div></div>"
      ],
      "text/plain": [
       "LinearRegression(n_jobs=-1)"
      ]
     },
     "execution_count": 46,
     "metadata": {},
     "output_type": "execute_result"
    }
   ],
   "source": [
    "from sklearn.preprocessing import StandardScaler\n",
    "from sklearn.model_selection import train_test_split\n",
    "X= df[['R&D Spend','Marketing Spend','State']]\n",
    "y = df['Profit']\n",
    "X_train,X_test,y_train,y_test = train_test_split(X,y,test_size=0.25,random_state=42)\n",
    "scaler = StandardScaler()\n",
    "X_train = scaler.fit_transform(X_train)\n",
    "X_test = scaler.transform(X_test)\n",
    "model_2 = LinearRegression(n_jobs=-1)\n",
    "model_2.fit(X_train,y_train)"
   ]
  },
  {
   "cell_type": "code",
   "execution_count": 47,
   "id": "489e4e6c",
   "metadata": {
    "execution": {
     "iopub.execute_input": "2024-12-09T19:29:26.371624Z",
     "iopub.status.busy": "2024-12-09T19:29:26.370708Z",
     "iopub.status.idle": "2024-12-09T19:29:26.377765Z",
     "shell.execute_reply": "2024-12-09T19:29:26.376740Z"
    },
    "papermill": {
     "duration": 0.031444,
     "end_time": "2024-12-09T19:29:26.379745",
     "exception": false,
     "start_time": "2024-12-09T19:29:26.348301",
     "status": "completed"
    },
    "tags": []
   },
   "outputs": [
    {
     "data": {
      "text/plain": [
       "array([ 3.73201126e+04,  4.65364224e+03, -2.40090527e+01])"
      ]
     },
     "execution_count": 47,
     "metadata": {},
     "output_type": "execute_result"
    }
   ],
   "source": [
    "model_2.coef_"
   ]
  },
  {
   "cell_type": "code",
   "execution_count": 48,
   "id": "2dfe002d",
   "metadata": {
    "execution": {
     "iopub.execute_input": "2024-12-09T19:29:26.424652Z",
     "iopub.status.busy": "2024-12-09T19:29:26.423993Z",
     "iopub.status.idle": "2024-12-09T19:29:26.430447Z",
     "shell.execute_reply": "2024-12-09T19:29:26.429411Z"
    },
    "papermill": {
     "duration": 0.031138,
     "end_time": "2024-12-09T19:29:26.432353",
     "exception": false,
     "start_time": "2024-12-09T19:29:26.401215",
     "status": "completed"
    },
    "tags": []
   },
   "outputs": [
    {
     "data": {
      "text/plain": [
       "114279.72756756756"
      ]
     },
     "execution_count": 48,
     "metadata": {},
     "output_type": "execute_result"
    }
   ],
   "source": [
    "model_2.intercept_"
   ]
  },
  {
   "cell_type": "code",
   "execution_count": 49,
   "id": "4b0d78ae",
   "metadata": {
    "execution": {
     "iopub.execute_input": "2024-12-09T19:29:26.479670Z",
     "iopub.status.busy": "2024-12-09T19:29:26.478746Z",
     "iopub.status.idle": "2024-12-09T19:29:26.483890Z",
     "shell.execute_reply": "2024-12-09T19:29:26.482841Z"
    },
    "papermill": {
     "duration": 0.031927,
     "end_time": "2024-12-09T19:29:26.485930",
     "exception": false,
     "start_time": "2024-12-09T19:29:26.454003",
     "status": "completed"
    },
    "tags": []
   },
   "outputs": [],
   "source": [
    "# prediction for test data\n",
    "y_pred_2= model_2.predict(X_test)"
   ]
  },
  {
   "cell_type": "code",
   "execution_count": 50,
   "id": "6c134470",
   "metadata": {
    "execution": {
     "iopub.execute_input": "2024-12-09T19:29:26.531188Z",
     "iopub.status.busy": "2024-12-09T19:29:26.530456Z",
     "iopub.status.idle": "2024-12-09T19:29:26.537112Z",
     "shell.execute_reply": "2024-12-09T19:29:26.536066Z"
    },
    "papermill": {
     "duration": 0.031596,
     "end_time": "2024-12-09T19:29:26.539110",
     "exception": false,
     "start_time": "2024-12-09T19:29:26.507514",
     "status": "completed"
    },
    "tags": []
   },
   "outputs": [],
   "source": [
    "# performance metrics\n",
    "from sklearn.metrics import mean_squared_error,mean_absolute_error\n",
    "import numpy as np\n",
    "mse = mean_squared_error(y_test,y_pred_2)\n",
    "mae = mean_absolute_error(y_test,y_pred_2)\n",
    "rmse = np.sqrt(mse)"
   ]
  },
  {
   "cell_type": "code",
   "execution_count": 51,
   "id": "d2389aed",
   "metadata": {
    "execution": {
     "iopub.execute_input": "2024-12-09T19:29:26.584363Z",
     "iopub.status.busy": "2024-12-09T19:29:26.583548Z",
     "iopub.status.idle": "2024-12-09T19:29:26.589905Z",
     "shell.execute_reply": "2024-12-09T19:29:26.588644Z"
    },
    "papermill": {
     "duration": 0.031583,
     "end_time": "2024-12-09T19:29:26.592093",
     "exception": false,
     "start_time": "2024-12-09T19:29:26.560510",
     "status": "completed"
    },
    "tags": []
   },
   "outputs": [
    {
     "name": "stdout",
     "output_type": "stream",
     "text": [
      "MSE:68802479.69,\n",
      "MAE:6615.44,\n",
      "RMSE:8294.73\n"
     ]
    }
   ],
   "source": [
    "print(f\"MSE:{round(mse,2)},\\nMAE:{round(mae,2)},\\nRMSE:{round(rmse,2)}\")"
   ]
  },
  {
   "cell_type": "code",
   "execution_count": 52,
   "id": "7b74403a",
   "metadata": {
    "execution": {
     "iopub.execute_input": "2024-12-09T19:29:26.637493Z",
     "iopub.status.busy": "2024-12-09T19:29:26.636546Z",
     "iopub.status.idle": "2024-12-09T19:29:26.642209Z",
     "shell.execute_reply": "2024-12-09T19:29:26.641228Z"
    },
    "papermill": {
     "duration": 0.030507,
     "end_time": "2024-12-09T19:29:26.644034",
     "exception": false,
     "start_time": "2024-12-09T19:29:26.613527",
     "status": "completed"
    },
    "tags": []
   },
   "outputs": [],
   "source": [
    "from sklearn.metrics import r2_score\n",
    "score = r2_score(y_test,y_pred_2)"
   ]
  },
  {
   "cell_type": "code",
   "execution_count": 53,
   "id": "ef57bbfe",
   "metadata": {
    "execution": {
     "iopub.execute_input": "2024-12-09T19:29:26.690384Z",
     "iopub.status.busy": "2024-12-09T19:29:26.689592Z",
     "iopub.status.idle": "2024-12-09T19:29:26.696079Z",
     "shell.execute_reply": "2024-12-09T19:29:26.695018Z"
    },
    "papermill": {
     "duration": 0.031951,
     "end_time": "2024-12-09T19:29:26.698067",
     "exception": false,
     "start_time": "2024-12-09T19:29:26.666116",
     "status": "completed"
    },
    "tags": []
   },
   "outputs": [
    {
     "data": {
      "text/plain": [
       "0.9359835027337811"
      ]
     },
     "execution_count": 53,
     "metadata": {},
     "output_type": "execute_result"
    }
   ],
   "source": [
    "score"
   ]
  },
  {
   "cell_type": "code",
   "execution_count": 54,
   "id": "5e03361c",
   "metadata": {
    "execution": {
     "iopub.execute_input": "2024-12-09T19:29:26.744415Z",
     "iopub.status.busy": "2024-12-09T19:29:26.743339Z",
     "iopub.status.idle": "2024-12-09T19:29:26.750646Z",
     "shell.execute_reply": "2024-12-09T19:29:26.749513Z"
    },
    "papermill": {
     "duration": 0.032879,
     "end_time": "2024-12-09T19:29:26.752816",
     "exception": false,
     "start_time": "2024-12-09T19:29:26.719937",
     "status": "completed"
    },
    "tags": []
   },
   "outputs": [
    {
     "data": {
      "text/plain": [
       "0.914644670311708"
      ]
     },
     "execution_count": 54,
     "metadata": {},
     "output_type": "execute_result"
    }
   ],
   "source": [
    "# adjusted r-squared\n",
    "1 - (1- score)* (len(y_test)-1)/(len(y_test)-X_test.shape[1]-1)"
   ]
  },
  {
   "cell_type": "code",
   "execution_count": 55,
   "id": "16255060",
   "metadata": {
    "execution": {
     "iopub.execute_input": "2024-12-09T19:29:26.799104Z",
     "iopub.status.busy": "2024-12-09T19:29:26.798321Z",
     "iopub.status.idle": "2024-12-09T19:29:27.106413Z",
     "shell.execute_reply": "2024-12-09T19:29:27.105315Z"
    },
    "papermill": {
     "duration": 0.334217,
     "end_time": "2024-12-09T19:29:27.108555",
     "exception": false,
     "start_time": "2024-12-09T19:29:26.774338",
     "status": "completed"
    },
    "tags": []
   },
   "outputs": [
    {
     "data": {
      "image/png": "[encoded data removed]",
      "text/plain": [
       "<Figure size 800x600 with 1 Axes>"
      ]
     },
     "metadata": {},
     "output_type": "display_data"
    }
   ],
   "source": [
    "import matplotlib.pyplot as plt\n",
    "# Scatter plot of actual vs predicted values\n",
    "plt.figure(figsize=(8, 6))\n",
    "plt.scatter(y_test, y_pred_2, alpha=0.7, color='blue')\n",
    "plt.plot([min(y_test), max(y_test)], [min(y_test), max(y_test)], color='red', linestyle='--', label=\"Perfect Prediction\")\n",
    "plt.title(\"Actual vs Predicted Profits\")\n",
    "plt.xlabel(\"Actual Profits\")\n",
    "plt.ylabel(\"Predicted Profits\")\n",
    "plt.legend()\n",
    "plt.grid(True)\n",
    "plt.show()"
   ]
  }
 ],
 "metadata": {
  "kaggle": {
   "accelerator": "none",
   "dataSources": [
    {
     "datasetId": 2801174,
     "sourceId": 4834009,
     "sourceType": "datasetVersion"
    }
   ],
   "dockerImageVersionId": 30786,
   "isGpuEnabled": false,
   "isInternetEnabled": true,
   "language": "python",
   "sourceType": "notebook"
  },
  "kernelspec": {
   "display_name": "Python 3",
   "language": "python",
   "name": "python3"
  },
  "language_info": {
   "codemirror_mode": {
    "name": "ipython",
    "version": 3
   },
   "file_extension": ".py",
   "mimetype": "text/x-python",
   "name": "python",
   "nbconvert_exporter": "python",
   "pygments_lexer": "ipython3",
   "version": "3.10.14"
  },
  "papermill": {
   "default_parameters": {},
   "duration": 18.059639,
   "end_time": "2024-12-09T19:29:27.853026",
   "environment_variables": {},
   "exception": null,
   "input_path": "__notebook__.ipynb",
   "output_path": "__notebook__.ipynb",
   "parameters": {},
   "start_time": "2024-12-09T19:29:09.793387",
   "version": "2.6.0"
  }
 },
 "nbformat": 4,
 "nbformat_minor": 5
}
